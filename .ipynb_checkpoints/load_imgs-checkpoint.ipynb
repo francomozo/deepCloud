{
 "cells": [
  {
   "cell_type": "code",
   "execution_count": 7,
   "id": "freelance-invitation",
   "metadata": {},
   "outputs": [],
   "source": [
    "import cv2 as cv\n",
    "import numpy as np\n",
    "import os\n",
    "import re\n",
    "import preprocessing_functions as pf"
   ]
  },
  {
   "cell_type": "code",
   "execution_count": 4,
   "id": "viral-carolina",
   "metadata": {},
   "outputs": [],
   "source": [
    "def load_img(meta_path='data/meta',last_img_name='ART_2020020_111017.FR' ,mk_folder_path='data/C02-MK/2020',img_folder_path='data/C02-FR/2020'):\n",
    "    #meta_path = 'data/meta'\n",
    "    lats, lons = pf.read_meta(meta_path)\n",
    "    \n",
    "    dtime = pf.get_dtime(last_img_name)\n",
    "    \n",
    "    #mk_folder_path = 'data/C02-MK/2020'\n",
    "    #img_folder_path = 'data/C02-FR/2020'\n",
    "    cosangs, cos_mask = pf.get_cosangs(dtime, lats, lons)\n",
    "    img_mask = pf.load_mask(\n",
    "      last_img_name, mk_folder_path, lats.size, lons.size\n",
    "    )\n",
    "    img = pf.load_img(\n",
    "      last_img_name, img_folder_path, lats.size, lons.size\n",
    "    )\n",
    "    rimg = cv.inpaint(img, img_mask, 3, cv.INPAINT_NS)\n",
    "    rp_image = pf.normalize(rimg, cosangs, 0.15)\n",
    "    \n",
    "    return rp_image   "
   ]
  },
  {
   "cell_type": "code",
   "execution_count": null,
   "id": "beginning-equipment",
   "metadata": {},
   "outputs": [],
   "source": [
    "#FM: Save to data/images/dia_x. same filename.png\n",
    "\n",
    "images_path = \"data/images\"\n",
    "split_days_into_folders = True\n",
    "\n",
    "if split_days_into_folders:\n",
    "    for filename in os.listdir('data/C02-FR/2020'):\n",
    "        img = load_img(last_img_name=filename)\n",
    "        # equ = cv.equalizeHist(img.astype(np.uint8))\n",
    "\n",
    "        day = re.sub(\"[^0-9]\", \"\", filename)[4:7].lstrip(\"0\")\n",
    "\n",
    "        try:\n",
    "            os.mkdir(images_path + \"/dia_\" + day)\n",
    "        except:\n",
    "            pass\n",
    "\n",
    "        path = images_path + \"/dia_\" + day + \"/\" + os.path.splitext(filename)[0] + \".png\"\n",
    "\n",
    "        cv.imwrite(path, img)\n",
    "else:\n",
    "    try:\n",
    "        os.mkdir(images_path + \"loaded_images\")\n",
    "    except:\n",
    "        pass\n",
    "    for filename in os.listdir('data/C02-FR/2020'):\n",
    "        img = load_img(last_img_name=filename)\n",
    "        # equ = cv.equalizeHist(img.astype(np.uint8))\n",
    "\n",
    "        path = images_path + \"/loaded_images/\" + os.path.splitext(filename)[0] + \".png\"\n",
    "\n",
    "        cv.imwrite(path, img)\n",
    "    "
   ]
  },
  {
   "cell_type": "code",
   "execution_count": 42,
   "id": "ceramic-reset",
   "metadata": {},
   "outputs": [
    {
     "name": "stdout",
     "output_type": "stream",
     "text": [
      "dia_277 : 143\n",
      "dia_20 : 144\n",
      "dia_91 : 144\n",
      "dia_305 : 144\n",
      "Total images:  575\n",
      "Copied all True\n"
     ]
    }
   ],
   "source": [
    "#FM: check no image got lost in the code\n",
    "\n",
    "tot_images = 0 \n",
    "for subdir in os.listdir(images_path):\n",
    "    print(subdir, \":\", len(os.listdir(images_path + subdir)))\n",
    "    tot_images += len(os.listdir(images_path + subdir))\n",
    "\n",
    "print(\"Total images: \", len(os.listdir(\"data/C02-FR/2020\")))\n",
    "print(\"Copied all\", tot_images==len(os.listdir(\"data/C02-FR/2020\"))) "
   ]
  }
 ],
 "metadata": {
  "kernelspec": {
   "display_name": "Python 3",
   "language": "python",
   "name": "python3"
  },
  "language_info": {
   "codemirror_mode": {
    "name": "ipython",
    "version": 3
   },
   "file_extension": ".py",
   "mimetype": "text/x-python",
   "name": "python",
   "nbconvert_exporter": "python",
   "pygments_lexer": "ipython3",
   "version": "3.7.9"
  }
 },
 "nbformat": 4,
 "nbformat_minor": 5
}
