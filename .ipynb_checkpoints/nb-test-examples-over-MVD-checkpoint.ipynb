{
 "cells": [
  {
   "cell_type": "markdown",
   "id": "bf8b822f",
   "metadata": {},
   "source": [
    "# Notebook to load examples from the test set over MVD dataset"
   ]
  },
  {
   "cell_type": "markdown",
   "id": "2513071f",
   "metadata": {},
   "source": [
    "### Imports and setup"
   ]
  },
  {
   "cell_type": "code",
   "execution_count": 29,
   "id": "3bbc9f3d",
   "metadata": {},
   "outputs": [],
   "source": [
    "import os\n",
    "import numpy as np\n",
    "import matplotlib.pyplot as plt\n",
    "import time\n",
    "from os import listdir\n",
    "from os.path import isfile, join\n",
    "from src import data, evaluate, model, preprocessing, visualization\n",
    "from src.lib import utils\n",
    "from src.data import MontevideoFoldersDataset, MontevideoFoldersDataset_w_time, MontevideoFoldersDataset_w_CMV\n",
    "\n",
    "#Deep Learning\n",
    "import torch\n",
    "from torch.utils.data import DataLoader\n",
    "import torch.nn as nn\n",
    "\n",
    "import random\n",
    "from src.dl_models.unet import UNet, UNet2\n",
    "from src.lib.latex_options import Colors, Linestyles"
   ]
  },
  {
   "cell_type": "code",
   "execution_count": 30,
   "id": "efd24548",
   "metadata": {},
   "outputs": [],
   "source": [
    "device = torch.device('cuda') if torch.cuda.is_available() else torch.device('cpu')\n",
    "\n",
    "dataset = 'mvd'\n",
    "\n",
    "time_horizon = 30"
   ]
  },
  {
   "cell_type": "code",
   "execution_count": 11,
   "id": "9cbd391f",
   "metadata": {},
   "outputs": [],
   "source": [
    "def show_seq_and_pred(sequence_array, time_list, prediction_t, fig_name=None, grid=True):\n",
    "    \"\"\" Shows the images passed in a grid\n",
    "    Args:\n",
    "        sequence_array (array)\n",
    "    \"\"\"\n",
    "    nbof_frames = sequence_array.shape[0]\n",
    "    if np.max(sequence_array[0]) > 1.1:\n",
    "        vmax = 100\n",
    "    else:\n",
    "        vmax = 1\n",
    "    \n",
    "    fontsize = 22 # 22 generates the font more like the latex text\n",
    "    \n",
    "    # plt.figure(figsize=(25, 5))\n",
    "    fig, ax = plt.subplots(1, nbof_frames, figsize=(6 * nbof_frames, 5))\n",
    "\n",
    "    \n",
    "    for i in range(nbof_frames):\n",
    "        if i < nbof_frames - 2:\n",
    "            ax[i].imshow(sequence_array[i], vmin=0, vmax=vmax)\n",
    "            input_nbr = i - (nbof_frames - 3)\n",
    "            ax[i].set_title(f'{time_list[i]}')\n",
    "            ax[i].grid(grid)\n",
    "\n",
    "\n",
    "        if i == nbof_frames - 2:\n",
    "            im = ax[i].imshow(sequence_array[i], vmin=0, vmax=vmax)\n",
    "            cbar = plt.colorbar(im, ax=ax[i], fraction=0.046, pad=0.04)\n",
    "            ax[i].set_title(f'{time_list[-1]}')\n",
    "            ax[i].grid(grid)\n",
    "\n",
    "        if i == nbof_frames - 1:\n",
    "            im = ax[i].imshow(sequence_array[i], vmin=0, vmax=vmax)\n",
    "            cbar = plt.colorbar(im, ax=ax[i], fraction=0.046, pad=0.04)\n",
    "            ax[i].set_title(f'{time_list[-1]}')\n",
    "            ax[i].grid(grid)\n",
    "\n",
    "        if nbof_frames == 5:\n",
    "            line = plt.Line2D((.59, .59),(.1, 1), linewidth=3)\n",
    "        else:\n",
    "            line = plt.Line2D((.515, .515),(.1, 1), linewidth=3)\n",
    "        fig.add_artist(line)\n",
    "\n",
    "    plt.show()"
   ]
  },
  {
   "cell_type": "markdown",
   "id": "6873b39a",
   "metadata": {},
   "source": [
    "### Models loading"
   ]
  },
  {
   "cell_type": "code",
   "execution_count": 12,
   "id": "c460a3ad",
   "metadata": {},
   "outputs": [
    {
     "name": "stdout",
     "output_type": "stream",
     "text": [
      "Done.\n"
     ]
    }
   ],
   "source": [
    "# Unet ====================================================================\n",
    "root_path = '/clusteruy/home03/DeepCloud/deepCloud/checkpoints/MVD/'\n",
    "\n",
    "if time_horizon == 60:\n",
    "    unet16 = '60min/60min_UNET2_mvd_mae_filters16_sigmoid_diffFalse_retrainFalse_15_17-02-2022_11:13_BEST_FINAL.pt'\n",
    "elif time_horizon == 30:\n",
    "    unet16 = '30min/30min_UNET2_mvd_mae_filters16_sigmoid_diffFalse_retrainFalse_34_16-02-2022_11:26_BEST_FINAL.pt'\n",
    "else:\n",
    "    unet16 = '90min/90min_UNET2_mvd_mae_filters16_sigmoid_diffFalse_retrainFalse_16_17-02-2022_06:27_BEST_FINAL.pt'\n",
    "    \n",
    "unet16_path = os.path.join(root_path, unet16)\n",
    "\n",
    "\n",
    "OUTPUT_ACTIVATION = 'sigmoid'    \n",
    "\n",
    "unet16 = UNet2(n_channels=3,n_classes=1, bilinear=True, p=0,\n",
    "              output_activation=OUTPUT_ACTIVATION, bias=False, filters=16).to(device)\n",
    "unet16.load_state_dict(torch.load(unet16_path, map_location=torch.device('cpu'))[\"model_state_dict\"])\n",
    "unet16.eval()\n",
    "\n",
    "# wGAN ====================================================================\n",
    "wgan64_path = f'/clusteruy/home/franco.mozo/deepCloud/checkpoints/GAN_FINAL_MODELS/wgan_64fil_20eps_ph{time_horizon}min.pt'\n",
    "\n",
    "wgan_gen = UNet2(n_channels=3, n_classes=1, bilinear=True, bias=False, filters=64).to(device)\n",
    "wgan_gen.load_state_dict(torch.load(wgan64_path, map_location=torch.device('cpu'))[\"model_state_dict\"])\n",
    "wgan_gen.eval()\n",
    "\n",
    "print('Done.')"
   ]
  },
  {
   "cell_type": "code",
   "execution_count": 31,
   "id": "422d17e9",
   "metadata": {},
   "outputs": [
    {
     "ename": "NameError",
     "evalue": "name 'PATH_DATA' is not defined",
     "output_type": "error",
     "traceback": [
      "\u001b[0;31m---------------------------------------------------------------------------\u001b[0m",
      "\u001b[0;31mNameError\u001b[0m                                 Traceback (most recent call last)",
      "\u001b[0;32m<ipython-input-31-c5ec47ae2131>\u001b[0m in \u001b[0;36m<module>\u001b[0;34m\u001b[0m\n\u001b[1;32m     16\u001b[0m \u001b[0;34m\u001b[0m\u001b[0m\n\u001b[1;32m     17\u001b[0m test_mvd_CMV = MontevideoFoldersDataset_w_CMV(\n\u001b[0;32m---> 18\u001b[0;31m                                \u001b[0mpath\u001b[0m\u001b[0;34m=\u001b[0m\u001b[0mPATH_DATA\u001b[0m\u001b[0;34m,\u001b[0m\u001b[0;34m\u001b[0m\u001b[0;34m\u001b[0m\u001b[0m\n\u001b[0m\u001b[1;32m     19\u001b[0m                                \u001b[0mcmv_path\u001b[0m\u001b[0;34m=\u001b[0m\u001b[0;34mf\"/clusteruy/home03/DeepCloud/deepCloud/data/cmv/cmv_mvd_{out_channels[i]}0min/test/\"\u001b[0m\u001b[0;34m,\u001b[0m\u001b[0;34m\u001b[0m\u001b[0;34m\u001b[0m\u001b[0m\n\u001b[1;32m     20\u001b[0m                                \u001b[0min_channel\u001b[0m\u001b[0;34m=\u001b[0m\u001b[0;36m3\u001b[0m\u001b[0;34m,\u001b[0m \u001b[0mout_channel\u001b[0m\u001b[0;34m=\u001b[0m\u001b[0mout_channel\u001b[0m\u001b[0;34m,\u001b[0m\u001b[0;34m\u001b[0m\u001b[0;34m\u001b[0m\u001b[0m\n",
      "\u001b[0;31mNameError\u001b[0m: name 'PATH_DATA' is not defined"
     ]
    }
   ],
   "source": [
    "CSV_PATH = '/clusteruy/home03/DeepCloud/deepCloud/data/mvd/test_cosangs_mvd.csv' # '/clusteruy/home03/DeepCloud/deepCloud/data/region3/test_cosangs_region3.csv'\n",
    "normalize = preprocessing.normalize_pixels(mean0 = False) #values between [0,1]\n",
    "FRAME_OUT = int(time_horizon/10)\n",
    "OUTPUT_LAST = True\n",
    "\n",
    "test_mvd = MontevideoFoldersDataset_w_time(\n",
    "                path='/clusteruy/home03/DeepCloud/deepCloud/data/' + dataset + '/test/',\n",
    "                in_channel=3,\n",
    "                out_channel=FRAME_OUT,\n",
    "                min_time_diff=5,\n",
    "                max_time_diff=15,\n",
    "                csv_path=CSV_PATH,\n",
    "                transform=normalize,\n",
    "                output_last=OUTPUT_LAST\n",
    ")\n",
    "\n",
    "# test_mvd_CMV = MontevideoFoldersDataset_w_CMV(\n",
    "#                                path=PATH_DATA,  \n",
    "#                                cmv_path=f\"/clusteruy/home03/DeepCloud/deepCloud/data/cmv/cmv_mvd_{out_channels[i]}0min/test/\",\n",
    "#                                in_channel=3, out_channel=out_channel,\n",
    "#                                min_time_diff=5, max_time_diff=15,\n",
    "#                                csv_path=csv_path_unet,\n",
    "#                                transform = normalize, output_last=True,\n",
    "#                                day_pct=1)\n",
    "\n",
    "loader = DataLoader(test_mvd, batch_size=1, shuffle=True)\n",
    "iterator = iter(loader)\n",
    "# loader_CMV = DataLoader(test_mvd_CMV, batch_size=1, shuffle=False)\n",
    "# iterator_CMV = iter(loader_CMV)"
   ]
  },
  {
   "cell_type": "code",
   "execution_count": 28,
   "id": "4d568f49",
   "metadata": {},
   "outputs": [
    {
     "name": "stdout",
     "output_type": "stream",
     "text": [
      "torch.Size([1, 3, 256, 256]) torch.Size([1, 1, 256, 256])\n"
     ]
    },
    {
     "ename": "NameError",
     "evalue": "name 'iterator_CMV' is not defined",
     "output_type": "error",
     "traceback": [
      "\u001b[0;31m---------------------------------------------------------------------------\u001b[0m",
      "\u001b[0;31mNameError\u001b[0m                                 Traceback (most recent call last)",
      "\u001b[0;32m<ipython-input-28-56f334899a4e>\u001b[0m in \u001b[0;36m<module>\u001b[0;34m\u001b[0m\n\u001b[1;32m      3\u001b[0m \u001b[0mprint\u001b[0m\u001b[0;34m(\u001b[0m\u001b[0min_frames\u001b[0m\u001b[0;34m.\u001b[0m\u001b[0mshape\u001b[0m\u001b[0;34m,\u001b[0m \u001b[0mout_frames\u001b[0m\u001b[0;34m.\u001b[0m\u001b[0mshape\u001b[0m\u001b[0;34m)\u001b[0m\u001b[0;34m\u001b[0m\u001b[0;34m\u001b[0m\u001b[0m\n\u001b[1;32m      4\u001b[0m \u001b[0;34m\u001b[0m\u001b[0m\n\u001b[0;32m----> 5\u001b[0;31m \u001b[0minputs\u001b[0m\u001b[0;34m,\u001b[0m \u001b[0mtargets\u001b[0m \u001b[0;34m=\u001b[0m \u001b[0mnext\u001b[0m\u001b[0;34m(\u001b[0m\u001b[0miterator_CMV\u001b[0m\u001b[0;34m)\u001b[0m\u001b[0;34m\u001b[0m\u001b[0;34m\u001b[0m\u001b[0m\n\u001b[0m\u001b[1;32m      6\u001b[0m \u001b[0mprint\u001b[0m\u001b[0;34m(\u001b[0m\u001b[0minputs\u001b[0m\u001b[0;34m.\u001b[0m\u001b[0mshape\u001b[0m\u001b[0;34m,\u001b[0m \u001b[0mtargets\u001b[0m\u001b[0;34m.\u001b[0m\u001b[0mshape\u001b[0m\u001b[0;34m)\u001b[0m\u001b[0;34m\u001b[0m\u001b[0;34m\u001b[0m\u001b[0m\n\u001b[1;32m      7\u001b[0m \u001b[0;34m\u001b[0m\u001b[0m\n",
      "\u001b[0;31mNameError\u001b[0m: name 'iterator_CMV' is not defined"
     ]
    }
   ],
   "source": [
    "in_frames, out_frames, in_time, out_time = next(iterator)\n",
    "timestamp = out_time[0, 0]\n",
    "print(in_frames.shape, out_frames.shape)\n",
    "\n",
    "inputs, targets = next(iterator_CMV)\n",
    "print(inputs.shape, targets.shape)\n",
    "\n",
    "with torch.no_grad():\n",
    "    in_frames = in_frames.to(device=device)\n",
    "    out_frames = out_frames.to(device=device)\n",
    "    \n",
    "    frames_pred_unet16 = unet16(in_frames)\n",
    "    frames_pred_wgan_gen = wgan_gen(in_frames)\n",
    "\n",
    "    \n",
    "in_time = in_time[0].numpy()\n",
    "print(f'Prediction horizon: {time_horizon}')\n",
    "print('Day:', int(in_time[0,0]))\n",
    "\n",
    "t_6 = str(int(timestamp[1].numpy())).zfill(2) + ':' + str(int(timestamp[2].numpy())).zfill(2)\n",
    "t__2 = str(int((in_time[0][1]))).zfill(2) + ':' + str(int((in_time[0][2]))).zfill(2)\n",
    "t__1 = str(int((in_time[1][1]))).zfill(2) + ':' + str(int((in_time[1][2]))).zfill(2)\n",
    "t_0 = str(int((in_time[2][1]))).zfill(2) + ':' + str(int((in_time[2][2]))).zfill(2)\n",
    "\n",
    "time_list = [t__2, t__1, t_0, t_6]\n",
    "\n",
    "print(f'Model: U-Net')\n",
    "sequence_array_60 = np.array([\n",
    "            in_frames[0][0].cpu().numpy(),\n",
    "            in_frames[0][1].cpu().numpy(),\n",
    "            in_frames[0][2].cpu().numpy(),\n",
    "            out_frames[0][0].cpu().numpy(),\n",
    "            frames_pred_unet16[0, 0].cpu().numpy()\n",
    "])\n",
    "show_seq_and_pred(sequence_array_60,\n",
    "                  time_list=time_list,\n",
    "                  prediction_t=3,\n",
    "                  fig_name=None,\n",
    "                  grid=True\n",
    "                 )\n",
    "\n",
    "print(f'Model: wGAN')\n",
    "sequence_array_60 = np.array([\n",
    "            in_frames[0][0].cpu().numpy(),\n",
    "            in_frames[0][1].cpu().numpy(),\n",
    "            in_frames[0][2].cpu().numpy(),\n",
    "            out_frames[0][0].cpu().numpy(),\n",
    "            frames_pred_wgan_gen[0, 0].cpu().numpy()\n",
    "])\n",
    "show_seq_and_pred(sequence_array_60,\n",
    "                  time_list=time_list,\n",
    "                  prediction_t=3,\n",
    "                  fig_name=None,\n",
    "                  grid=True\n",
    "                 )\n",
    "\n",
    "print(f'Model: U-Net InputCMV')"
   ]
  }
 ],
 "metadata": {
  "kernelspec": {
   "display_name": "Python 3.8.10 64-bit ('sandbox': conda)",
   "language": "python",
   "name": "python3810jvsc74a57bd05d0d5da09606e3f8cba03b727ea465cb2962a104ad5a37a297185384c611eb35"
  },
  "language_info": {
   "codemirror_mode": {
    "name": "ipython",
    "version": 3
   },
   "file_extension": ".py",
   "mimetype": "text/x-python",
   "name": "python",
   "nbconvert_exporter": "python",
   "pygments_lexer": "ipython3",
   "version": "3.8.10"
  }
 },
 "nbformat": 4,
 "nbformat_minor": 5
}
