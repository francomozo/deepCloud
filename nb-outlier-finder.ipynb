{
 "cells": [
  {
   "cell_type": "code",
   "execution_count": 1,
   "metadata": {},
   "outputs": [],
   "source": [
    "import numpy as np\n",
    "import os\n",
    "import preprocessing_functions as pf\n",
    "import cv2 as cv\n",
    "import csv\n",
    "import pandas as pd"
   ]
  },
  {
   "cell_type": "code",
   "execution_count": 2,
   "metadata": {},
   "outputs": [],
   "source": [
    "def load_img(meta_path='/solar/sat/art-rrr/ART_G010x010RR_C010x010/meta',\n",
    "             last_img_name='ART_2020020_111017.FR' ,\n",
    "             mk_folder_path='/solar/sat/art-rrr/ART_G010x010RR_C010x010/C02-MK/2020',\n",
    "             img_folder_path='/solar/sat/art-rrr/ART_G010x010RR_C010x010/C02-FR/2020'):\n",
    " \n",
    "    lats, lons = pf.read_meta(meta_path)\n",
    "    dtime = pf.get_dtime(last_img_name)\n",
    "    cosangs, cos_mask = pf.get_cosangs(dtime, lats, lons)\n",
    "    img_mask = pf.load_mask(last_img_name, mk_folder_path, lats.size, lons.size)\n",
    "    img = pf.load_img(last_img_name, img_folder_path, lats.size, lons.size)\n",
    "    rimg = cv.inpaint(img, img_mask, 3, cv.INPAINT_NS)\n",
    "    rp_image = pf.normalize(rimg, cosangs, 0.15)\n",
    "    return rp_image  "
   ]
  },
  {
   "cell_type": "code",
   "execution_count": 7,
   "metadata": {},
   "outputs": [],
   "source": [
    "#Muy lento, buscar forma de optimizar\n",
    "#Demora 35 seg para 100 imagenes, para 51219 se espera 5 hs aprox\n",
    "\n",
    "#Load first img from folder\n",
    "\n",
    "fr_folder_path='/solar/sat/art-rrr/ART_G010x010RR_C010x010/C02-FR/2020'\n",
    "img1_filename = sorted(os.listdir(fr_folder_path))[0]\n",
    "img1 = load_img(last_img_name=img1_filename)\n",
    "\n",
    "\n",
    "#Iterate from second img to last./,;'[//,/pl\n",
    "fieldnames = ['Img1', 'Img2', 'rmse']\n",
    "\n",
    "with open(   'outliers2.csv', 'w', newline='') as csvfile:\n",
    "    writer = csv.DictWriter(csvfile, fieldnames=fieldnames)\n",
    "    writer.writeheader()\n",
    "\n",
    "    for filename in sorted(os.listdir(fr_folder_path))[1:]:\n",
    "        img2_filename = filename\n",
    "        img2 = load_img(last_img_name=img2_filename)\n",
    "        rmse = np.sqrt(np.mean((img1 - img2)**2))\n",
    "        \n",
    "        row_dict = {}\n",
    "        row_dict['Img1'] = img1_filename\n",
    "        row_dict['Img2'] = img2_filename\n",
    "        row_dict['rmse'] = rmse\n",
    "\n",
    "        writer.writerow(row_dict)\n",
    "        \n",
    "        img1 = img2\n",
    "        img1_filename = img2_filename\n",
    "    "
   ]
  },
  {
   "cell_type": "code",
   "execution_count": null,
   "metadata": {},
   "outputs": [],
   "source": []
  }
 ],
 "metadata": {
  "kernelspec": {
   "display_name": "Python 3.7.10 64-bit",
   "language": "python",
   "name": "python3710jvsc74a57bd0c565d83d2315c2f2f8fd710c98090bdbc68a077163e76b76ec8c043f9a7be235"
  },
  "language_info": {
   "codemirror_mode": {
    "name": "ipython",
    "version": 3
   },
   "file_extension": ".py",
   "mimetype": "text/x-python",
   "name": "python",
   "nbconvert_exporter": "python",
   "pygments_lexer": "ipython3",
   "version": "3.7.10"
  },
  "metadata": {
   "interpreter": {
    "hash": "11ffc019a02cc0e21e59860b66c88ea81995ce9237607e8ab2c087a287ee4867"
   }
  },
  "orig_nbformat": 2
 },
 "nbformat": 4,
 "nbformat_minor": 2
}