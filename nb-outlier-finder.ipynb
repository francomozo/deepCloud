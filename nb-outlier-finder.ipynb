{
 "cells": [
  {
   "cell_type": "code",
   "execution_count": 2,
   "metadata": {},
   "outputs": [],
   "source": [
    "import sys\n",
    "from src import model, visualization, evaluate, data\n",
    "import src.lib.useful_functions as uf\n",
    "\n",
    "from IPython.display import display, clear_output\n",
    "import numpy as np\n",
    "import yaml\n",
    "import os\n",
    "import cv2 as cv\n",
    "import csv\n",
    "import pandas as pd\n",
    "import matplotlib.pyplot as plt"
   ]
  },
  {
   "cell_type": "code",
   "execution_count": 3,
   "metadata": {},
   "outputs": [
    {
     "name": "stdout",
     "output_type": "stream",
     "text": [
      "366\n",
      "23133\n",
      "ART_2020001_000021.FR\n"
     ]
    }
   ],
   "source": [
    "df_dataset = pd.read_csv(\"reports/dataset_2020.csv\")\n",
    "print(len(df_dataset))\n",
    "night_img_list = []\n",
    "for i in range(len(df_dataset)):\n",
    "    M = len(df_dataset.values[i][3])\n",
    "    str_list = df_dataset.values[i][3][1:M-1].replace('\\'',\"\" )\n",
    "    str_list = str_list.replace(\" \", \"\")\n",
    "    lista = str_list.split(\",\")\n",
    "    \n",
    "    night_img_list = night_img_list + lista\n",
    "print(len(night_img_list))\n",
    "print(night_img_list[0] )"
   ]
  },
  {
   "cell_type": "code",
   "execution_count": 4,
   "metadata": {},
   "outputs": [],
   "source": [
    "#Muy lento, buscar forma de optimizar\n",
    "#Demora 35 seg para 100 imagenes, para 51219 se espera 5 hs aprox\n",
    "\n",
    "# fr_folder_path='/solar/sat/art-rrr/ART_G010x010RR_C010x010/C02-FR/2020'\n",
    "# mk_folder_path='/solar/sat/art-rrr/ART_G010x010RR_C010x010/C02-MK/2020'\n",
    "# meta_path='/solar/sat/art-rrr/ART_G010x010RR_C010x010/meta'\n",
    "\n",
    "# #Iterate from second img to last\n",
    "# fieldnames = ['Img','Min','Max','Mean','Black Rows','Black cols', 'Next img' , 'RMSE']\n",
    "\n",
    "# with open(   'reports/img_features.csv', 'w', newline='') as csvfile:\n",
    "#     writer = csv.DictWriter(csvfile, fieldnames=fieldnames)\n",
    "#     writer.writeheader()\n",
    "\n",
    "#     img1_filename = sorted(os.listdir(fr_folder_path))[0]\n",
    "    \n",
    "#     img1 = data.load_img(meta_path=meta_path,\n",
    "#                         img_name=img1_filename,\n",
    "#                         mk_folder_path=mk_folder_path,\n",
    "#                         img_folder_path=fr_folder_path\n",
    "#                         )\n",
    "#     for filename in sorted(os.listdir(fr_folder_path))[1:]:\n",
    "#         if (not img1_filename in night_img_list ): #no es una imagen noscturna\n",
    "#             img2_filename = filename\n",
    "#             img2 = data.load_img(meta_path=meta_path,\n",
    "#                                 img_name=img2_filename,\n",
    "#                                 mk_folder_path=mk_folder_path,\n",
    "#                                 img_folder_path=fr_folder_path\n",
    "#                                 )\n",
    "#             rmse = np.sqrt(np.mean((img1 - img2)**2))\n",
    "#             row_dict = {}\n",
    "#             row_dict['Img'] = img1_filename\n",
    "#             row_dict['Min'] = np.min(img1)\n",
    "#             row_dict['Max'] = np.max(img1)\n",
    "#             row_dict['Mean'] = np.mean(img1)\n",
    "#             row_dict['Next img'] = img2_filename\n",
    "#             row_dict['RMSE'] = rmse\n",
    "#             #horizontal black lines finder\n",
    "#             sum_cols = np.sum(img1,axis=1)\n",
    "#             aux=0\n",
    "#             counter = 0\n",
    "#             for i in range(sum_cols.shape[0]-1):\n",
    "#                 if sum_cols[i] == sum_cols[i+1] and sum_cols[i] == 0:\n",
    "#                     aux +=1\n",
    "#                 if aux > counter :\n",
    "#                     counter = aux \n",
    "#                     aux=0\n",
    "            \n",
    "#             row_dict['Black Rows'] = counter\n",
    "            \n",
    "#             #vertical black lines finder\n",
    "#             sum_rows = np.sum(img1,axis=0)\n",
    "#             aux=0\n",
    "#             counter = 0\n",
    "#             for i in range(sum_rows.shape[0]-1):\n",
    "#                 if sum_rows[i] == sum_rows[i+1] and sum_rows[i] == 0:\n",
    "#                     aux +=1\n",
    "#                 if aux > counter :\n",
    "#                     counter = aux \n",
    "#                     aux=0\n",
    "                    \n",
    "#             row_dict['Black cols'] = counter\n",
    "\n",
    "#             writer.writerow(row_dict)\n",
    "            \n",
    "#             img1 = img2\n",
    "#             img1_filename = img2_filename\n",
    "#         else: #es una imagen nocturna\n",
    "#             img1_filename = filename"
   ]
  },
  {
   "cell_type": "code",
   "execution_count": 4,
   "metadata": {},
   "outputs": [
    {
     "name": "stdout",
     "output_type": "stream",
     "text": [
      "Images analized:  28093\n"
     ]
    }
   ],
   "source": [
    "df_features = pd.read_csv(\"reports/img_features.csv\") \n",
    "# fieldnames = ['Img','Min','Max','Mean','Black Rows','Black cols', 'Next img' , 'RMSE']\n",
    "print('Images analized: ',len(df_features))"
   ]
  },
  {
   "cell_type": "code",
   "execution_count": 5,
   "metadata": {},
   "outputs": [
    {
     "data": {
      "text/plain": "count    28093.000000\nmean       202.536230\nstd         81.203407\nmin          0.000000\n25%        138.736620\n50%        189.804260\n75%        255.328500\nmax        523.169400\nName: Max, dtype: float64"
     },
     "execution_count": 5,
     "metadata": {},
     "output_type": "execute_result"
    }
   ],
   "source": [
    "df_features['Min'].describe()\n",
    "df_features['Max'].describe()"
   ]
  },
  {
   "cell_type": "code",
   "execution_count": 8,
   "metadata": {},
   "outputs": [
    {
     "name": "stdout",
     "output_type": "stream",
     "text": [
      "Min Histogram\n",
      "100.0\n",
      "(array([763]),)\n"
     ]
    },
    {
     "data": {
      "image/png": "[encoded data removed]",
      "text/plain": "<Figure size 720x360 with 1 Axes>"
     },
     "metadata": {
      "needs_background": "light"
     },
     "output_type": "display_data"
    },
    {
     "name": "stdout",
     "output_type": "stream",
     "text": [
      "Max Histogram\n"
     ]
    },
    {
     "data": {
      "image/png": "[encoded data removed]",
      "text/plain": "<Figure size 720x360 with 1 Axes>"
     },
     "metadata": {
      "needs_background": "light"
     },
     "output_type": "display_data"
    },
    {
     "name": "stdout",
     "output_type": "stream",
     "text": [
      "Mean Histogram\n"
     ]
    },
    {
     "data": {
      "image/png": "[encoded data removed]",
      "text/plain": "<Figure size 720x360 with 1 Axes>"
     },
     "metadata": {
      "needs_background": "light"
     },
     "output_type": "display_data"
    }
   ],
   "source": [
    "img_max = df_features['Max'].tolist()\n",
    "img_min = df_features['Min'].tolist()\n",
    "img_mean = df_features['Mean'].tolist()\n",
    "black_rows = df_features['Black Rows'].tolist()\n",
    "black_cols = df_features['Black cols'].tolist()\n",
    "black_rows = list(filter(lambda black_rows: black_rows >0, black_rows))\n",
    "black_cols = list(filter(lambda black_cols: black_cols >0, black_cols))\n",
    "print('Min Histogram')\n",
    "print(np.max(img_min))\n",
    "print(np.where(img_min == np.max(img_min)))\n",
    "visualization.plot_histogram(img_min,bins=10, normalize = False)\n",
    "print('Max Histogram')\n",
    "visualization.plot_histogram(img_max,bins=50, normalize= False)\n",
    "print('Mean Histogram')\n",
    "visualization.plot_histogram(img_mean,bins=50, normalize = False)"
   ]
  },
  {
   "cell_type": "code",
   "execution_count": 36,
   "metadata": {},
   "outputs": [
    {
     "name": "stdout",
     "output_type": "stream",
     "text": [
      "BLACK ROWS\n"
     ]
    },
    {
     "data": {
      "image/png": "[encoded data removed]",
      "text/plain": "<Figure size 720x360 with 1 Axes>"
     },
     "metadata": {
      "needs_background": "light"
     },
     "output_type": "display_data"
    },
    {
     "name": "stdout",
     "output_type": "stream",
     "text": [
      "BLACK COLUMNS\n"
     ]
    },
    {
     "data": {
      "image/png": "[encoded data removed]",
      "text/plain": "<Figure size 720x360 with 1 Axes>"
     },
     "metadata": {
      "needs_background": "light"
     },
     "output_type": "display_data"
    }
   ],
   "source": [
    "black_rows = df_features['Black Rows'].tolist()\n",
    "black_cols = df_features['Black cols'].tolist()\n",
    "black_rows = list(filter(lambda black_rows: black_rows >0, black_rows))\n",
    "black_cols = list(filter(lambda black_cols: black_cols >0, black_cols))\n",
    "\n",
    "print('BLACK ROWS')\n",
    "visualization.plot_histogram(black_rows,bins=50, normalize= False)\n",
    "print('BLACK COLUMNS')\n",
    "visualization.plot_histogram(black_cols,bins=50, normalize = False)"
   ]
  },
  {
   "cell_type": "code",
   "execution_count": 36,
   "metadata": {},
   "outputs": [
    {
     "name": "stdout",
     "output_type": "stream",
     "text": [
      "Cantidad imagenes: 28093\n",
      "Imagenes con filas negras: 58\n",
      "Imagenes con maximo bajo: 7\n",
      "Imagenes amaneciendo/anocheciendo: 369\n"
     ]
    }
   ],
   "source": [
    "print('Cantidad imagenes:',len(df_features))\n",
    "\n",
    "blackRow_filename = []\n",
    "low_max = []\n",
    "night = []\n",
    "\n",
    "for i in range(len(df_features)):\n",
    "    if df_features['Max'][i]> 0 and df_features['Black Rows'][i] > 0 and df_features['Mean'][i] > 1 :\n",
    "        aux = [df_features['Img'][i] ,  df_features['Black Rows'][i]]\n",
    "        blackRow_filename.append(aux )\n",
    "print('Imagenes con filas negras:',len(blackRow_filename))\n",
    "    \n",
    "for i in range(len(df_features)):\n",
    "    if 0< df_features['Max'][i] <100 and df_features['Mean'][i] > 5 :\n",
    "        aux = [df_features['Img'][i] ,  df_features['Max'][i]]\n",
    "        low_max.append(aux )\n",
    "print('Imagenes con maximo bajo:',len(low_max))\n",
    "\n",
    "for i in range(len(df_features)):\n",
    "    if df_features['Max'][i] == 0 :\n",
    "        aux = [df_features['Img'][i] ,  df_features['Mean'][i]]\n",
    "        night.append(aux)\n",
    "print('Imagenes amaneciendo/anocheciendo:', len(night))"
   ]
  },
  {
   "cell_type": "code",
   "execution_count": 37,
   "metadata": {},
   "outputs": [
    {
     "data": {
      "image/png": "[encoded data removed]",
      "text/plain": "<Figure size 936x216 with 2 Axes>"
     },
     "metadata": {
      "needs_background": "light"
     },
     "output_type": "display_data"
    },
    {
     "name": "stdout",
     "output_type": "stream",
     "text": [
      "ART_2020043_091004.FR\n",
      "mean: 1.4384724\n",
      "min: 0.0\n"
     ]
    },
    {
     "ename": "KeyboardInterrupt",
     "evalue": "",
     "output_type": "error",
     "traceback": [
      "\u001b[0;31m---------------------------------------------------------------------------\u001b[0m",
      "\u001b[0;31mKeyboardInterrupt\u001b[0m                         Traceback (most recent call last)",
      "\u001b[0;32m<ipython-input-37-33aa2957d543>\u001b[0m in \u001b[0;36m<module>\u001b[0;34m\u001b[0m\n\u001b[1;32m     21\u001b[0m     \u001b[0mprint\u001b[0m\u001b[0;34m(\u001b[0m\u001b[0;34m'mean:'\u001b[0m\u001b[0;34m,\u001b[0m\u001b[0mnp\u001b[0m\u001b[0;34m.\u001b[0m\u001b[0mmean\u001b[0m\u001b[0;34m(\u001b[0m\u001b[0mimg1\u001b[0m\u001b[0;34m)\u001b[0m\u001b[0;34m)\u001b[0m\u001b[0;34m\u001b[0m\u001b[0;34m\u001b[0m\u001b[0m\n\u001b[1;32m     22\u001b[0m     \u001b[0mprint\u001b[0m\u001b[0;34m(\u001b[0m\u001b[0;34m'min:'\u001b[0m\u001b[0;34m,\u001b[0m\u001b[0mnp\u001b[0m\u001b[0;34m.\u001b[0m\u001b[0mmin\u001b[0m\u001b[0;34m(\u001b[0m\u001b[0mimg1\u001b[0m\u001b[0;34m)\u001b[0m\u001b[0;34m)\u001b[0m\u001b[0;34m\u001b[0m\u001b[0;34m\u001b[0m\u001b[0m\n\u001b[0;32m---> 23\u001b[0;31m     \u001b[0mprint\u001b[0m\u001b[0;34m(\u001b[0m\u001b[0;34m'max:'\u001b[0m\u001b[0;34m,\u001b[0m\u001b[0mnp\u001b[0m\u001b[0;34m.\u001b[0m\u001b[0mmax\u001b[0m\u001b[0;34m(\u001b[0m\u001b[0mimg1\u001b[0m\u001b[0;34m)\u001b[0m\u001b[0;34m)\u001b[0m\u001b[0;34m\u001b[0m\u001b[0;34m\u001b[0m\u001b[0m\n\u001b[0m\u001b[1;32m     24\u001b[0m \u001b[0;34m\u001b[0m\u001b[0m\n\u001b[1;32m     25\u001b[0m \u001b[0;34m\u001b[0m\u001b[0m\n",
      "\u001b[0;32m<__array_function__ internals>\u001b[0m in \u001b[0;36mamax\u001b[0;34m(*args, **kwargs)\u001b[0m\n",
      "\u001b[0;32m~/miniconda3/envs/sandbox/lib/python3.7/site-packages/numpy/core/fromnumeric.py\u001b[0m in \u001b[0;36mamax\u001b[0;34m(a, axis, out, keepdims, initial, where)\u001b[0m\n\u001b[1;32m   2704\u001b[0m     \"\"\"\n\u001b[1;32m   2705\u001b[0m     return _wrapreduction(a, np.maximum, 'max', axis, None, out,\n\u001b[0;32m-> 2706\u001b[0;31m                           keepdims=keepdims, initial=initial, where=where)\n\u001b[0m\u001b[1;32m   2707\u001b[0m \u001b[0;34m\u001b[0m\u001b[0m\n\u001b[1;32m   2708\u001b[0m \u001b[0;34m\u001b[0m\u001b[0m\n",
      "\u001b[0;32m~/miniconda3/envs/sandbox/lib/python3.7/site-packages/numpy/core/fromnumeric.py\u001b[0m in \u001b[0;36m_wrapreduction\u001b[0;34m(obj, ufunc, method, axis, dtype, out, **kwargs)\u001b[0m\n\u001b[1;32m     85\u001b[0m                 \u001b[0;32mreturn\u001b[0m \u001b[0mreduction\u001b[0m\u001b[0;34m(\u001b[0m\u001b[0maxis\u001b[0m\u001b[0;34m=\u001b[0m\u001b[0maxis\u001b[0m\u001b[0;34m,\u001b[0m \u001b[0mout\u001b[0m\u001b[0;34m=\u001b[0m\u001b[0mout\u001b[0m\u001b[0;34m,\u001b[0m \u001b[0;34m**\u001b[0m\u001b[0mpasskwargs\u001b[0m\u001b[0;34m)\u001b[0m\u001b[0;34m\u001b[0m\u001b[0;34m\u001b[0m\u001b[0m\n\u001b[1;32m     86\u001b[0m \u001b[0;34m\u001b[0m\u001b[0m\n\u001b[0;32m---> 87\u001b[0;31m     \u001b[0;32mreturn\u001b[0m \u001b[0mufunc\u001b[0m\u001b[0;34m.\u001b[0m\u001b[0mreduce\u001b[0m\u001b[0;34m(\u001b[0m\u001b[0mobj\u001b[0m\u001b[0;34m,\u001b[0m \u001b[0maxis\u001b[0m\u001b[0;34m,\u001b[0m \u001b[0mdtype\u001b[0m\u001b[0;34m,\u001b[0m \u001b[0mout\u001b[0m\u001b[0;34m,\u001b[0m \u001b[0;34m**\u001b[0m\u001b[0mpasskwargs\u001b[0m\u001b[0;34m)\u001b[0m\u001b[0;34m\u001b[0m\u001b[0;34m\u001b[0m\u001b[0m\n\u001b[0m\u001b[1;32m     88\u001b[0m \u001b[0;34m\u001b[0m\u001b[0m\n\u001b[1;32m     89\u001b[0m \u001b[0;34m\u001b[0m\u001b[0m\n",
      "\u001b[0;31mKeyboardInterrupt\u001b[0m: "
     ]
    }
   ],
   "source": [
    "#SERVER\n",
    "fr_folder_path='/solar/sat/art-rrr/ART_G010x010RR_C010x010/C02-FR/2020'\n",
    "mk_folder_path='/solar/sat/art-rrr/ART_G010x010RR_C010x010/C02-MK/2020'\n",
    "meta_path='/solar/sat/art-rrr/ART_G010x010RR_C010x010/meta'\n",
    "\n",
    "\n",
    "comentario = []\n",
    "for filename in night:\n",
    "    \n",
    "    img_filename = filename[0]\n",
    "    #img_filename = 'ART_2020001_223021.FR'\n",
    "\n",
    "    img1 = data.load_img(meta_path=meta_path,\n",
    "                img_name=img_filename,\n",
    "                mk_folder_path=mk_folder_path,\n",
    "                img_folder_path=fr_folder_path\n",
    "        )\n",
    "\n",
    "    visualization.show_image_w_colorbar(img1)\n",
    "    print(img_filename)\n",
    "    print('mean:',np.mean(img1))\n",
    "    print('min:',np.min(img1))\n",
    "    print('max:',np.max(img1))\n",
    "    \n",
    "     \n",
    "    print('Black rows:', filename[1])\n",
    "    M,N = img1.shape\n",
    "    if (np.sum(img1[0:M//2,0:N//2])==0):\n",
    "        print('Q1 es 0')\n",
    "    if (np.sum(img1[0:M//2,N//2:N])==0):  \n",
    "        print('Q2 es 0')\n",
    "    if (np.sum(img1[M//2:M,0:N//2])==0):\n",
    "        print('Q3 es 0')\n",
    "    if (np.sum(img1[M//2:M,N//2:N])==0):\n",
    "        print('Q4 es 0')\n",
    "        \n",
    "    #comentario.append(input())\n",
    "    clear_output(wait=True)\n",
    "    "
   ]
  },
  {
   "cell_type": "code",
   "execution_count": 12,
   "metadata": {},
   "outputs": [
    {
     "name": "stdout",
     "output_type": "stream",
     "text": [
      "b\n"
     ]
    }
   ],
   "source": [
    "print(comentario[18])"
   ]
  }
 ],
 "metadata": {
  "kernelspec": {
   "display_name": "Python 3.7.10 64-bit ('sandbox': conda)",
   "name": "python3710jvsc74a57bd0c565d83d2315c2f2f8fd710c98090bdbc68a077163e76b76ec8c043f9a7be235"
  },
  "language_info": {
   "codemirror_mode": {
    "name": "ipython",
    "version": 3
   },
   "file_extension": ".py",
   "mimetype": "text/x-python",
   "name": "python",
   "nbconvert_exporter": "python",
   "pygments_lexer": "ipython3",
   "version": "3.7.10"
  },
  "metadata": {
   "interpreter": {
    "hash": "11ffc019a02cc0e21e59860b66c88ea81995ce9237607e8ab2c087a287ee4867"
   }
  },
  "orig_nbformat": 2
 },
 "nbformat": 4,
 "nbformat_minor": 2
}