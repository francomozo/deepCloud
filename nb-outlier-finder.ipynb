{
 "cells": [
  {
   "cell_type": "code",
   "execution_count": 1,
   "metadata": {},
   "outputs": [],
   "source": [
    "import sys\n",
    "from src import model, visualization, evaluate, data\n",
    "import src.lib.useful_functions as uf\n",
    "\n",
    "\n",
    "import numpy as np\n",
    "import yaml\n",
    "import os\n",
    "import cv2 as cv\n",
    "import csv\n",
    "import pandas as pd\n",
    "import matplotlib.pyplot as plt"
   ]
  },
  {
   "cell_type": "code",
   "execution_count": 7,
   "metadata": {},
   "outputs": [],
   "source": [
    "#Muy lento, buscar forma de optimizar\n",
    "#Demora 35 seg para 100 imagenes, para 51219 se espera 5 hs aprox\n",
    "\n",
    "#Load first img from folder\n",
    "\n",
    "# fr_folder_path='/solar/sat/art-rrr/ART_G010x010RR_C010x010/C02-FR/2020'\n",
    "# img1_filename = sorted(os.listdir(fr_folder_path))[0]\n",
    "# img1 = load_img(last_img_name=img1_filename)\n",
    "\n",
    "\n",
    "# #Iterate from second img to last./,;'[//,/pl\n",
    "# fieldnames = ['Img1', 'Img2', 'rmse']\n",
    "\n",
    "# with open(   'outliers2.csv', 'w', newline='') as csvfile:\n",
    "#     writer = csv.DictWriter(csvfile, fieldnames=fieldnames)\n",
    "#     writer.writeheader()\n",
    "\n",
    "#     for filename in sorted(os.listdir(fr_folder_path))[1:]:\n",
    "#         img2_filename = filename\n",
    "#         img2 = load_img(last_img_name=img2_filename)\n",
    "#         rmse = np.sqrt(np.mean((img1 - img2)**2))\n",
    "        \n",
    "#         row_dict = {}\n",
    "#         row_dict['Img1'] = img1_filename\n",
    "#         row_dict['Img2'] = img2_filename\n",
    "#         row_dict['rmse'] = rmse\n",
    "\n",
    "#         writer.writerow(row_dict)\n",
    "        \n",
    "#         img1 = img2\n",
    "#         img1_filename = img2_filename\n",
    "    "
   ]
  },
  {
   "cell_type": "code",
   "execution_count": 3,
   "metadata": {},
   "outputs": [],
   "source": [
    "df_outliers = pd.read_csv(\"reports/outliers.csv\") "
   ]
  },
  {
   "cell_type": "code",
   "execution_count": 4,
   "metadata": {},
   "outputs": [
    {
     "name": "stdout",
     "output_type": "stream",
     "text": [
      "82.01935\n",
      "5.6994169447498715\n",
      "Largo filtrado: 54\n"
     ]
    },
    {
     "data": {
      "image/png": "[encoded data removed]",
      "text/plain": "<Figure size 720x360 with 1 Axes>"
     },
     "metadata": {
      "needs_background": "light"
     },
     "output_type": "display_data"
    }
   ],
   "source": [
    "rmse = df_outliers.rmse.to_list()\n",
    "print(np.max(rmse))\n",
    "print(np.mean(rmse))\n",
    "rmse = [n for n in rmse if (n >= 25)]\n",
    "print('Largo filtrado:', len(rmse))\n",
    "\n",
    "visualization.plot_histogram(rmse,bins=50)"
   ]
  },
  {
   "cell_type": "code",
   "execution_count": 5,
   "metadata": {},
   "outputs": [
    {
     "name": "stdout",
     "output_type": "stream",
     "text": [
      "51218\n",
      "66\n"
     ]
    }
   ],
   "source": [
    "print(len(df_outliers))\n",
    "outliers_filename = []\n",
    "\n",
    "for i in range(len(df_outliers)):\n",
    "    if (df_outliers.values[i][2])>23:\n",
    "        #outliers_filename.append(df_outliers.values[i][0])\n",
    "        outliers_filename.append(df_outliers.values[i][1])\n",
    "        \n",
    "        \n",
    "\n",
    "        \n",
    "        #print(df_outliers.values[i])\n",
    "        \n",
    "print(len(outliers_filename))\n",
    "# print(len(set(outliers_filename)))\n",
    "# outliers_filename = list(set(outliers_filename))"
   ]
  },
  {
   "cell_type": "code",
   "execution_count": 6,
   "metadata": {},
   "outputs": [
    {
     "name": "stdout",
     "output_type": "stream",
     "text": [
      "66\n",
      "ART_2020244_143020.FR\n"
     ]
    },
    {
     "ename": "FileNotFoundError",
     "evalue": "[Errno 2] No such file or directory: '/solar/sat/art-rrr/ART_G010x010RR_C010x010/meta\\\\T000gri.LONvec'",
     "output_type": "error",
     "traceback": [
      "\u001b[1;31m---------------------------------------------------------------------------\u001b[0m",
      "\u001b[1;31mFileNotFoundError\u001b[0m                         Traceback (most recent call last)",
      "\u001b[1;32m<ipython-input-6-3753585d72af>\u001b[0m in \u001b[0;36m<module>\u001b[1;34m\u001b[0m\n\u001b[0;32m      9\u001b[0m \u001b[0mprint\u001b[0m\u001b[1;33m(\u001b[0m\u001b[0mimg_filename\u001b[0m\u001b[1;33m)\u001b[0m\u001b[1;33m\u001b[0m\u001b[1;33m\u001b[0m\u001b[0m\n\u001b[0;32m     10\u001b[0m \u001b[1;33m\u001b[0m\u001b[0m\n\u001b[1;32m---> 11\u001b[1;33m img1 = data.load_img(meta_path=meta_path,\n\u001b[0m\u001b[0;32m     12\u001b[0m              \u001b[0mimg_name\u001b[0m\u001b[1;33m=\u001b[0m\u001b[0mimg_filename\u001b[0m\u001b[1;33m,\u001b[0m\u001b[1;33m\u001b[0m\u001b[1;33m\u001b[0m\u001b[0m\n\u001b[0;32m     13\u001b[0m              \u001b[0mmk_folder_path\u001b[0m\u001b[1;33m=\u001b[0m\u001b[0mmk_folder_path\u001b[0m\u001b[1;33m,\u001b[0m\u001b[1;33m\u001b[0m\u001b[1;33m\u001b[0m\u001b[0m\n",
      "\u001b[1;32mc:\\Users\\Usuario\\Desktop\\codigo\\deepCloud\\src\\data.py\u001b[0m in \u001b[0;36mload_img\u001b[1;34m(meta_path, img_name, mk_folder_path, img_folder_path)\u001b[0m\n\u001b[0;32m     14\u001b[0m     ):\n\u001b[0;32m     15\u001b[0m \u001b[1;33m\u001b[0m\u001b[0m\n\u001b[1;32m---> 16\u001b[1;33m     \u001b[0mlats\u001b[0m\u001b[1;33m,\u001b[0m \u001b[0mlons\u001b[0m \u001b[1;33m=\u001b[0m \u001b[0mpf\u001b[0m\u001b[1;33m.\u001b[0m\u001b[0mread_meta\u001b[0m\u001b[1;33m(\u001b[0m\u001b[0mmeta_path\u001b[0m\u001b[1;33m)\u001b[0m\u001b[1;33m\u001b[0m\u001b[1;33m\u001b[0m\u001b[0m\n\u001b[0m\u001b[0;32m     17\u001b[0m \u001b[1;33m\u001b[0m\u001b[0m\n\u001b[0;32m     18\u001b[0m     \u001b[0mdtime\u001b[0m \u001b[1;33m=\u001b[0m \u001b[0mpf\u001b[0m\u001b[1;33m.\u001b[0m\u001b[0mget_dtime\u001b[0m\u001b[1;33m(\u001b[0m\u001b[0mimg_name\u001b[0m\u001b[1;33m)\u001b[0m\u001b[1;33m\u001b[0m\u001b[1;33m\u001b[0m\u001b[0m\n",
      "\u001b[1;32mc:\\Users\\Usuario\\Desktop\\codigo\\deepCloud\\src\\lib\\preprocessing_functions.py\u001b[0m in \u001b[0;36mread_meta\u001b[1;34m(meta_path)\u001b[0m\n\u001b[0;32m    206\u001b[0m     \u001b[1;31m# meta = np.fromfile(os.path.join(meta_path, 'T000gri.META'),\u001b[0m\u001b[1;33m\u001b[0m\u001b[1;33m\u001b[0m\u001b[1;33m\u001b[0m\u001b[0m\n\u001b[0;32m    207\u001b[0m     \u001b[1;31m#    dtype=np.float32)\u001b[0m\u001b[1;33m\u001b[0m\u001b[1;33m\u001b[0m\u001b[1;33m\u001b[0m\u001b[0m\n\u001b[1;32m--> 208\u001b[1;33m     lons = np.fromfile(\n\u001b[0m\u001b[0;32m    209\u001b[0m         \u001b[0mos\u001b[0m\u001b[1;33m.\u001b[0m\u001b[0mpath\u001b[0m\u001b[1;33m.\u001b[0m\u001b[0mjoin\u001b[0m\u001b[1;33m(\u001b[0m\u001b[0mmeta_path\u001b[0m\u001b[1;33m,\u001b[0m \u001b[1;34m\"T000gri.LONvec\"\u001b[0m\u001b[1;33m)\u001b[0m\u001b[1;33m,\u001b[0m \u001b[0mdtype\u001b[0m\u001b[1;33m=\u001b[0m\u001b[0mnp\u001b[0m\u001b[1;33m.\u001b[0m\u001b[0mfloat32\u001b[0m\u001b[1;33m\u001b[0m\u001b[1;33m\u001b[0m\u001b[0m\n\u001b[0;32m    210\u001b[0m     )\n",
      "\u001b[1;31mFileNotFoundError\u001b[0m: [Errno 2] No such file or directory: '/solar/sat/art-rrr/ART_G010x010RR_C010x010/meta\\\\T000gri.LONvec'"
     ]
    }
   ],
   "source": [
    "#SERVER\r\n",
    "fr_folder_path='/solar/sat/art-rrr/ART_G010x010RR_C010x010/C02-FR/2020'\r\n",
    "mk_folder_path='/solar/sat/art-rrr/ART_G010x010RR_C010x010/C02-MK/2020'\r\n",
    "meta_path='/solar/sat/art-rrr/ART_G010x010RR_C010x010/meta'\r\n",
    "\r\n",
    "\r\n",
    "print(len(outliers_filename))\r\n",
    "\r\n",
    "img_filename = outliers_filename[23]\r\n",
    "#img_filename = 'ART_2020010_173021.FR'\r\n",
    "print(img_filename)\r\n",
    "\r\n",
    "img1 = data.load_img(meta_path=meta_path,\r\n",
    "             img_name=img_filename,\r\n",
    "             mk_folder_path=mk_folder_path,\r\n",
    "             img_folder_path=fr_folder_path\r\n",
    "    )\r\n",
    "\r\n",
    "show_image_w_colorbar(img1)\r\n",
    "print(np.mean(img1))"
   ]
  }
 ],
 "metadata": {
  "kernelspec": {
   "display_name": "Python 3.8.5 64-bit ('base': conda)",
   "language": "python",
   "name": "python385jvsc74a57bd011ffc019a02cc0e21e59860b66c88ea81995ce9237607e8ab2c087a287ee4867"
  },
  "language_info": {
   "codemirror_mode": {
    "name": "ipython",
    "version": 3
   },
   "file_extension": ".py",
   "mimetype": "text/x-python",
   "name": "python",
   "nbconvert_exporter": "python",
   "pygments_lexer": "ipython3",
   "version": "3.8.5"
  },
  "metadata": {
   "interpreter": {
    "hash": "11ffc019a02cc0e21e59860b66c88ea81995ce9237607e8ab2c087a287ee4867"
   }
  },
  "orig_nbformat": 2
 },
 "nbformat": 4,
 "nbformat_minor": 2
}