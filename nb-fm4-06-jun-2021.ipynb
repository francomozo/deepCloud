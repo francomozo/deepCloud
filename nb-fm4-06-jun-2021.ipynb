{
 "cells": [
  {
   "cell_type": "markdown",
   "metadata": {},
   "source": [
    "# TRAINING UNET\n"
   ]
  },
  {
   "cell_type": "code",
   "execution_count": 1,
   "metadata": {},
   "outputs": [],
   "source": [
    "# 1) Imports\n",
    "import torch\n",
    "from torch import optim\n",
    "import torch.nn as nn\n",
    "from torch.utils.data import DataLoader\n",
    "\n",
    "import time\n",
    "import matplotlib.pyplot as plt\n",
    "import numpy as np\n",
    "import datetime\n",
    "\n",
    "from src.data import MontevideoFoldersDataset\n",
    "from src.dl_models.unet import UNet\n",
    "from src.lib.utils import print_cuda_memory\n",
    "from src.train import train_model"
   ]
  },
  {
   "cell_type": "code",
   "execution_count": 2,
   "metadata": {},
   "outputs": [
    {
     "output_type": "stream",
     "name": "stdout",
     "text": [
      "Using device: cuda\n"
     ]
    }
   ],
   "source": [
    "# 2) Set device \n",
    "USE_CUDA = True\n",
    "device = torch.device('cuda' if torch.cuda.is_available()\n",
    "                      and USE_CUDA else 'cpu')\n",
    "print(f'Using device: {device}')"
   ]
  },
  {
   "cell_type": "markdown",
   "metadata": {},
   "source": [
    "### GPU"
   ]
  },
  {
   "cell_type": "code",
   "execution_count": 3,
   "metadata": {},
   "outputs": [
    {
     "output_type": "stream",
     "name": "stdout",
     "text": [
      "Memory Usage:\n\t Total:                  4042.375 MB.\n\t Reserved (cached):      0.000 MB.\n\t Allocated:              0.000 MB.\n"
     ]
    }
   ],
   "source": [
    "print_cuda_memory()"
   ]
  },
  {
   "cell_type": "code",
   "execution_count": 10,
   "metadata": {},
   "outputs": [
    {
     "output_type": "stream",
     "name": "stdout",
     "text": [
      "Cuda available: True\nCuda device: 0\nLocation: <torch.cuda.device object at 0x7f1e62e801d0>\nDevice count: 1\nDevice name: GeForce GTX 1050 Ti\n"
     ]
    }
   ],
   "source": [
    "print(f'Cuda available: {torch.cuda.is_available()}')\n",
    "print(f'Cuda device: {torch.cuda.current_device()}')\n",
    "print(f'Location: {torch.cuda.device(0)}')\n",
    "print(f'Device count: {torch.cuda.device_count()}')\n",
    "print(f'Device name: {torch.cuda.get_device_name(0)}')\n",
    "# print(torch.cuda.memory_summary(abbreviated=True))"
   ]
  },
  {
   "cell_type": "code",
   "execution_count": 3,
   "metadata": {},
   "outputs": [],
   "source": [
    "# 3) Hyperparameters\n",
    "EPOCHS = 2\n",
    "BATCH_SIZE = 3 # 28 for the cluster's Tesla gpu\n",
    "\n",
    "# 4) Load data\n",
    "train_ds = MontevideoFoldersDataset(path='data/mvd/train/',    \n",
    "                                    in_channel=3,\n",
    "                                    out_channel=1)\n",
    "train_loader = DataLoader(train_ds, \n",
    "                          batch_size=BATCH_SIZE, \n",
    "                          shuffle=False, \n",
    "                          num_workers=2)\n",
    "\n",
    "val_ds = MontevideoFoldersDataset(path='data/mvd/val/',    \n",
    "                                  in_channel=3,\n",
    "                                  out_channel=1)\n",
    "val_loader = DataLoader(val_ds, \n",
    "                        batch_size=BATCH_SIZE, \n",
    "                        shuffle=True, \n",
    "                        num_workers=2)\n",
    "\n",
    "# 5) Initialize network\n",
    "model = UNet(n_channels=3,n_classes=1,bilinear=True).to(device)\n",
    "\n",
    "# 6) Loss and optimizer\n",
    "optimizer = optim.Adam(model.parameters(),\n",
    "                       lr=0.001,betas = (0.9,0.999),\n",
    "                       eps =1e-08, weight_decay=0, amsgrad=False)\n",
    "criterion = nn.MSELoss()"
   ]
  },
  {
   "cell_type": "code",
   "execution_count": 6,
   "metadata": {},
   "outputs": [
    {
     "output_type": "stream",
     "name": "stdout",
     "text": [
      "Memory Usage:\n\t Total:                  4042.375 MB.\n\t Reserved (cached):      80.000 MB.\n\t Allocated:              66.794 MB.\n"
     ]
    }
   ],
   "source": [
    "print_cuda_memory()"
   ]
  },
  {
   "cell_type": "markdown",
   "metadata": {},
   "source": [
    "### First simple training loop, just training, no validation."
   ]
  },
  {
   "cell_type": "code",
   "execution_count": 9,
   "metadata": {},
   "outputs": [
    {
     "name": "stdout",
     "output_type": "stream",
     "text": [
      "Epoch: 1/1. Batch num: 100/1683. Train loss: 64.57. Time: 0.04 seg.\n",
      "Epoch: 1/1. Batch num: 200/1683. Train loss: 58.62. Time: 0.05 seg.\n",
      "Epoch: 1/1. Batch num: 300/1683. Train loss: 72.56. Time: 0.05 seg.\n",
      "Epoch: 1/1. Batch num: 400/1683. Train loss: 137.17. Time: 0.06 seg.\n",
      "Epoch: 1/1. Batch num: 500/1683. Train loss: 122.33. Time: 0.05 seg.\n",
      "Epoch: 1/1. Batch num: 600/1683. Train loss: 3409.11. Time: 0.05 seg.\n",
      "Epoch: 1/1. Batch num: 700/1683. Train loss: 137.83. Time: 0.06 seg.\n",
      "Epoch: 1/1. Batch num: 800/1683. Train loss: 97.98. Time: 0.06 seg.\n",
      "Epoch: 1/1. Batch num: 900/1683. Train loss: 250.71. Time: 0.06 seg.\n",
      "Epoch: 1/1. Batch num: 1000/1683. Train loss: 44.89. Time: 0.06 seg.\n",
      "Epoch: 1/1. Batch num: 1100/1683. Train loss: 110.79. Time: 0.06 seg.\n",
      "Epoch: 1/1. Batch num: 1200/1683. Train loss: 164.06. Time: 0.06 seg.\n",
      "Epoch: 1/1. Batch num: 1300/1683. Train loss: 646.58. Time: 0.06 seg.\n",
      "Epoch: 1/1. Batch num: 1400/1683. Train loss: 239.44. Time: 0.06 seg.\n",
      "Epoch: 1/1. Batch num: 1500/1683. Train loss: 733.71. Time: 0.06 seg.\n",
      "Epoch: 1/1. Batch num: 1600/1683. Train loss: 4208.02. Time: 0.06 seg.\n"
     ]
    }
   ],
   "source": [
    "PRINT_EVERY = 100\n",
    "TIMES = []\n",
    "EPOCH_LOSS = []\n",
    "\n",
    "for epoch in range(EPOCHS):\n",
    "    for batch_idx, (in_frames, out_frames) in enumerate(train_loader):\n",
    "        model.train()\n",
    "        \n",
    "        start = time.time()\n",
    "        \n",
    "        # data to cuda if possible\n",
    "        in_frames = in_frames.to(device=device)\n",
    "        out_frames = out_frames.to(device=device)\n",
    "        \n",
    "        # forward\n",
    "        frames_pred = model(in_frames)\n",
    "        loss = criterion(frames_pred, out_frames)\n",
    "        \n",
    "        # backward\n",
    "        optimizer.zero_grad()\n",
    "        loss.backward()\n",
    "        \n",
    "        # print_cuda_memory()\n",
    "\n",
    "        # gradient descent or adam step\n",
    "        optimizer.step()\n",
    "        \n",
    "        end = time.time()\n",
    "        TIMES.append(end - start)\n",
    "        \n",
    "        EPOCH_LOSS.append(loss.item())\n",
    "        \n",
    "        if batch_idx > 0 and batch_idx % PRINT_EVERY == 0:\n",
    "            print(f'Epoch: {epoch + 1}/{EPOCHS}. Batch num: {batch_idx}/{len(train_loader)}. Train loss: {loss.item():.2f}. Time: {sum(TIMES)/len(TIMES):.2f} seg.')\n",
    "            TIMES = []"
   ]
  },
  {
   "cell_type": "code",
   "execution_count": 11,
   "metadata": {},
   "outputs": [
    {
     "data": {
      "image/png": "[encoded data removed]",
      "text/plain": [
       "<Figure size 432x288 with 1 Axes>"
      ]
     },
     "metadata": {
      "needs_background": "light"
     },
     "output_type": "display_data"
    }
   ],
   "source": [
    "# Loss within the epoch:\n",
    "plt.figure()\n",
    "plt.plot(EPOCH_LOSS)\n",
    "plt.show()"
   ]
  },
  {
   "cell_type": "markdown",
   "metadata": {},
   "source": [
    "### Now i add validation"
   ]
  },
  {
   "cell_type": "code",
   "execution_count": 11,
   "metadata": {},
   "outputs": [
    {
     "output_type": "error",
     "ename": "RuntimeError",
     "evalue": "CUDA out of memory. Tried to allocate 128.00 MiB (GPU 0; 3.95 GiB total capacity; 2.57 GiB already allocated; 40.94 MiB free; 2.64 GiB reserved in total by PyTorch)",
     "traceback": [
      "\u001b[0;31m---------------------------------------------------------------------------\u001b[0m",
      "\u001b[0;31mRuntimeError\u001b[0m                              Traceback (most recent call last)",
      "\u001b[0;32m<ipython-input-11-f0fd96ec06f0>\u001b[0m in \u001b[0;36m<module>\u001b[0;34m\u001b[0m\n\u001b[1;32m     20\u001b[0m \u001b[0;34m\u001b[0m\u001b[0m\n\u001b[1;32m     21\u001b[0m         \u001b[0;31m# forward\u001b[0m\u001b[0;34m\u001b[0m\u001b[0;34m\u001b[0m\u001b[0;34m\u001b[0m\u001b[0m\n\u001b[0;32m---> 22\u001b[0;31m         \u001b[0mframes_pred\u001b[0m \u001b[0;34m=\u001b[0m \u001b[0mmodel\u001b[0m\u001b[0;34m(\u001b[0m\u001b[0min_frames\u001b[0m\u001b[0;34m)\u001b[0m\u001b[0;34m\u001b[0m\u001b[0;34m\u001b[0m\u001b[0m\n\u001b[0m\u001b[1;32m     23\u001b[0m         \u001b[0mloss\u001b[0m \u001b[0;34m=\u001b[0m \u001b[0mcriterion\u001b[0m\u001b[0;34m(\u001b[0m\u001b[0mframes_pred\u001b[0m\u001b[0;34m,\u001b[0m \u001b[0mout_frames\u001b[0m\u001b[0;34m)\u001b[0m\u001b[0;34m\u001b[0m\u001b[0;34m\u001b[0m\u001b[0m\n\u001b[1;32m     24\u001b[0m \u001b[0;34m\u001b[0m\u001b[0m\n",
      "\u001b[0;32m~/anaconda3/envs/deepCloud/lib/python3.7/site-packages/torch/nn/modules/module.py\u001b[0m in \u001b[0;36m_call_impl\u001b[0;34m(self, *input, **kwargs)\u001b[0m\n\u001b[1;32m    887\u001b[0m             \u001b[0mresult\u001b[0m \u001b[0;34m=\u001b[0m \u001b[0mself\u001b[0m\u001b[0;34m.\u001b[0m\u001b[0m_slow_forward\u001b[0m\u001b[0;34m(\u001b[0m\u001b[0;34m*\u001b[0m\u001b[0minput\u001b[0m\u001b[0;34m,\u001b[0m \u001b[0;34m**\u001b[0m\u001b[0mkwargs\u001b[0m\u001b[0;34m)\u001b[0m\u001b[0;34m\u001b[0m\u001b[0;34m\u001b[0m\u001b[0m\n\u001b[1;32m    888\u001b[0m         \u001b[0;32melse\u001b[0m\u001b[0;34m:\u001b[0m\u001b[0;34m\u001b[0m\u001b[0;34m\u001b[0m\u001b[0m\n\u001b[0;32m--> 889\u001b[0;31m             \u001b[0mresult\u001b[0m \u001b[0;34m=\u001b[0m \u001b[0mself\u001b[0m\u001b[0;34m.\u001b[0m\u001b[0mforward\u001b[0m\u001b[0;34m(\u001b[0m\u001b[0;34m*\u001b[0m\u001b[0minput\u001b[0m\u001b[0;34m,\u001b[0m \u001b[0;34m**\u001b[0m\u001b[0mkwargs\u001b[0m\u001b[0;34m)\u001b[0m\u001b[0;34m\u001b[0m\u001b[0;34m\u001b[0m\u001b[0m\n\u001b[0m\u001b[1;32m    890\u001b[0m         for hook in itertools.chain(\n\u001b[1;32m    891\u001b[0m                 \u001b[0m_global_forward_hooks\u001b[0m\u001b[0;34m.\u001b[0m\u001b[0mvalues\u001b[0m\u001b[0;34m(\u001b[0m\u001b[0;34m)\u001b[0m\u001b[0;34m,\u001b[0m\u001b[0;34m\u001b[0m\u001b[0;34m\u001b[0m\u001b[0m\n",
      "\u001b[0;32m~/facultad/proyecto/deepCloud/src/dl_models/unet.py\u001b[0m in \u001b[0;36mforward\u001b[0;34m(self, x)\u001b[0m\n\u001b[1;32m    100\u001b[0m \u001b[0;34m\u001b[0m\u001b[0m\n\u001b[1;32m    101\u001b[0m     \u001b[0;32mdef\u001b[0m \u001b[0mforward\u001b[0m\u001b[0;34m(\u001b[0m\u001b[0mself\u001b[0m\u001b[0;34m,\u001b[0m \u001b[0mx\u001b[0m\u001b[0;34m)\u001b[0m\u001b[0;34m:\u001b[0m\u001b[0;34m\u001b[0m\u001b[0;34m\u001b[0m\u001b[0m\n\u001b[0;32m--> 102\u001b[0;31m         \u001b[0mx1\u001b[0m \u001b[0;34m=\u001b[0m \u001b[0mself\u001b[0m\u001b[0;34m.\u001b[0m\u001b[0minc\u001b[0m\u001b[0;34m(\u001b[0m\u001b[0mx\u001b[0m\u001b[0;34m)\u001b[0m  \u001b[0;31m# convolution (64 filters 3x3 , padd=1 )=> [BN] => ReLU) and convolution (64 filters 3x3, pad=1 )=> [BN] => ReLU)\u001b[0m\u001b[0;34m\u001b[0m\u001b[0;34m\u001b[0m\u001b[0m\n\u001b[0m\u001b[1;32m    103\u001b[0m         \u001b[0mx2\u001b[0m \u001b[0;34m=\u001b[0m \u001b[0mself\u001b[0m\u001b[0;34m.\u001b[0m\u001b[0mdown1\u001b[0m\u001b[0;34m(\u001b[0m\u001b[0mx1\u001b[0m\u001b[0;34m)\u001b[0m \u001b[0;31m# maxpool (2x2) => convolution (128 filters 3x3 , padd=1 )=> [BN] => ReLU) and convolution (128 filters 3x3, pad=1 )=> [BN] => ReLU)\u001b[0m\u001b[0;34m\u001b[0m\u001b[0;34m\u001b[0m\u001b[0m\n\u001b[1;32m    104\u001b[0m         \u001b[0mx3\u001b[0m \u001b[0;34m=\u001b[0m \u001b[0mself\u001b[0m\u001b[0;34m.\u001b[0m\u001b[0mdown2\u001b[0m\u001b[0;34m(\u001b[0m\u001b[0mx2\u001b[0m\u001b[0;34m)\u001b[0m \u001b[0;31m# maxpool (2x2) => convolution (256 filters 3x3 , padd=1 )=> [BN] => ReLU) and convolution (256 filters 3x3, pad=1 )=> [BN] => ReLU)\u001b[0m\u001b[0;34m\u001b[0m\u001b[0;34m\u001b[0m\u001b[0m\n",
      "\u001b[0;32m~/anaconda3/envs/deepCloud/lib/python3.7/site-packages/torch/nn/modules/module.py\u001b[0m in \u001b[0;36m_call_impl\u001b[0;34m(self, *input, **kwargs)\u001b[0m\n\u001b[1;32m    887\u001b[0m             \u001b[0mresult\u001b[0m \u001b[0;34m=\u001b[0m \u001b[0mself\u001b[0m\u001b[0;34m.\u001b[0m\u001b[0m_slow_forward\u001b[0m\u001b[0;34m(\u001b[0m\u001b[0;34m*\u001b[0m\u001b[0minput\u001b[0m\u001b[0;34m,\u001b[0m \u001b[0;34m**\u001b[0m\u001b[0mkwargs\u001b[0m\u001b[0;34m)\u001b[0m\u001b[0;34m\u001b[0m\u001b[0;34m\u001b[0m\u001b[0m\n\u001b[1;32m    888\u001b[0m         \u001b[0;32melse\u001b[0m\u001b[0;34m:\u001b[0m\u001b[0;34m\u001b[0m\u001b[0;34m\u001b[0m\u001b[0m\n\u001b[0;32m--> 889\u001b[0;31m             \u001b[0mresult\u001b[0m \u001b[0;34m=\u001b[0m \u001b[0mself\u001b[0m\u001b[0;34m.\u001b[0m\u001b[0mforward\u001b[0m\u001b[0;34m(\u001b[0m\u001b[0;34m*\u001b[0m\u001b[0minput\u001b[0m\u001b[0;34m,\u001b[0m \u001b[0;34m**\u001b[0m\u001b[0mkwargs\u001b[0m\u001b[0;34m)\u001b[0m\u001b[0;34m\u001b[0m\u001b[0;34m\u001b[0m\u001b[0m\n\u001b[0m\u001b[1;32m    890\u001b[0m         for hook in itertools.chain(\n\u001b[1;32m    891\u001b[0m                 \u001b[0m_global_forward_hooks\u001b[0m\u001b[0;34m.\u001b[0m\u001b[0mvalues\u001b[0m\u001b[0;34m(\u001b[0m\u001b[0;34m)\u001b[0m\u001b[0;34m,\u001b[0m\u001b[0;34m\u001b[0m\u001b[0;34m\u001b[0m\u001b[0m\n",
      "\u001b[0;32m~/facultad/proyecto/deepCloud/src/dl_models/unet.py\u001b[0m in \u001b[0;36mforward\u001b[0;34m(self, x)\u001b[0m\n\u001b[1;32m     20\u001b[0m \u001b[0;34m\u001b[0m\u001b[0m\n\u001b[1;32m     21\u001b[0m     \u001b[0;32mdef\u001b[0m \u001b[0mforward\u001b[0m\u001b[0;34m(\u001b[0m\u001b[0mself\u001b[0m\u001b[0;34m,\u001b[0m \u001b[0mx\u001b[0m\u001b[0;34m)\u001b[0m\u001b[0;34m:\u001b[0m\u001b[0;34m\u001b[0m\u001b[0;34m\u001b[0m\u001b[0m\n\u001b[0;32m---> 22\u001b[0;31m         \u001b[0;32mreturn\u001b[0m \u001b[0mself\u001b[0m\u001b[0;34m.\u001b[0m\u001b[0mdouble_conv\u001b[0m\u001b[0;34m(\u001b[0m\u001b[0mx\u001b[0m\u001b[0;34m)\u001b[0m\u001b[0;34m\u001b[0m\u001b[0;34m\u001b[0m\u001b[0m\n\u001b[0m\u001b[1;32m     23\u001b[0m \u001b[0;34m\u001b[0m\u001b[0m\n\u001b[1;32m     24\u001b[0m \u001b[0;34m\u001b[0m\u001b[0m\n",
      "\u001b[0;32m~/anaconda3/envs/deepCloud/lib/python3.7/site-packages/torch/nn/modules/module.py\u001b[0m in \u001b[0;36m_call_impl\u001b[0;34m(self, *input, **kwargs)\u001b[0m\n\u001b[1;32m    887\u001b[0m             \u001b[0mresult\u001b[0m \u001b[0;34m=\u001b[0m \u001b[0mself\u001b[0m\u001b[0;34m.\u001b[0m\u001b[0m_slow_forward\u001b[0m\u001b[0;34m(\u001b[0m\u001b[0;34m*\u001b[0m\u001b[0minput\u001b[0m\u001b[0;34m,\u001b[0m \u001b[0;34m**\u001b[0m\u001b[0mkwargs\u001b[0m\u001b[0;34m)\u001b[0m\u001b[0;34m\u001b[0m\u001b[0;34m\u001b[0m\u001b[0m\n\u001b[1;32m    888\u001b[0m         \u001b[0;32melse\u001b[0m\u001b[0;34m:\u001b[0m\u001b[0;34m\u001b[0m\u001b[0;34m\u001b[0m\u001b[0m\n\u001b[0;32m--> 889\u001b[0;31m             \u001b[0mresult\u001b[0m \u001b[0;34m=\u001b[0m \u001b[0mself\u001b[0m\u001b[0;34m.\u001b[0m\u001b[0mforward\u001b[0m\u001b[0;34m(\u001b[0m\u001b[0;34m*\u001b[0m\u001b[0minput\u001b[0m\u001b[0;34m,\u001b[0m \u001b[0;34m**\u001b[0m\u001b[0mkwargs\u001b[0m\u001b[0;34m)\u001b[0m\u001b[0;34m\u001b[0m\u001b[0;34m\u001b[0m\u001b[0m\n\u001b[0m\u001b[1;32m    890\u001b[0m         for hook in itertools.chain(\n\u001b[1;32m    891\u001b[0m                 \u001b[0m_global_forward_hooks\u001b[0m\u001b[0;34m.\u001b[0m\u001b[0mvalues\u001b[0m\u001b[0;34m(\u001b[0m\u001b[0;34m)\u001b[0m\u001b[0;34m,\u001b[0m\u001b[0;34m\u001b[0m\u001b[0;34m\u001b[0m\u001b[0m\n",
      "\u001b[0;32m~/anaconda3/envs/deepCloud/lib/python3.7/site-packages/torch/nn/modules/container.py\u001b[0m in \u001b[0;36mforward\u001b[0;34m(self, input)\u001b[0m\n\u001b[1;32m    117\u001b[0m     \u001b[0;32mdef\u001b[0m \u001b[0mforward\u001b[0m\u001b[0;34m(\u001b[0m\u001b[0mself\u001b[0m\u001b[0;34m,\u001b[0m \u001b[0minput\u001b[0m\u001b[0;34m)\u001b[0m\u001b[0;34m:\u001b[0m\u001b[0;34m\u001b[0m\u001b[0;34m\u001b[0m\u001b[0m\n\u001b[1;32m    118\u001b[0m         \u001b[0;32mfor\u001b[0m \u001b[0mmodule\u001b[0m \u001b[0;32min\u001b[0m \u001b[0mself\u001b[0m\u001b[0;34m:\u001b[0m\u001b[0;34m\u001b[0m\u001b[0;34m\u001b[0m\u001b[0m\n\u001b[0;32m--> 119\u001b[0;31m             \u001b[0minput\u001b[0m \u001b[0;34m=\u001b[0m \u001b[0mmodule\u001b[0m\u001b[0;34m(\u001b[0m\u001b[0minput\u001b[0m\u001b[0;34m)\u001b[0m\u001b[0;34m\u001b[0m\u001b[0;34m\u001b[0m\u001b[0m\n\u001b[0m\u001b[1;32m    120\u001b[0m         \u001b[0;32mreturn\u001b[0m \u001b[0minput\u001b[0m\u001b[0;34m\u001b[0m\u001b[0;34m\u001b[0m\u001b[0m\n\u001b[1;32m    121\u001b[0m \u001b[0;34m\u001b[0m\u001b[0m\n",
      "\u001b[0;32m~/anaconda3/envs/deepCloud/lib/python3.7/site-packages/torch/nn/modules/module.py\u001b[0m in \u001b[0;36m_call_impl\u001b[0;34m(self, *input, **kwargs)\u001b[0m\n\u001b[1;32m    887\u001b[0m             \u001b[0mresult\u001b[0m \u001b[0;34m=\u001b[0m \u001b[0mself\u001b[0m\u001b[0;34m.\u001b[0m\u001b[0m_slow_forward\u001b[0m\u001b[0;34m(\u001b[0m\u001b[0;34m*\u001b[0m\u001b[0minput\u001b[0m\u001b[0;34m,\u001b[0m \u001b[0;34m**\u001b[0m\u001b[0mkwargs\u001b[0m\u001b[0;34m)\u001b[0m\u001b[0;34m\u001b[0m\u001b[0;34m\u001b[0m\u001b[0m\n\u001b[1;32m    888\u001b[0m         \u001b[0;32melse\u001b[0m\u001b[0;34m:\u001b[0m\u001b[0;34m\u001b[0m\u001b[0;34m\u001b[0m\u001b[0m\n\u001b[0;32m--> 889\u001b[0;31m             \u001b[0mresult\u001b[0m \u001b[0;34m=\u001b[0m \u001b[0mself\u001b[0m\u001b[0;34m.\u001b[0m\u001b[0mforward\u001b[0m\u001b[0;34m(\u001b[0m\u001b[0;34m*\u001b[0m\u001b[0minput\u001b[0m\u001b[0;34m,\u001b[0m \u001b[0;34m**\u001b[0m\u001b[0mkwargs\u001b[0m\u001b[0;34m)\u001b[0m\u001b[0;34m\u001b[0m\u001b[0;34m\u001b[0m\u001b[0m\n\u001b[0m\u001b[1;32m    890\u001b[0m         for hook in itertools.chain(\n\u001b[1;32m    891\u001b[0m                 \u001b[0m_global_forward_hooks\u001b[0m\u001b[0;34m.\u001b[0m\u001b[0mvalues\u001b[0m\u001b[0;34m(\u001b[0m\u001b[0;34m)\u001b[0m\u001b[0;34m,\u001b[0m\u001b[0;34m\u001b[0m\u001b[0;34m\u001b[0m\u001b[0m\n",
      "\u001b[0;32m~/anaconda3/envs/deepCloud/lib/python3.7/site-packages/torch/nn/modules/conv.py\u001b[0m in \u001b[0;36mforward\u001b[0;34m(self, input)\u001b[0m\n\u001b[1;32m    397\u001b[0m \u001b[0;34m\u001b[0m\u001b[0m\n\u001b[1;32m    398\u001b[0m     \u001b[0;32mdef\u001b[0m \u001b[0mforward\u001b[0m\u001b[0;34m(\u001b[0m\u001b[0mself\u001b[0m\u001b[0;34m,\u001b[0m \u001b[0minput\u001b[0m\u001b[0;34m:\u001b[0m \u001b[0mTensor\u001b[0m\u001b[0;34m)\u001b[0m \u001b[0;34m->\u001b[0m \u001b[0mTensor\u001b[0m\u001b[0;34m:\u001b[0m\u001b[0;34m\u001b[0m\u001b[0;34m\u001b[0m\u001b[0m\n\u001b[0;32m--> 399\u001b[0;31m         \u001b[0;32mreturn\u001b[0m \u001b[0mself\u001b[0m\u001b[0;34m.\u001b[0m\u001b[0m_conv_forward\u001b[0m\u001b[0;34m(\u001b[0m\u001b[0minput\u001b[0m\u001b[0;34m,\u001b[0m \u001b[0mself\u001b[0m\u001b[0;34m.\u001b[0m\u001b[0mweight\u001b[0m\u001b[0;34m,\u001b[0m \u001b[0mself\u001b[0m\u001b[0;34m.\u001b[0m\u001b[0mbias\u001b[0m\u001b[0;34m)\u001b[0m\u001b[0;34m\u001b[0m\u001b[0;34m\u001b[0m\u001b[0m\n\u001b[0m\u001b[1;32m    400\u001b[0m \u001b[0;34m\u001b[0m\u001b[0m\n\u001b[1;32m    401\u001b[0m \u001b[0;32mclass\u001b[0m \u001b[0mConv3d\u001b[0m\u001b[0;34m(\u001b[0m\u001b[0m_ConvNd\u001b[0m\u001b[0;34m)\u001b[0m\u001b[0;34m:\u001b[0m\u001b[0;34m\u001b[0m\u001b[0;34m\u001b[0m\u001b[0m\n",
      "\u001b[0;32m~/anaconda3/envs/deepCloud/lib/python3.7/site-packages/torch/nn/modules/conv.py\u001b[0m in \u001b[0;36m_conv_forward\u001b[0;34m(self, input, weight, bias)\u001b[0m\n\u001b[1;32m    394\u001b[0m                             _pair(0), self.dilation, self.groups)\n\u001b[1;32m    395\u001b[0m         return F.conv2d(input, weight, bias, self.stride,\n\u001b[0;32m--> 396\u001b[0;31m                         self.padding, self.dilation, self.groups)\n\u001b[0m\u001b[1;32m    397\u001b[0m \u001b[0;34m\u001b[0m\u001b[0m\n\u001b[1;32m    398\u001b[0m     \u001b[0;32mdef\u001b[0m \u001b[0mforward\u001b[0m\u001b[0;34m(\u001b[0m\u001b[0mself\u001b[0m\u001b[0;34m,\u001b[0m \u001b[0minput\u001b[0m\u001b[0;34m:\u001b[0m \u001b[0mTensor\u001b[0m\u001b[0;34m)\u001b[0m \u001b[0;34m->\u001b[0m \u001b[0mTensor\u001b[0m\u001b[0;34m:\u001b[0m\u001b[0;34m\u001b[0m\u001b[0;34m\u001b[0m\u001b[0m\n",
      "\u001b[0;31mRuntimeError\u001b[0m: CUDA out of memory. Tried to allocate 128.00 MiB (GPU 0; 3.95 GiB total capacity; 2.57 GiB already allocated; 40.94 MiB free; 2.64 GiB reserved in total by PyTorch)"
     ]
    }
   ],
   "source": [
    "PRINT_EVERY = 100\n",
    "\n",
    "TIMES = []\n",
    "LOSS = []\n",
    "VAL_LOSS = []\n",
    "NUM_VAL_SAMPLES = 10\n",
    "\n",
    "for epoch in range(EPOCHS):\n",
    "    \n",
    "    start_epoch = time.time()\n",
    "    \n",
    "    for batch_idx, (in_frames, out_frames) in enumerate(train_loader):\n",
    "        model.train()\n",
    "        \n",
    "        start = time.time()\n",
    "        \n",
    "        # data to cuda if possible\n",
    "        in_frames = in_frames.to(device=device)\n",
    "        out_frames = out_frames.to(device=device)\n",
    "        \n",
    "        # forward\n",
    "        frames_pred = model(in_frames)\n",
    "        loss = criterion(frames_pred, out_frames)\n",
    "        \n",
    "        # backward\n",
    "        optimizer.zero_grad()\n",
    "        loss.backward()\n",
    "        \n",
    "        # print_cuda_memory()\n",
    "\n",
    "        # gradient descent or adam step\n",
    "        optimizer.step()\n",
    "        \n",
    "        end = time.time()\n",
    "        TIMES.append(end - start)\n",
    "        \n",
    "        LOSS.append(loss.item())\n",
    "        \n",
    "        if batch_idx > 0 and batch_idx % PRINT_EVERY == 0:\n",
    "            \n",
    "            # validation forward pass\n",
    "            model.eval()\n",
    "            \n",
    "            start = time.time()\n",
    "            \n",
    "            with torch.no_grad():\n",
    "                for val_batch_idx, (in_frames, out_frames) in enumerate(val_loader):\n",
    "\n",
    "                    in_frames = in_frames.to(device=device)\n",
    "                    out_frames = out_frames.to(device=device)\n",
    "\n",
    "                    frames_pred = model(in_frames)\n",
    "                    val_loss = criterion(frames_pred, out_frames)\n",
    "                    \n",
    "                    VAL_LOSS.append(val_loss.item())\n",
    "                    \n",
    "                    if val_batch_idx == NUM_VAL_SAMPLES:\n",
    "                        break\n",
    "            \n",
    "            end = time.time()\n",
    "            val_time = end - start\n",
    "            \n",
    "            # get statistics\n",
    "            print(f'Epoch({epoch + 1}/{EPOCHS}) | Batch({batch_idx}/{len(train_loader)}) | ', end='')\n",
    "            print(f'Train_loss({loss.item():.2f}) | Val_loss({sum(VAL_LOSS)/len(VAL_LOSS):.2f}) | ', end='')\n",
    "            print(f'Time_per_batch({sum(TIMES)/len(TIMES):.2f}s) | Val_time({val_time:.2f}s)')\n",
    "            TIMES = []\n",
    "            VAL_LOSS = []\n",
    "    \n",
    "    end_epoch = time.time()\n",
    "    epoch_time = end_epoch - start_epoch\n",
    "    print(f'Epoch({epoch + 1}/{EPOCHS}). Time elapsed: {int(epoch_time)/60:.2f} minutes.')"
   ]
  },
  {
   "source": [
    "### This next section i create a training function, teting time performance and adding features in every step"
   ],
   "cell_type": "markdown",
   "metadata": {}
  },
  {
   "source": [
    "Simple training loop with just training:"
   ],
   "cell_type": "markdown",
   "metadata": {}
  },
  {
   "cell_type": "code",
   "execution_count": 8,
   "metadata": {},
   "outputs": [],
   "source": [
    "# I need:\n",
    "#   the model, the criterion, the optimizer, the loader, the num_of_epochs, print or not\n",
    "#\n",
    "def train_model(model, \n",
    "                criterion, \n",
    "                optimizer, \n",
    "                train_loader, \n",
    "                epochs,\n",
    "                print_every=100, \n",
    "                verbose=True):\n",
    "\n",
    "    TIME = [] # temporary list to test time performance\n",
    "\n",
    "    for epoch in range(epochs):\n",
    "        for batch_idx, (in_frames, out_frames) in enumerate(train_loader):\n",
    "            model.train()\n",
    "            \n",
    "            start = time.time()\n",
    "\n",
    "            # data to cuda if possible\n",
    "            in_frames = in_frames.to(device=device)\n",
    "            out_frames = out_frames.to(device=device)\n",
    "            \n",
    "            # forward\n",
    "            frames_pred = model(in_frames)\n",
    "            loss = criterion(frames_pred, out_frames)\n",
    "            \n",
    "            # backward\n",
    "            optimizer.zero_grad()\n",
    "            loss.backward()\n",
    "            \n",
    "            # gradient descent or adam step\n",
    "            optimizer.step()\n",
    "            \n",
    "            end = time.time()\n",
    "            TIME.append(end - start)   \n",
    "\n",
    "            if verbose and batch_idx > 0 and batch_idx % print_every == 0:\n",
    "                status = f'Epoch: {epoch + 1}/{EPOCHS}. Batch num: {batch_idx}/{len(train_loader)}. Train loss: {loss.item():.2f}. Time_per_batch: {sum(TIME)/len(TIME):.2f} seg.'\n",
    "                print(status)\n",
    "\n",
    "                TIME = []\n",
    "            if batch_idx == 50:\n",
    "                break\n",
    "\n",
    "        "
   ]
  },
  {
   "cell_type": "code",
   "execution_count": 11,
   "metadata": {},
   "outputs": [
    {
     "output_type": "stream",
     "name": "stdout",
     "text": [
      "Epoch: 1/1. Batch num: 10/5609. Train loss: 645.59. Time_per_batch: 0.35 seg.\n",
      "Epoch: 1/1. Batch num: 20/5609. Train loss: 3.36. Time_per_batch: 0.35 seg.\n",
      "Epoch: 1/1. Batch num: 30/5609. Train loss: 468.13. Time_per_batch: 0.34 seg.\n",
      "Epoch: 1/1. Batch num: 40/5609. Train loss: 428.40. Time_per_batch: 0.35 seg.\n",
      "Epoch: 1/1. Batch num: 50/5609. Train loss: 144.17. Time_per_batch: 0.35 seg.\n"
     ]
    }
   ],
   "source": [
    "# This cell is for testing the functions\n",
    "USE_CUDA = True\n",
    "device = torch.device('cuda' if torch.cuda.is_available()\n",
    "                      and USE_CUDA else 'cpu')\n",
    "\n",
    "EPOCHS = 1\n",
    "BATCH_SIZE = 3 # 28 for the cluster's Tesla gpu\n",
    "\n",
    "train_ds = MontevideoFoldersDataset(path='data/mvd/train/',    \n",
    "                                    in_channel=3,\n",
    "                                    out_channel=1)\n",
    "train_loader = DataLoader(train_ds, \n",
    "                          batch_size=BATCH_SIZE, \n",
    "                          shuffle=False, \n",
    "                          num_workers=2)\n",
    "\n",
    "val_ds = MontevideoFoldersDataset(path='data/mvd/val/',    \n",
    "                                  in_channel=3,\n",
    "                                  out_channel=1)\n",
    "val_loader = DataLoader(val_ds, \n",
    "                        batch_size=BATCH_SIZE, \n",
    "                        shuffle=True, \n",
    "                        num_workers=2)\n",
    "\n",
    "model = UNet(n_channels=3, n_classes=1, bilinear=True).to(device)\n",
    "\n",
    "optimizer = optim.Adam(model.parameters(),\n",
    "                       lr=0.001,betas = (0.9,0.999),\n",
    "                       eps =1e-08, weight_decay=0, amsgrad=False)\n",
    "criterion = nn.MSELoss()\n",
    "\n",
    "# Test the function\n",
    "train_model(model=model, \n",
    "            criterion=criterion, \n",
    "            optimizer=optimizer, \n",
    "            train_loader=train_loader, \n",
    "            epochs=EPOCHS,\n",
    "            print_every=10)"
   ]
  },
  {
   "source": [
    "Just using training and no other feature, each batch takes 0.35seg to complete. If its 5609 batches, one epoch takes 32 min.\n",
    "\n",
    "The next section i add validation"
   ],
   "cell_type": "markdown",
   "metadata": {}
  },
  {
   "cell_type": "code",
   "execution_count": 62,
   "metadata": {},
   "outputs": [],
   "source": [
    "# I add the val_loader as input to the function, and num_val_samples\n",
    "def train_model(model, \n",
    "                criterion, \n",
    "                optimizer, \n",
    "                train_loader,\n",
    "                val_loader,\n",
    "                epochs,\n",
    "                print_every=100, \n",
    "                verbose=True,\n",
    "                num_val_samples=10):\n",
    "\n",
    "    TIME = [] # temporary list to test time performance\n",
    "    VAL_LOSS = []\n",
    "\n",
    "    for epoch in range(epochs):\n",
    "        for batch_idx, (in_frames, out_frames) in enumerate(train_loader):\n",
    "            model.train()\n",
    "            \n",
    "            start = time.time()\n",
    "\n",
    "            # data to cuda if possible\n",
    "            in_frames = in_frames.to(device=device)\n",
    "            out_frames = out_frames.to(device=device)\n",
    "            \n",
    "            # forward\n",
    "            frames_pred = model(in_frames)\n",
    "            loss = criterion(frames_pred, out_frames)\n",
    "            \n",
    "            # backward\n",
    "            optimizer.zero_grad()\n",
    "            loss.backward()\n",
    "            \n",
    "            # gradient descent or adam step\n",
    "            optimizer.step()\n",
    "            \n",
    "            end = time.time()\n",
    "\n",
    "            TIME.append(end - start)   \n",
    "\n",
    "            if verbose and batch_idx > 0 and batch_idx % print_every == 0:\n",
    "                model.eval()\n",
    "                \n",
    "                start = time.time()\n",
    "                \n",
    "                with torch.no_grad():\n",
    "                    for val_batch_idx, (in_frames, out_frames) in enumerate(val_loader):\n",
    "\n",
    "                        in_frames = in_frames.to(device=device)\n",
    "                        out_frames = out_frames.to(device=device)\n",
    "\n",
    "                        frames_pred = model(in_frames)\n",
    "                        val_loss = criterion(frames_pred, out_frames)\n",
    "                        \n",
    "                        VAL_LOSS.append(val_loss.item())\n",
    "                        \n",
    "                        if val_batch_idx == num_val_samples:\n",
    "                            break\n",
    "                \n",
    "                end = time.time()\n",
    "                val_time = end - start\n",
    "\n",
    "                # get statistics\n",
    "                print(f'Epoch({epoch + 1}/{EPOCHS}) | Batch({batch_idx:04d}/{len(train_loader)}) | ', end='')\n",
    "                print(f'Train_loss({(loss.item()):06.2f}) | Val_loss({sum(VAL_LOSS)/len(VAL_LOSS):.2f}) | ', end='')\n",
    "                print(f'Time_per_batch({sum(TIME)/len(TIME):.2f}s) | Val_time({val_time:.2f}s)')\n",
    "                TIME = []\n",
    "\n",
    "                VAL_LOSS = []\n",
    "                \n",
    "            if batch_idx == 50:\n",
    "                break"
   ]
  },
  {
   "cell_type": "code",
   "execution_count": 65,
   "metadata": {},
   "outputs": [
    {
     "output_type": "stream",
     "name": "stdout",
     "text": [
      "Epoch(1/1) | Batch(0010/5609) | Train_loss(246.84) | Val_loss(80.26) | Time_per_batch(0.36s) | Val_time(2.20s)\n",
      "Epoch(1/1) | Batch(0020/5609) | Train_loss(191.09) | Val_loss(217.51) | Time_per_batch(0.36s) | Val_time(2.19s)\n",
      "Epoch(1/1) | Batch(0030/5609) | Train_loss(191.78) | Val_loss(322.47) | Time_per_batch(0.36s) | Val_time(2.21s)\n",
      "Epoch(1/1) | Batch(0040/5609) | Train_loss(135.88) | Val_loss(326.60) | Time_per_batch(0.38s) | Val_time(2.71s)\n",
      "Exception ignored in: <function _MultiProcessingDataLoaderIter.__del__ at 0x7fc911ec6b90>\n",
      "Traceback (most recent call last):\n",
      "  File \"/home/franco/anaconda3/envs/deepCloud/lib/python3.7/site-packages/torch/utils/data/dataloader.py\", line 1324, in __del__\n",
      "    self._shutdown_workers()\n",
      "  File \"/home/franco/anaconda3/envs/deepCloud/lib/python3.7/site-packages/torch/utils/data/dataloader.py\", line 1316, in _shutdown_workers\n",
      "    if w.is_alive():\n",
      "  File \"/home/franco/anaconda3/envs/deepCloud/lib/python3.7/multiprocessing/process.py\", line 151, in is_alive\n",
      "    assert self._parent_pid == os.getpid(), 'can only test a child process'\n",
      "AssertionError: can only test a child process\n",
      "Exception ignored in: <function _MultiProcessingDataLoaderIter.__del__ at 0x7fc911ec6b90>\n",
      "Traceback (most recent call last):\n",
      "  File \"/home/franco/anaconda3/envs/deepCloud/lib/python3.7/site-packages/torch/utils/data/dataloader.py\", line 1324, in __del__\n",
      "    self._shutdown_workers()\n",
      "  File \"/home/franco/anaconda3/envs/deepCloud/lib/python3.7/site-packages/torch/utils/data/dataloader.py\", line 1316, in _shutdown_workers\n",
      "    if w.is_alive():\n",
      "  File \"/home/franco/anaconda3/envs/deepCloud/lib/python3.7/multiprocessing/process.py\", line 151, in is_alive\n",
      "    assert self._parent_pid == os.getpid(), 'can only test a child process'\n",
      "AssertionError: can only test a child process\n",
      "Epoch(1/1) | Batch(0050/5609) | Train_loss(033.68) | Val_loss(284.90) | Time_per_batch(0.39s) | Val_time(2.04s)\n"
     ]
    }
   ],
   "source": [
    "# Test the function\n",
    "train_model(model=model, \n",
    "            criterion=criterion, \n",
    "            optimizer=optimizer, \n",
    "            train_loader=train_loader,\n",
    "            val_loader=val_loader,\n",
    "            epochs=EPOCHS,\n",
    "            print_every=10)"
   ]
  },
  {
   "source": [
    "Time is the same, the time it takes for the validation depends on the validation size.\n",
    "\n",
    "The next step is to save the model every x epochs"
   ],
   "cell_type": "markdown",
   "metadata": {}
  },
  {
   "cell_type": "code",
   "execution_count": 2,
   "metadata": {},
   "outputs": [
    {
     "output_type": "stream",
     "name": "stdout",
     "text": [
      "Epoch(1/1) | Batch(0010/5609) | Train_loss(632.43) | Val_loss(13106.52) | \n",
      "Epoch(1/1) | Batch(0020/5609) | Train_loss(004.98) | Val_loss(236.17) | \n",
      "Epoch(1/1) | Batch(0030/5609) | Train_loss(459.07) | Val_loss(328.55) | \n",
      "Epoch(1/1) | Batch(0040/5609) | Train_loss(418.59) | Val_loss(349.07) | \n",
      "Epoch(1/1) | Batch(0050/5609) | Train_loss(139.21) | Val_loss(431.44) | \n",
      "Epoch(1/1) | Batch(0060/5609) | Train_loss(455.01) | Val_loss(343.40) | \n",
      "Epoch(1/1) | Batch(0070/5609) | Train_loss(3831.36) | Val_loss(551.57) | \n",
      "Epoch(1/1) | Batch(0080/5609) | Train_loss(4357.59) | Val_loss(650.10) | \n",
      "Epoch(1/1) | Batch(0090/5609) | Train_loss(013.40) | Val_loss(1268.59) | \n",
      "Epoch(1/1) | Batch(0100/5609) | Train_loss(275.49) | Val_loss(634.49) | \n",
      "Epoch(1/1) | Batch(0110/5609) | Train_loss(327.54) | Val_loss(814.38) | \n",
      "Epoch(1/1) | Batch(0120/5609) | Train_loss(182.63) | Val_loss(893.65) | \n",
      "Epoch(1/1) | Batch(0130/5609) | Train_loss(1813.20) | Val_loss(961.61) | \n",
      "Epoch(1/1) | Batch(0140/5609) | Train_loss(1764.40) | Val_loss(914.32) | \n",
      "Epoch(1/1) | Batch(0150/5609) | Train_loss(125.04) | Val_loss(857.88) | \n",
      "Epoch(1/1) | Batch(0160/5609) | Train_loss(018.54) | Val_loss(897.53) | \n",
      "Epoch(1/1) | Batch(0170/5609) | Train_loss(018.27) | Val_loss(674.47) | \n",
      "Epoch(1/1) | Batch(0180/5609) | Train_loss(730.04) | Val_loss(1059.82) | \n",
      "Epoch(1/1) | Batch(0190/5609) | Train_loss(1915.68) | Val_loss(735.20) | \n",
      "Epoch(1/1) | Batch(0200/5609) | Train_loss(130.12) | Val_loss(184.53) | \n",
      "Epoch(1/1) | Batch(0210/5609) | Train_loss(300.77) | Val_loss(638.48) | \n",
      "Epoch(1/1) | Batch(0220/5609) | Train_loss(120.76) | Val_loss(291.38) | \n",
      "Epoch(1/1) | Batch(0230/5609) | Train_loss(039.76) | Val_loss(591.45) | \n",
      "Epoch(1/1) | Batch(0240/5609) | Train_loss(003.88) | Val_loss(161.88) | \n",
      "Epoch(1/1) | Batch(0250/5609) | Train_loss(003.63) | Val_loss(192.21) | \n",
      "Epoch(1/1) | Batch(0260/5609) | Train_loss(004.40) | Val_loss(195.86) | \n",
      "Epoch(1/1) | Batch(0270/5609) | Train_loss(007.47) | Val_loss(129.67) | \n",
      "Epoch(1/1) | Batch(0280/5609) | Train_loss(295.22) | Val_loss(385.70) | \n",
      "Epoch(1/1) | Batch(0290/5609) | Train_loss(168.81) | Val_loss(190.29) | \n",
      "Epoch(1/1) | Batch(0300/5609) | Train_loss(064.71) | Val_loss(716.75) | \n",
      "Epoch(1/1) | Batch(0310/5609) | Train_loss(156.21) | Val_loss(759.03) | \n",
      "Epoch(1/1) | Batch(0320/5609) | Train_loss(067.97) | Val_loss(786.42) | \n",
      "Epoch(1/1) | Batch(0330/5609) | Train_loss(068.88) | Val_loss(401.82) | \n",
      "Epoch(1/1) | Batch(0340/5609) | Train_loss(190.15) | Val_loss(396.23) | \n",
      "Epoch(1/1) | Batch(0350/5609) | Train_loss(1062.43) | Val_loss(516.08) | \n",
      "Epoch(1/1) | Batch(0360/5609) | Train_loss(158.37) | Val_loss(404.58) | \n",
      "Epoch(1/1) | Batch(0370/5609) | Train_loss(039.36) | Val_loss(240.60) | \n",
      "Epoch(1/1) | Batch(0380/5609) | Train_loss(042.89) | Val_loss(153.41) | \n",
      "Epoch(1/1) | Batch(0390/5609) | Train_loss(029.96) | Val_loss(107.07) | \n",
      "Traceback (most recent call last):\n",
      "  File \"/home/franco/anaconda3/envs/deepCloud/lib/python3.7/multiprocessing/queues.py\", line 242, in _feed\n",
      "    send_bytes(obj)\n",
      "  File \"/home/franco/anaconda3/envs/deepCloud/lib/python3.7/multiprocessing/connection.py\", line 200, in send_bytes\n",
      "    self._send_bytes(m[offset:offset + size])\n",
      "  File \"/home/franco/anaconda3/envs/deepCloud/lib/python3.7/multiprocessing/connection.py\", line 404, in _send_bytes\n",
      "    self._send(header + buf)\n",
      "  File \"/home/franco/anaconda3/envs/deepCloud/lib/python3.7/multiprocessing/connection.py\", line 368, in _send\n",
      "    n = write(self._handle, buf)\n",
      "BrokenPipeError: [Errno 32] Broken pipe\n"
     ]
    },
    {
     "output_type": "error",
     "ename": "KeyboardInterrupt",
     "evalue": "",
     "traceback": [
      "\u001b[0;31m---------------------------------------------------------------------------\u001b[0m",
      "\u001b[0;31mKeyboardInterrupt\u001b[0m                         Traceback (most recent call last)",
      "\u001b[0;32m<ipython-input-2-01d182a5d2c7>\u001b[0m in \u001b[0;36m<module>\u001b[0;34m\u001b[0m\n\u001b[1;32m     38\u001b[0m             \u001b[0mnum_val_samples\u001b[0m\u001b[0;34m=\u001b[0m\u001b[0;36m10\u001b[0m\u001b[0;34m,\u001b[0m\u001b[0;34m\u001b[0m\u001b[0;34m\u001b[0m\u001b[0m\n\u001b[1;32m     39\u001b[0m             \u001b[0mcheckpoint_every\u001b[0m\u001b[0;34m=\u001b[0m\u001b[0;36m1\u001b[0m\u001b[0;34m,\u001b[0m\u001b[0;34m\u001b[0m\u001b[0;34m\u001b[0m\u001b[0m\n\u001b[0;32m---> 40\u001b[0;31m             print_every=10)\n\u001b[0m",
      "\u001b[0;32m~/facultad/proyecto/deepCloud/src/train.py\u001b[0m in \u001b[0;36mtrain_model\u001b[0;34m(model, criterion, optimizer, device, train_loader, epochs, val_loader, num_val_samples, checkpoint_every, verbose, print_every)\u001b[0m\n\u001b[1;32m     76\u001b[0m                         \u001b[0mval_loss\u001b[0m \u001b[0;34m=\u001b[0m \u001b[0mcriterion\u001b[0m\u001b[0;34m(\u001b[0m\u001b[0mframes_pred\u001b[0m\u001b[0;34m,\u001b[0m \u001b[0mout_frames\u001b[0m\u001b[0;34m)\u001b[0m\u001b[0;34m\u001b[0m\u001b[0;34m\u001b[0m\u001b[0m\n\u001b[1;32m     77\u001b[0m \u001b[0;34m\u001b[0m\u001b[0m\n\u001b[0;32m---> 78\u001b[0;31m                         \u001b[0mVAL_LOSS\u001b[0m\u001b[0;34m.\u001b[0m\u001b[0mappend\u001b[0m\u001b[0;34m(\u001b[0m\u001b[0mval_loss\u001b[0m\u001b[0;34m.\u001b[0m\u001b[0mitem\u001b[0m\u001b[0;34m(\u001b[0m\u001b[0;34m)\u001b[0m\u001b[0;34m)\u001b[0m\u001b[0;34m\u001b[0m\u001b[0;34m\u001b[0m\u001b[0m\n\u001b[0m\u001b[1;32m     79\u001b[0m \u001b[0;34m\u001b[0m\u001b[0m\n\u001b[1;32m     80\u001b[0m                         \u001b[0;32mif\u001b[0m \u001b[0mval_batch_idx\u001b[0m \u001b[0;34m==\u001b[0m \u001b[0mnum_val_samples\u001b[0m\u001b[0;34m:\u001b[0m\u001b[0;34m\u001b[0m\u001b[0;34m\u001b[0m\u001b[0m\n",
      "\u001b[0;31mKeyboardInterrupt\u001b[0m: "
     ]
    }
   ],
   "source": [
    "USE_CUDA = True\n",
    "device = torch.device('cuda' if torch.cuda.is_available()\n",
    "                      and USE_CUDA else 'cpu')\n",
    "\n",
    "EPOCHS = 1\n",
    "BATCH_SIZE = 3 # 28 for the cluster's Tesla gpu\n",
    "\n",
    "train_ds = MontevideoFoldersDataset(path='data/mvd/train/',    \n",
    "                                    in_channel=3,\n",
    "                                    out_channel=1)\n",
    "train_loader = DataLoader(train_ds, \n",
    "                          batch_size=BATCH_SIZE, \n",
    "                          shuffle=False, \n",
    "                          num_workers=2)\n",
    "\n",
    "val_ds = MontevideoFoldersDataset(path='data/mvd/val/',    \n",
    "                                  in_channel=3,\n",
    "                                  out_channel=1)\n",
    "val_loader = DataLoader(val_ds, \n",
    "                        batch_size=BATCH_SIZE, \n",
    "                        shuffle=True, \n",
    "                        num_workers=2)\n",
    "\n",
    "model = UNet(n_channels=3, n_classes=1, bilinear=True).to(device)\n",
    "\n",
    "optimizer = optim.Adam(model.parameters(),\n",
    "                       lr=0.001,betas = (0.9,0.999),\n",
    "                       eps =1e-08, weight_decay=0, amsgrad=False)\n",
    "criterion = nn.MSELoss()\n",
    "\n",
    "train_model(model=model, \n",
    "            criterion=criterion, \n",
    "            optimizer=optimizer, \n",
    "            device=device,\n",
    "            train_loader=train_loader,\n",
    "            epochs=EPOCHS,\n",
    "            val_loader=val_loader,\n",
    "            num_val_samples=10,\n",
    "            checkpoint_every=1,\n",
    "            print_every=10)"
   ]
  }
 ],
 "metadata": {
  "accelerator": "GPU",
  "colab": {
   "collapsed_sections": [],
   "name": "nb-franco.ipynb",
   "provenance": []
  },
  "kernelspec": {
   "name": "python379jvsc74a57bd01692869be86ba92b40af78df7642a376ccb4e2a90936faa17e1baa3df23cdb05",
   "display_name": "Python 3.7.9 64-bit ('deepCloud': conda)"
  },
  "language_info": {
   "codemirror_mode": {
    "name": "ipython",
    "version": 3
   },
   "file_extension": ".py",
   "mimetype": "text/x-python",
   "name": "python",
   "nbconvert_exporter": "python",
   "pygments_lexer": "ipython3",
   "version": "3.7.9"
  }
 },
 "nbformat": 4,
 "nbformat_minor": 1
}