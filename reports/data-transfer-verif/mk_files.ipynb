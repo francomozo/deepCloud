{
 "metadata": {
  "language_info": {
   "codemirror_mode": {
    "name": "ipython",
    "version": 3
   },
   "file_extension": ".py",
   "mimetype": "text/x-python",
   "name": "python",
   "nbconvert_exporter": "python",
   "pygments_lexer": "ipython3",
   "version": "3.7.10"
  },
  "orig_nbformat": 2,
  "kernelspec": {
   "name": "python3710jvsc74a57bd0c565d83d2315c2f2f8fd710c98090bdbc68a077163e76b76ec8c043f9a7be235",
   "display_name": "Python 3.7.10 64-bit ('sandbox': conda)"
  }
 },
 "nbformat": 4,
 "nbformat_minor": 2,
 "cells": [
  {
   "cell_type": "code",
   "execution_count": 1,
   "metadata": {},
   "outputs": [],
   "source": [
    "import numpy as np\n",
    "import os\n"
   ]
  },
  {
   "cell_type": "code",
   "execution_count": 6,
   "metadata": {},
   "outputs": [
    {
     "output_type": "stream",
     "name": "stdout",
     "text": [
      "2424\n"
     ]
    }
   ],
   "source": [
    "\n",
    "with open('ls_mk_files.txt') as f:\n",
    "    transfered = f.read().splitlines()\n",
    "\n",
    "with open('train_MK.txt') as f:\n",
    "    to_transfer = f.read().splitlines()\n",
    "\n",
    "\n",
    "diff = [x for x in to_transfer if x not in transfered]\n"
   ]
  },
  {
   "cell_type": "code",
   "execution_count": 7,
   "metadata": {},
   "outputs": [],
   "source": [
    "with open(\"diff.txt\", \"w\") as output:\n",
    "    for img in diff:\n",
    "        output.write(img + \"\\n\")"
   ]
  }
 ]
}