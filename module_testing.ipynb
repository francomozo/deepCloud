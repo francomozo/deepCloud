{
 "cells": [
  {
   "cell_type": "code",
   "execution_count": 1,
   "metadata": {},
   "outputs": [],
   "source": [
    "import sys\r\n",
    "import model as model\r\n",
    "import visualization as visualization\r\n",
    "import evaluate as evaluate\r\n",
    "import data as data\r\n",
    "\r\n",
    "import numpy as np\r\n",
    "#import pandas as pd"
   ]
  },
  {
   "cell_type": "code",
   "execution_count": 2,
   "metadata": {},
   "outputs": [],
   "source": [
    "#RUN ONLY TO SAVE IMAGES LOCALLY\r\n",
    "\r\n",
    "# data.save_imgs_2npy(meta_path='data/meta',\r\n",
    "#             mk_folder_path='data/C02-MK/2020',\r\n",
    "#             img_folder_path='data/C02-FR/2020',\r\n",
    "#             destintation_path='data/images',\r\n",
    "#             split_days_into_folders=True\r\n",
    "#     )"
   ]
  },
  {
   "cell_type": "code",
   "execution_count": 2,
   "metadata": {},
   "outputs": [],
   "source": [
    "#LOAD WHOLE DAY\r\n",
    "images_20, timestamp_20 = data.load_images_from_folder('data/images/dia_20',cutUruguay = True)"
   ]
  },
  {
   "cell_type": "code",
   "execution_count": 4,
   "metadata": {},
   "outputs": [
    {
     "name": "stdout",
     "output_type": "stream",
     "text": [
      "persistence returned 5 images\n",
      "timestamp of input image 2020-01-20 13:20:17\n",
      "timestamp of predicted images DatetimeIndex(['2020-01-20 13:30:17', '2020-01-20 13:40:17',\n",
      "               '2020-01-20 13:50:17', '2020-01-20 14:00:17',\n",
      "               '2020-01-20 14:10:17'],\n",
      "              dtype='datetime64[ns]', freq='10T')\n"
     ]
    }
   ],
   "source": [
    "#TEST model.persitence RETURN\r\n",
    "predictions, predict_ts = model.persitence(images_20[80], timestamp_20[80], predict_horizon = 5)\r\n",
    "print('persistence returned', len(predictions), 'images')\r\n",
    "print('timestamp of input image',timestamp_20[80])\r\n",
    "print('timestamp of predicted images', predict_ts)"
   ]
  },
  {
   "cell_type": "code",
   "execution_count": 5,
   "metadata": {},
   "outputs": [
    {
     "name": "stdout",
     "output_type": "stream",
     "text": [
      "error comparing with same image [48.1308036086791]\n",
      "error comparing with next images in ground truth [25.78515217138746, 23.85625395914225, 22.762198101362976, 22.145509987881354, 21.85083603009314]\n"
     ]
    }
   ],
   "source": [
    "#TEST evaluate.evaluate_image RETURN\r\n",
    "\r\n",
    "predict_itself = evaluate.evaluate_image(predictions[0], images_20[80], metric='PSNR',  pixel_max_value =255) \r\n",
    "predict_errors = evaluate.evaluate_image(predictions, images_20[81:86], metric='PSNR',  pixel_max_value =255)\r\n",
    "print('error comparing with same image', predict_itself)\r\n",
    "print('error comparing with next images in ground truth' , predict_errors)"
   ]
  },
  {
   "cell_type": "code",
   "execution_count": 4,
   "metadata": {},
   "outputs": [
    {
     "name": "stdout",
     "output_type": "stream",
     "text": [
      "Predicted for 144 images\n",
      "(144, 10)\n"
     ]
    }
   ],
   "source": [
    "#ERROR CALCULATOR WHEN WHOLE DAY LOADED\r\n",
    "\r\n",
    "predict_horizon = 10\r\n",
    "error_p_list =[] #used for persistence\r\n",
    "error_bp_list =[] #used for blurred persistence\r\n",
    "\r\n",
    "for i in range(len(images_20)):\r\n",
    "    if (i < len(images_20)-predict_horizon):\r\n",
    "        predictions_p, _ = model.persitence(images_20[i], timestamp_20[i], predict_horizon)\r\n",
    "        predictions_bp, _ = model.blurred_persitence(images_20[i], timestamp_20[i], predict_horizon,kernel_size=(11,11))\r\n",
    "        \r\n",
    "        predict_errors_p = evaluate.evaluate_image(predictions_p, images_20[i+1:i+predict_horizon+1], \r\n",
    "                                                metric='RMSE',  pixel_max_value =255)\r\n",
    "        predict_errors_bp = evaluate.evaluate_image(predictions_bp, images_20[i+1:i+predict_horizon+1], \r\n",
    "                                                metric='RMSE',  pixel_max_value =255)\r\n",
    "        \r\n",
    "    else: #starts predicting images outside the day\r\n",
    "        \r\n",
    "        predictions_p, _ = model.persitence(images_20[i], timestamp_20[i], len(images_20)-(i+1))\r\n",
    "        predictions_bp, _ = model.blurred_persitence(images_20[i], timestamp_20[i], len(images_20)-(i+1),kernel_size=(11,11))\r\n",
    "        \r\n",
    "        predict_errors_p = evaluate.evaluate_image(predictions_p, images_20[i+1:], \r\n",
    "                                                metric='RMSE',  pixel_max_value =255)\r\n",
    "        predict_errors_bp = evaluate.evaluate_image(predictions_bp, images_20[i+1:], \r\n",
    "                                                metric='RMSE',  pixel_max_value =255)\r\n",
    "        \r\n",
    "        for _ in range(predict_horizon+1 - (len(images_20)-i)):\r\n",
    "            #puts 0 in errors for predictions outside the day\r\n",
    "            predict_errors_p.append(0)\r\n",
    "            predict_errors_bp.append(0)\r\n",
    "        \r\n",
    "    error_p_list.append(predict_errors_p)\r\n",
    "    error_bp_list.append(predict_errors_bp)\r\n",
    "    \r\n",
    "    \r\n",
    "print('Predicted for',len(error_p_list), 'images')\r\n",
    "\r\n",
    "error_p_array = np.array(error_p_list)\r\n",
    "error_bp_array = np.array(error_bp_list)\r\n",
    "\r\n",
    "print(error_p_array.shape)\r\n",
    "    "
   ]
  },
  {
   "cell_type": "code",
   "execution_count": 4,
   "metadata": {},
   "outputs": [
    {
     "name": "stdout",
     "output_type": "stream",
     "text": [
      "11\n",
      "[datetime.datetime(2020, 1, 20, 0, 0, 17), datetime.datetime(2020, 1, 20, 0, 10, 17), datetime.datetime(2020, 1, 20, 0, 20, 17), datetime.datetime(2020, 1, 20, 0, 30, 17), datetime.datetime(2020, 1, 20, 0, 40, 17), datetime.datetime(2020, 1, 20, 0, 50, 17), datetime.datetime(2020, 1, 20, 1, 0, 17), datetime.datetime(2020, 1, 20, 1, 10, 17), datetime.datetime(2020, 1, 20, 1, 20, 17), datetime.datetime(2020, 1, 20, 1, 30, 17), datetime.datetime(2020, 1, 20, 1, 40, 17)]\n",
      "ART_2020020_014017.npy\n"
     ]
    }
   ],
   "source": [
    "#Testing for batch loading . Not working yet\r\n",
    "\r\n",
    "current_imgs = []\r\n",
    "predict_horizon = 10\r\n",
    "files_total = len(os.listdir('data/images/dia_20'))\r\n",
    "\r\n",
    "time_stamp = []\r\n",
    "error_p_list = []\r\n",
    "\r\n",
    "current_imgs, time_stamp, last_img_filename = data.load_by_batches(folder='data/images/dia_20', \r\n",
    "                                                          current_imgs=current_imgs, \r\n",
    "                                                          time_stamp= time_stamp, \r\n",
    "                                                          list_size= predict_horizon + 1, \r\n",
    "                                                          last_img_filename= None)\r\n",
    "\r\n",
    "predictions_p, _ = model.persitence(current_imgs[0], time_stamp[0], predict_horizon)\r\n",
    "predict_errors_p = evaluate.evaluate_image(predictions_p, current_imgs[1:], metric='RMSE')\r\n",
    "\r\n",
    "error_p_list.append(predict_errors_p)\r\n",
    "\r\n",
    "for _ in range():\r\n",
    "    \r\n",
    "    \r\n",
    "    current_imgs, time_stamp, last_img_filename = data.load_by_batches(folder='data/images/dia_20', \r\n",
    "                                                            current_imgs=current_imgs, \r\n",
    "                                                            time_stamp= time_stamp, \r\n",
    "                                                            list_size= predict_horizon + 1, \r\n",
    "                                                            last_img_filename= last_img_filename)"
   ]
  },
  {
   "cell_type": "code",
   "execution_count": 13,
   "metadata": {},
   "outputs": [],
   "source": [
    "visualization.save_errorarray_as_csv(error_p_array,timestamp_20, 'prueba')"
   ]
  },
  {
   "cell_type": "code",
   "execution_count": 7,
   "metadata": {},
   "outputs": [
    {
     "data": {
      "image/png": "[encoded data removed]",
      "text/plain": "<Figure size 432x288 with 1 Axes>"
     },
     "metadata": {
      "needs_background": "light"
     },
     "output_type": "display_data"
    }
   ],
   "source": [
    "#Slice day in 70:100 to leave night time out\r\n",
    "\r\n",
    "mean_error_p = np.mean(error_p_array[70:100],axis=0)\r\n",
    "mean_error_bp = np.mean(error_bp_array[70:100],axis=0)\r\n",
    "\r\n",
    "visualization.barchart_compare(mean_error_p,mean_error_bp)"
   ]
  },
  {
   "cell_type": "code",
   "execution_count": 15,
   "metadata": {},
   "outputs": [
    {
     "data": {
      "image/png": "[encoded data removed]",
      "text/plain": "<Figure size 936x216 with 2 Axes>"
     },
     "metadata": {
      "needs_background": "light"
     },
     "output_type": "display_data"
    }
   ],
   "source": [
    "visualization.matrix_graph(error_p_array)\r\n",
    "#visualization.matrix_graph(error_gp_array)"
   ]
  },
  {
   "cell_type": "code",
   "execution_count": 16,
   "metadata": {},
   "outputs": [
    {
     "data": {
      "image/png": "[encoded data removed]",
      "text/plain": "<Figure size 432x288 with 1 Axes>"
     },
     "metadata": {
      "needs_background": "light"
     },
     "output_type": "display_data"
    }
   ],
   "source": [
    "visualization.plot_graph(mean_error_p)"
   ]
  }
 ],
 "metadata": {
  "kernelspec": {
   "display_name": "Python 3.8.5 64-bit ('base': conda)",
   "language": "python",
   "name": "python385jvsc74a57bd011ffc019a02cc0e21e59860b66c88ea81995ce9237607e8ab2c087a287ee4867"
  },
  "language_info": {
   "codemirror_mode": {
    "name": "ipython",
    "version": 3
   },
   "file_extension": ".py",
   "mimetype": "text/x-python",
   "name": "python",
   "nbconvert_exporter": "python",
   "pygments_lexer": "ipython3",
   "version": "3.8.5"
  },
  "orig_nbformat": 2
 },
 "nbformat": 4,
 "nbformat_minor": 2
}