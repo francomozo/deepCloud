{
 "metadata": {
  "language_info": {
   "codemirror_mode": {
    "name": "ipython",
    "version": 3
   },
   "file_extension": ".py",
   "mimetype": "text/x-python",
   "name": "python",
   "nbconvert_exporter": "python",
   "pygments_lexer": "ipython3",
   "version": "3.7.10"
  },
  "orig_nbformat": 2,
  "kernelspec": {
   "name": "python3710jvsc74a57bd0c565d83d2315c2f2f8fd710c98090bdbc68a077163e76b76ec8c043f9a7be235",
   "display_name": "Python 3.7.10 64-bit ('sandbox': conda)"
  }
 },
 "nbformat": 4,
 "nbformat_minor": 2,
 "cells": [
  {
   "cell_type": "code",
   "execution_count": 1,
   "metadata": {},
   "outputs": [],
   "source": [
    "import numpy as np\n",
    "import os\n",
    "import pandas as pd\n",
    "from src.data import load_img, save_imgs_list_2npy"
   ]
  },
  {
   "cell_type": "code",
   "execution_count": 2,
   "metadata": {},
   "outputs": [
    {
     "output_type": "stream",
     "name": "stdout",
     "text": [
      "Number of images in 2020:  51219\nFilenames length:  21\nAll images filenames has the same amount of characters: True\n"
     ]
    }
   ],
   "source": [
    "img_path = \"/solar/sat/art-rrr/ART_G010x010RR_C010x010/C02-FR/2020/\"\n",
    "\n",
    "img_names = np.array([img for img in os.listdir(img_path)])\n",
    "print(\"Number of images in 2020: \", img_names.size)\n",
    "\n",
    "for idx in range(img_names.size - 1):\n",
    "    nmbr_of_chars = len(img_names[idx]) == len(img_names[idx + 1]) \n",
    "\n",
    "print(\"Filenames length: \", len(img_names[idx]))\n",
    "print(\"All images filenames has the same amount of characters:\", nmbr_of_chars)\n"
   ]
  },
  {
   "cell_type": "code",
   "execution_count": 3,
   "metadata": {
    "tags": []
   },
   "outputs": [],
   "source": [
    "# Images names are as follow: ART_yyyydoy_hhmmss.FR\n",
    "\n",
    "year, doy, hs, mins, sec = [], [], [], [], []\n",
    "\n",
    "\n",
    "for img_name in img_names:\n",
    "    yyyydoy, hhmmss = img_name.split(\"_\")[1], img_name.split(\"_\")[2][:6]\n",
    "\n",
    "    year.append(int(yyyydoy[:4]))\n",
    "    doy.append(int(yyyydoy[4:]))\n",
    "\n",
    "    hs.append(int(hhmmss[:2]))\n",
    "    mins.append(int(hhmmss[2:4]))\n",
    "    sec.append(int(hhmmss[4:]))\n",
    "\n",
    "year, doy, hs, mins, sec = np.array(year), np.array(doy), np.array(hs), np.array(mins), np.array(sec)"
   ]
  },
  {
   "cell_type": "code",
   "execution_count": 5,
   "metadata": {
    "tags": []
   },
   "outputs": [
    {
     "output_type": "stream",
     "name": "stdout",
     "text": [
      "Amount of days in the 2020 dataset:  359\n"
     ]
    }
   ],
   "source": [
    "doy_wo_duplicates = list(dict.fromkeys(doy))\n",
    "doy_sorted = np.sort(doy_wo_duplicates)\n",
    "print(\"Amount of days in the 2020 dataset: \", len(doy_sorted))"
   ]
  },
  {
   "cell_type": "code",
   "execution_count": 4,
   "metadata": {},
   "outputs": [],
   "source": [
    "mins_of_year = doy*24*60 + hs*60 + mins\n",
    "sort_idxs = np.argsort(mins_of_year)\n",
    "\n",
    "doy_sorted = doy[sort_idxs]\n",
    "\n",
    "# List with sorted images by day, hour and mins\n",
    "img_names_sorted = img_names[sort_idxs]\n",
    "\n",
    "\n",
    "days_list = ['-']\n",
    "img_per_day = [-1]\n",
    "\n",
    "for nth_day in range(1, 367):\n",
    "    nth_day_idxs = np.where(doy_sorted == nth_day)[0]\n",
    "    if nth_day_idxs.size != 0:\n",
    "        days_list.append(list(img_names_sorted[nth_day_idxs]))\n",
    "        img_per_day.append(len(list(img_names_sorted[nth_day_idxs])))\n",
    "    else:\n",
    "        days_list.append([])\n",
    "        img_per_day.append(0)\n"
   ]
  },
  {
   "cell_type": "code",
   "execution_count": 5,
   "metadata": {},
   "outputs": [
    {
     "output_type": "execute_result",
     "data": {
      "text/plain": [
       "     Images per day                     Ordered list of images per dar\n",
       "1               144  [ART_2020001_000021.FR, ART_2020001_001021.FR,...\n",
       "2               144  [ART_2020002_000021.FR, ART_2020002_001021.FR,...\n",
       "3               144  [ART_2020003_000021.FR, ART_2020003_001021.FR,...\n",
       "4               144  [ART_2020004_000021.FR, ART_2020004_001021.FR,...\n",
       "5               144  [ART_2020005_000021.FR, ART_2020005_001021.FR,...\n",
       "..              ...                                                ...\n",
       "362             144  [ART_2020362_000021.FR, ART_2020362_001021.FR,...\n",
       "363             144  [ART_2020363_000021.FR, ART_2020363_001021.FR,...\n",
       "364             144  [ART_2020364_000021.FR, ART_2020364_001021.FR,...\n",
       "365             144  [ART_2020365_000021.FR, ART_2020365_001021.FR,...\n",
       "366             144  [ART_2020366_000021.FR, ART_2020366_001021.FR,...\n",
       "\n",
       "[366 rows x 2 columns]"
      ],
      "text/html": "<div>\n<style scoped>\n    .dataframe tbody tr th:only-of-type {\n        vertical-align: middle;\n    }\n\n    .dataframe tbody tr th {\n        vertical-align: top;\n    }\n\n    .dataframe thead th {\n        text-align: right;\n    }\n</style>\n<table border=\"1\" class=\"dataframe\">\n  <thead>\n    <tr style=\"text-align: right;\">\n      <th></th>\n      <th>Images per day</th>\n      <th>Ordered list of images per dar</th>\n    </tr>\n  </thead>\n  <tbody>\n    <tr>\n      <th>1</th>\n      <td>144</td>\n      <td>[ART_2020001_000021.FR, ART_2020001_001021.FR,...</td>\n    </tr>\n    <tr>\n      <th>2</th>\n      <td>144</td>\n      <td>[ART_2020002_000021.FR, ART_2020002_001021.FR,...</td>\n    </tr>\n    <tr>\n      <th>3</th>\n      <td>144</td>\n      <td>[ART_2020003_000021.FR, ART_2020003_001021.FR,...</td>\n    </tr>\n    <tr>\n      <th>4</th>\n      <td>144</td>\n      <td>[ART_2020004_000021.FR, ART_2020004_001021.FR,...</td>\n    </tr>\n    <tr>\n      <th>5</th>\n      <td>144</td>\n      <td>[ART_2020005_000021.FR, ART_2020005_001021.FR,...</td>\n    </tr>\n    <tr>\n      <th>...</th>\n      <td>...</td>\n      <td>...</td>\n    </tr>\n    <tr>\n      <th>362</th>\n      <td>144</td>\n      <td>[ART_2020362_000021.FR, ART_2020362_001021.FR,...</td>\n    </tr>\n    <tr>\n      <th>363</th>\n      <td>144</td>\n      <td>[ART_2020363_000021.FR, ART_2020363_001021.FR,...</td>\n    </tr>\n    <tr>\n      <th>364</th>\n      <td>144</td>\n      <td>[ART_2020364_000021.FR, ART_2020364_001021.FR,...</td>\n    </tr>\n    <tr>\n      <th>365</th>\n      <td>144</td>\n      <td>[ART_2020365_000021.FR, ART_2020365_001021.FR,...</td>\n    </tr>\n    <tr>\n      <th>366</th>\n      <td>144</td>\n      <td>[ART_2020366_000021.FR, ART_2020366_001021.FR,...</td>\n    </tr>\n  </tbody>\n</table>\n<p>366 rows × 2 columns</p>\n</div>"
     },
     "metadata": {},
     "execution_count": 5
    }
   ],
   "source": [
    "dic = {\n",
    "    \"Images per day\":   img_per_day[1:],\n",
    "    \"Ordered list of images per dar\": days_list[1:]\n",
    "}\n",
    "\n",
    "dataset_df = pd.DataFrame(dic, columns=dic.keys())\n",
    "dataset_df.index = [i for i in range(1, 367)]\n",
    "dataset_df\n",
    "\n",
    "\n"
   ]
  },
  {
   "cell_type": "code",
   "execution_count": 22,
   "metadata": {},
   "outputs": [
    {
     "output_type": "stream",
     "name": "stdout",
     "text": [
      "1376\n"
     ]
    }
   ],
   "source": [
    "days = [i for i in range(1, 11)] # first 10 days of 2020\n",
    "day_imgs_list = []\n",
    "for day in days:\n",
    "    day_imgs_list += dataset_df.iloc[day-1][1]\n",
    "\n",
    "print(len(day_imgs_list))\n",
    "save_imgs_list_2npy(imgs_list=day_imgs_list,\n",
    "            meta_path='/solar/sat/art-rrr/ART_G010x010RR_C010x010/meta',\n",
    "            mk_folder_path='/solar/sat/art-rrr/ART_G010x010RR_C010x010/C02-MK/2020',\n",
    "            img_folder_path='/solar/sat/art-rrr/ART_G010x010RR_C010x010/C02-FR/2020')\n",
    "\n",
    "\n",
    "\n"
   ]
  },
  {
   "cell_type": "code",
   "execution_count": 9,
   "metadata": {},
   "outputs": [
    {
     "output_type": "execute_result",
     "data": {
      "text/plain": [
       "[1, 2, 3, [4, 5, 6]]"
      ]
     },
     "metadata": {},
     "execution_count": 9
    }
   ],
   "source": [
    "lista1 = [1, 2, 3]\n",
    "lsita2 = [4, 5, 6]\n",
    "lista1.append(lsita2)\n",
    "lista1"
   ]
  }
 ]
}