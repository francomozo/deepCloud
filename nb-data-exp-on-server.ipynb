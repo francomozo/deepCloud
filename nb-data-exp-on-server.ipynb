{
 "metadata": {
  "language_info": {
   "codemirror_mode": {
    "name": "ipython",
    "version": 3
   },
   "file_extension": ".py",
   "mimetype": "text/x-python",
   "name": "python",
   "nbconvert_exporter": "python",
   "pygments_lexer": "ipython3",
   "version": "3.7.10"
  },
  "orig_nbformat": 2,
  "kernelspec": {
   "name": "python3710jvsc74a57bd0c565d83d2315c2f2f8fd710c98090bdbc68a077163e76b76ec8c043f9a7be235",
   "display_name": "Python 3.7.10 64-bit ('sandbox': conda)",
   "language": "python"
  }
 },
 "nbformat": 4,
 "nbformat_minor": 2,
 "cells": [
  {
   "cell_type": "code",
   "execution_count": 2,
   "metadata": {},
   "outputs": [],
   "source": [
    "import numpy as np\n",
    "import os\n",
    "import pandas as pd\n",
    "import matplotlib.pyplot as plt\n",
    "from src.data import load_img, save_imgs_list_2npy, SatelliteImagesDataset\n",
    "\n",
    "import cv2 as cv\n",
    "import time\n",
    "import IPython\n",
    "import matplotlib.pyplot as plt\n",
    "plt.rcParams['figure.figsize'] = [12, 8]"
   ]
  },
  {
   "cell_type": "code",
   "execution_count": 2,
   "metadata": {},
   "outputs": [
    {
     "output_type": "stream",
     "name": "stdout",
     "text": [
      "Number of images in 2020:  51219\nFilenames length:  21\nAll images filenames has the same amount of characters: True\n"
     ]
    }
   ],
   "source": [
    "img_path = \"/solar/sat/art-rrr/ART_G010x010RR_C010x010/C02-FR/2020/\"\n",
    "\n",
    "img_names = np.array([img for img in os.listdir(img_path)])\n",
    "print(\"Number of images in 2020: \", img_names.size)\n",
    "\n",
    "for idx in range(img_names.size - 1):\n",
    "    nmbr_of_chars = len(img_names[idx]) == len(img_names[idx + 1]) \n",
    "\n",
    "print(\"Filenames length: \", len(img_names[idx]))\n",
    "print(\"All images filenames has the same amount of characters:\", nmbr_of_chars)\n"
   ]
  },
  {
   "cell_type": "code",
   "execution_count": 4,
   "metadata": {
    "tags": []
   },
   "outputs": [],
   "source": [
    "# Images names are as follow: ART_yyyydoy_hhmmss.FR\n",
    "\n",
    "year, doy, hs, mins, sec = [], [], [], [], []\n",
    "\n",
    "\n",
    "for img_name in img_names:\n",
    "    yyyydoy, hhmmss = img_name.split(\"_\")[1], img_name.split(\"_\")[2][:6]\n",
    "\n",
    "    year.append(int(yyyydoy[:4]))\n",
    "    doy.append(int(yyyydoy[4:]))\n",
    "\n",
    "    hs.append(int(hhmmss[:2]))\n",
    "    mins.append(int(hhmmss[2:4]))\n",
    "    sec.append(int(hhmmss[4:]))\n",
    "\n",
    "year, doy, hs, mins, sec = np.array(year), np.array(doy), np.array(hs), np.array(mins), np.array(sec)"
   ]
  },
  {
   "cell_type": "code",
   "execution_count": 5,
   "metadata": {
    "tags": []
   },
   "outputs": [
    {
     "output_type": "stream",
     "name": "stdout",
     "text": [
      "Amount of days in the 2020 dataset:  359\n"
     ]
    }
   ],
   "source": [
    "doy_wo_duplicates = list(dict.fromkeys(doy))\n",
    "doy_sorted = np.sort(doy_wo_duplicates)\n",
    "print(\"Amount of days in the 2020 dataset: \", len(doy_sorted))"
   ]
  },
  {
   "cell_type": "code",
   "execution_count": 6,
   "metadata": {},
   "outputs": [],
   "source": [
    "mins_of_year = doy*24*60 + hs*60 + mins\n",
    "sort_idxs = np.argsort(mins_of_year)\n",
    "\n",
    "doy_sorted = doy[sort_idxs]\n",
    "\n",
    "# List with sorted images by day, hour and mins\n",
    "img_names_sorted = img_names[sort_idxs]\n",
    "\n",
    "\n",
    "days_list = ['-']\n",
    "img_per_day = [-1]\n",
    "\n",
    "for nth_day in range(1, 367):\n",
    "    nth_day_idxs = np.where(doy_sorted == nth_day)[0]\n",
    "    if nth_day_idxs.size != 0:\n",
    "        days_list.append(list(img_names_sorted[nth_day_idxs]))\n",
    "        img_per_day.append(len(list(img_names_sorted[nth_day_idxs])))\n",
    "    else:\n",
    "        days_list.append([])\n",
    "        img_per_day.append(0)\n"
   ]
  },
  {
   "cell_type": "code",
   "execution_count": 7,
   "metadata": {},
   "outputs": [
    {
     "output_type": "execute_result",
     "data": {
      "text/plain": [
       "     Images per day                     Ordered list of images per dar\n",
       "1               144  [ART_2020001_000021.FR, ART_2020001_001021.FR,...\n",
       "2               144  [ART_2020002_000021.FR, ART_2020002_001021.FR,...\n",
       "3               144  [ART_2020003_000021.FR, ART_2020003_001021.FR,...\n",
       "4               144  [ART_2020004_000021.FR, ART_2020004_001021.FR,...\n",
       "5               144  [ART_2020005_000021.FR, ART_2020005_001021.FR,...\n",
       "..              ...                                                ...\n",
       "362             144  [ART_2020362_000021.FR, ART_2020362_001021.FR,...\n",
       "363             144  [ART_2020363_000021.FR, ART_2020363_001021.FR,...\n",
       "364             144  [ART_2020364_000021.FR, ART_2020364_001021.FR,...\n",
       "365             144  [ART_2020365_000021.FR, ART_2020365_001021.FR,...\n",
       "366             144  [ART_2020366_000021.FR, ART_2020366_001021.FR,...\n",
       "\n",
       "[366 rows x 2 columns]"
      ],
      "text/html": "<div>\n<style scoped>\n    .dataframe tbody tr th:only-of-type {\n        vertical-align: middle;\n    }\n\n    .dataframe tbody tr th {\n        vertical-align: top;\n    }\n\n    .dataframe thead th {\n        text-align: right;\n    }\n</style>\n<table border=\"1\" class=\"dataframe\">\n  <thead>\n    <tr style=\"text-align: right;\">\n      <th></th>\n      <th>Images per day</th>\n      <th>Ordered list of images per dar</th>\n    </tr>\n  </thead>\n  <tbody>\n    <tr>\n      <th>1</th>\n      <td>144</td>\n      <td>[ART_2020001_000021.FR, ART_2020001_001021.FR,...</td>\n    </tr>\n    <tr>\n      <th>2</th>\n      <td>144</td>\n      <td>[ART_2020002_000021.FR, ART_2020002_001021.FR,...</td>\n    </tr>\n    <tr>\n      <th>3</th>\n      <td>144</td>\n      <td>[ART_2020003_000021.FR, ART_2020003_001021.FR,...</td>\n    </tr>\n    <tr>\n      <th>4</th>\n      <td>144</td>\n      <td>[ART_2020004_000021.FR, ART_2020004_001021.FR,...</td>\n    </tr>\n    <tr>\n      <th>5</th>\n      <td>144</td>\n      <td>[ART_2020005_000021.FR, ART_2020005_001021.FR,...</td>\n    </tr>\n    <tr>\n      <th>...</th>\n      <td>...</td>\n      <td>...</td>\n    </tr>\n    <tr>\n      <th>362</th>\n      <td>144</td>\n      <td>[ART_2020362_000021.FR, ART_2020362_001021.FR,...</td>\n    </tr>\n    <tr>\n      <th>363</th>\n      <td>144</td>\n      <td>[ART_2020363_000021.FR, ART_2020363_001021.FR,...</td>\n    </tr>\n    <tr>\n      <th>364</th>\n      <td>144</td>\n      <td>[ART_2020364_000021.FR, ART_2020364_001021.FR,...</td>\n    </tr>\n    <tr>\n      <th>365</th>\n      <td>144</td>\n      <td>[ART_2020365_000021.FR, ART_2020365_001021.FR,...</td>\n    </tr>\n    <tr>\n      <th>366</th>\n      <td>144</td>\n      <td>[ART_2020366_000021.FR, ART_2020366_001021.FR,...</td>\n    </tr>\n  </tbody>\n</table>\n<p>366 rows × 2 columns</p>\n</div>"
     },
     "metadata": {},
     "execution_count": 7
    }
   ],
   "source": [
    "dic = {\n",
    "    \"Images per day\":   img_per_day[1:],\n",
    "    \"Ordered list of images per dar\": days_list[1:]\n",
    "}\n",
    "\n",
    "dataset_df = pd.DataFrame(dic, columns=dic.keys())\n",
    "dataset_df.index = [i for i in range(1, 367)]\n",
    "dataset_df\n",
    "\n",
    "\n"
   ]
  },
  {
   "cell_type": "code",
   "execution_count": 22,
   "metadata": {},
   "outputs": [
    {
     "output_type": "stream",
     "name": "stdout",
     "text": [
      "1376\n"
     ]
    }
   ],
   "source": [
    "# Save days of images to npy within folders, do not run for existing days\n",
    "\n",
    "# days = [i for i in range(1, 11)] # first 10 days of 2020\n",
    "# day_imgs_list = []\n",
    "# for day in days:\n",
    "#     day_imgs_list += dataset_df.iloc[day-1][1]\n",
    "\n",
    "# print(len(day_imgs_list))\n",
    "# save_imgs_list_2npy(imgs_list=day_imgs_list,\n",
    "#             meta_path='/solar/sat/art-rrr/ART_G010x010RR_C010x010/meta',\n",
    "#             mk_folder_path='/solar/sat/art-rrr/ART_G010x010RR_C010x010/C02-MK/2020',\n",
    "#             img_folder_path='/solar/sat/art-rrr/ART_G010x010RR_C010x010/C02-FR/2020')\n",
    "\n",
    "\n",
    "\n"
   ]
  },
  {
   "cell_type": "code",
   "execution_count": 12,
   "metadata": {
    "tags": []
   },
   "outputs": [
    {
     "output_type": "execute_result",
     "data": {
      "text/plain": [
       "<BarContainer object of 144 artists>"
      ]
     },
     "metadata": {},
     "execution_count": 12
    },
    {
     "output_type": "display_data",
     "data": {
      "text/plain": "<Figure size 432x288 with 1 Axes>",
      "image/svg+xml": "<?xml version=\"1.0\" encoding=\"utf-8\" standalone=\"no\"?>\n<!DOCTYPE svg PUBLIC \"-//W3C//DTD SVG 1.1//EN\"\n  \"http://www.w3.org/Graphics/SVG/1.1/DTD/svg11.dtd\">\n<!-- Created with matplotlib (https://matplotlib.org/) -->\n<svg height=\"248.518125pt\" version=\"1.1\" viewBox=\"0 0 368.925 248.518125\" width=\"368.925pt\" xmlns=\"http://www.w3.org/2000/svg\" xmlns:xlink=\"http://www.w3.org/1999/xlink\">\n <metadata>\n  <rdf:RDF xmlns:cc=\"http://creativecommons.org/ns#\" xmlns:dc=\"http://purl.org/dc/elements/1.1/\" xmlns:rdf=\"http://www.w3.org/1999/02/22-rdf-syntax-ns#\">\n   <cc:Work>\n    <dc:type rdf:resource=\"http://purl.org/dc/dcmitype/StillImage\"/>\n    <dc:date>2021-04-08T20:34:27.736389</dc:date>\n    <dc:format>image/svg+xml</dc:format>\n    <dc:creator>\n     <cc:Agent>\n      <dc:title>Matplotlib v3.3.4, https://matplotlib.org/</dc:title>\n     </cc:Agent>\n    </dc:creator>\n   </cc:Work>\n  </rdf:RDF>\n </metadata>\n <defs>\n  <style type=\"text/css\">*{stroke-linecap:butt;stroke-linejoin:round;}</style>\n </defs>\n <g id=\"figure_1\">\n  <g id=\"patch_1\">\n   <path d=\"M -0 248.518125 \nL 368.925 248.518125 \nL 368.925 0 \nL -0 0 \nz\n\" style=\"fill:none;\"/>\n  </g>\n  <g id=\"axes_1\">\n   <g id=\"patch_2\">\n    <path d=\"M 26.925 224.64 \nL 361.725 224.64 \nL 361.725 7.2 \nL 26.925 7.2 \nz\n\" style=\"fill:#ffffff;\"/>\n   </g>\n   <g id=\"patch_3\">\n    <path clip-path=\"url(#pd4bf9f5fac)\" d=\"M 42.143182 224.64 \nL 43.836443 224.64 \nL 43.836443 224.64 \nL 42.143182 224.64 \nz\n\" style=\"fill:#1f77b4;\"/>\n   </g>\n   <g id=\"patch_4\">\n    <path clip-path=\"url(#pd4bf9f5fac)\" d=\"M 44.259758 224.64 \nL 45.953019 224.64 \nL 45.953019 224.64 \nL 44.259758 224.64 \nz\n\" style=\"fill:#1f77b4;\"/>\n   </g>\n   <g id=\"patch_5\">\n    <path clip-path=\"url(#pd4bf9f5fac)\" d=\"M 46.376334 224.64 \nL 48.069595 224.64 \nL 48.069595 224.64 \nL 46.376334 224.64 \nz\n\" style=\"fill:#1f77b4;\"/>\n   </g>\n   <g id=\"patch_6\">\n    <path clip-path=\"url(#pd4bf9f5fac)\" d=\"M 48.49291 224.64 \nL 50.186171 224.64 \nL 50.186171 224.64 \nL 48.49291 224.64 \nz\n\" style=\"fill:#1f77b4;\"/>\n   </g>\n   <g id=\"patch_7\">\n    <path clip-path=\"url(#pd4bf9f5fac)\" d=\"M 50.609486 224.64 \nL 52.302747 224.64 \nL 52.302747 224.64 \nL 50.609486 224.64 \nz\n\" style=\"fill:#1f77b4;\"/>\n   </g>\n   <g id=\"patch_8\">\n    <path clip-path=\"url(#pd4bf9f5fac)\" d=\"M 52.726062 224.64 \nL 54.419323 224.64 \nL 54.419323 224.64 \nL 52.726062 224.64 \nz\n\" style=\"fill:#1f77b4;\"/>\n   </g>\n   <g id=\"patch_9\">\n    <path clip-path=\"url(#pd4bf9f5fac)\" d=\"M 54.842638 224.64 \nL 56.535899 224.64 \nL 56.535899 224.64 \nL 54.842638 224.64 \nz\n\" style=\"fill:#1f77b4;\"/>\n   </g>\n   <g id=\"patch_10\">\n    <path clip-path=\"url(#pd4bf9f5fac)\" d=\"M 56.959214 224.64 \nL 58.652475 224.64 \nL 58.652475 224.64 \nL 56.959214 224.64 \nz\n\" style=\"fill:#1f77b4;\"/>\n   </g>\n   <g id=\"patch_11\">\n    <path clip-path=\"url(#pd4bf9f5fac)\" d=\"M 59.07579 224.64 \nL 60.769051 224.64 \nL 60.769051 224.64 \nL 59.07579 224.64 \nz\n\" style=\"fill:#1f77b4;\"/>\n   </g>\n   <g id=\"patch_12\">\n    <path clip-path=\"url(#pd4bf9f5fac)\" d=\"M 61.192366 224.64 \nL 62.885627 224.64 \nL 62.885627 224.64 \nL 61.192366 224.64 \nz\n\" style=\"fill:#1f77b4;\"/>\n   </g>\n   <g id=\"patch_13\">\n    <path clip-path=\"url(#pd4bf9f5fac)\" d=\"M 63.308942 224.64 \nL 65.002203 224.64 \nL 65.002203 224.64 \nL 63.308942 224.64 \nz\n\" style=\"fill:#1f77b4;\"/>\n   </g>\n   <g id=\"patch_14\">\n    <path clip-path=\"url(#pd4bf9f5fac)\" d=\"M 65.425518 224.64 \nL 67.118779 224.64 \nL 67.118779 224.64 \nL 65.425518 224.64 \nz\n\" style=\"fill:#1f77b4;\"/>\n   </g>\n   <g id=\"patch_15\">\n    <path clip-path=\"url(#pd4bf9f5fac)\" d=\"M 67.542094 224.64 \nL 69.235355 224.64 \nL 69.235355 224.64 \nL 67.542094 224.64 \nz\n\" style=\"fill:#1f77b4;\"/>\n   </g>\n   <g id=\"patch_16\">\n    <path clip-path=\"url(#pd4bf9f5fac)\" d=\"M 69.658671 224.64 \nL 71.351931 224.64 \nL 71.351931 224.64 \nL 69.658671 224.64 \nz\n\" style=\"fill:#1f77b4;\"/>\n   </g>\n   <g id=\"patch_17\">\n    <path clip-path=\"url(#pd4bf9f5fac)\" d=\"M 71.775247 224.64 \nL 73.468507 224.64 \nL 73.468507 224.64 \nL 71.775247 224.64 \nz\n\" style=\"fill:#1f77b4;\"/>\n   </g>\n   <g id=\"patch_18\">\n    <path clip-path=\"url(#pd4bf9f5fac)\" d=\"M 73.891823 224.64 \nL 75.585083 224.64 \nL 75.585083 224.64 \nL 73.891823 224.64 \nz\n\" style=\"fill:#1f77b4;\"/>\n   </g>\n   <g id=\"patch_19\">\n    <path clip-path=\"url(#pd4bf9f5fac)\" d=\"M 76.008399 224.64 \nL 77.70166 224.64 \nL 77.70166 224.64 \nL 76.008399 224.64 \nz\n\" style=\"fill:#1f77b4;\"/>\n   </g>\n   <g id=\"patch_20\">\n    <path clip-path=\"url(#pd4bf9f5fac)\" d=\"M 78.124975 224.64 \nL 79.818236 224.64 \nL 79.818236 224.64 \nL 78.124975 224.64 \nz\n\" style=\"fill:#1f77b4;\"/>\n   </g>\n   <g id=\"patch_21\">\n    <path clip-path=\"url(#pd4bf9f5fac)\" d=\"M 80.241551 224.64 \nL 81.934812 224.64 \nL 81.934812 224.64 \nL 80.241551 224.64 \nz\n\" style=\"fill:#1f77b4;\"/>\n   </g>\n   <g id=\"patch_22\">\n    <path clip-path=\"url(#pd4bf9f5fac)\" d=\"M 82.358127 224.64 \nL 84.051388 224.64 \nL 84.051388 224.64 \nL 82.358127 224.64 \nz\n\" style=\"fill:#1f77b4;\"/>\n   </g>\n   <g id=\"patch_23\">\n    <path clip-path=\"url(#pd4bf9f5fac)\" d=\"M 84.474703 224.64 \nL 86.167964 224.64 \nL 86.167964 224.64 \nL 84.474703 224.64 \nz\n\" style=\"fill:#1f77b4;\"/>\n   </g>\n   <g id=\"patch_24\">\n    <path clip-path=\"url(#pd4bf9f5fac)\" d=\"M 86.591279 224.64 \nL 88.28454 224.64 \nL 88.28454 224.64 \nL 86.591279 224.64 \nz\n\" style=\"fill:#1f77b4;\"/>\n   </g>\n   <g id=\"patch_25\">\n    <path clip-path=\"url(#pd4bf9f5fac)\" d=\"M 88.707855 224.64 \nL 90.401116 224.64 \nL 90.401116 224.64 \nL 88.707855 224.64 \nz\n\" style=\"fill:#1f77b4;\"/>\n   </g>\n   <g id=\"patch_26\">\n    <path clip-path=\"url(#pd4bf9f5fac)\" d=\"M 90.824431 224.64 \nL 92.517692 224.64 \nL 92.517692 224.64 \nL 90.824431 224.64 \nz\n\" style=\"fill:#1f77b4;\"/>\n   </g>\n   <g id=\"patch_27\">\n    <path clip-path=\"url(#pd4bf9f5fac)\" d=\"M 92.941007 224.64 \nL 94.634268 224.64 \nL 94.634268 224.64 \nL 92.941007 224.64 \nz\n\" style=\"fill:#1f77b4;\"/>\n   </g>\n   <g id=\"patch_28\">\n    <path clip-path=\"url(#pd4bf9f5fac)\" d=\"M 95.057583 224.64 \nL 96.750844 224.64 \nL 96.750844 224.64 \nL 95.057583 224.64 \nz\n\" style=\"fill:#1f77b4;\"/>\n   </g>\n   <g id=\"patch_29\">\n    <path clip-path=\"url(#pd4bf9f5fac)\" d=\"M 97.174159 224.64 \nL 98.86742 224.64 \nL 98.86742 224.64 \nL 97.174159 224.64 \nz\n\" style=\"fill:#1f77b4;\"/>\n   </g>\n   <g id=\"patch_30\">\n    <path clip-path=\"url(#pd4bf9f5fac)\" d=\"M 99.290735 224.64 \nL 100.983996 224.64 \nL 100.983996 224.64 \nL 99.290735 224.64 \nz\n\" style=\"fill:#1f77b4;\"/>\n   </g>\n   <g id=\"patch_31\">\n    <path clip-path=\"url(#pd4bf9f5fac)\" d=\"M 101.407311 224.64 \nL 103.100572 224.64 \nL 103.100572 224.64 \nL 101.407311 224.64 \nz\n\" style=\"fill:#1f77b4;\"/>\n   </g>\n   <g id=\"patch_32\">\n    <path clip-path=\"url(#pd4bf9f5fac)\" d=\"M 103.523887 224.64 \nL 105.217148 224.64 \nL 105.217148 224.64 \nL 103.523887 224.64 \nz\n\" style=\"fill:#1f77b4;\"/>\n   </g>\n   <g id=\"patch_33\">\n    <path clip-path=\"url(#pd4bf9f5fac)\" d=\"M 105.640463 224.64 \nL 107.333724 224.64 \nL 107.333724 224.64 \nL 105.640463 224.64 \nz\n\" style=\"fill:#1f77b4;\"/>\n   </g>\n   <g id=\"patch_34\">\n    <path clip-path=\"url(#pd4bf9f5fac)\" d=\"M 107.757039 224.64 \nL 109.4503 224.64 \nL 109.4503 224.64 \nL 107.757039 224.64 \nz\n\" style=\"fill:#1f77b4;\"/>\n   </g>\n   <g id=\"patch_35\">\n    <path clip-path=\"url(#pd4bf9f5fac)\" d=\"M 109.873616 224.64 \nL 111.566876 224.64 \nL 111.566876 224.64 \nL 109.873616 224.64 \nz\n\" style=\"fill:#1f77b4;\"/>\n   </g>\n   <g id=\"patch_36\">\n    <path clip-path=\"url(#pd4bf9f5fac)\" d=\"M 111.990192 224.64 \nL 113.683452 224.64 \nL 113.683452 224.64 \nL 111.990192 224.64 \nz\n\" style=\"fill:#1f77b4;\"/>\n   </g>\n   <g id=\"patch_37\">\n    <path clip-path=\"url(#pd4bf9f5fac)\" d=\"M 114.106768 224.64 \nL 115.800028 224.64 \nL 115.800028 224.64 \nL 114.106768 224.64 \nz\n\" style=\"fill:#1f77b4;\"/>\n   </g>\n   <g id=\"patch_38\">\n    <path clip-path=\"url(#pd4bf9f5fac)\" d=\"M 116.223344 224.64 \nL 117.916605 224.64 \nL 117.916605 224.64 \nL 116.223344 224.64 \nz\n\" style=\"fill:#1f77b4;\"/>\n   </g>\n   <g id=\"patch_39\">\n    <path clip-path=\"url(#pd4bf9f5fac)\" d=\"M 118.33992 224.64 \nL 120.033181 224.64 \nL 120.033181 224.64 \nL 118.33992 224.64 \nz\n\" style=\"fill:#1f77b4;\"/>\n   </g>\n   <g id=\"patch_40\">\n    <path clip-path=\"url(#pd4bf9f5fac)\" d=\"M 120.456496 224.64 \nL 122.149757 224.64 \nL 122.149757 224.64 \nL 120.456496 224.64 \nz\n\" style=\"fill:#1f77b4;\"/>\n   </g>\n   <g id=\"patch_41\">\n    <path clip-path=\"url(#pd4bf9f5fac)\" d=\"M 122.573072 224.64 \nL 124.266333 224.64 \nL 124.266333 224.64 \nL 122.573072 224.64 \nz\n\" style=\"fill:#1f77b4;\"/>\n   </g>\n   <g id=\"patch_42\">\n    <path clip-path=\"url(#pd4bf9f5fac)\" d=\"M 124.689648 224.64 \nL 126.382909 224.64 \nL 126.382909 224.64 \nL 124.689648 224.64 \nz\n\" style=\"fill:#1f77b4;\"/>\n   </g>\n   <g id=\"patch_43\">\n    <path clip-path=\"url(#pd4bf9f5fac)\" d=\"M 126.806224 224.64 \nL 128.499485 224.64 \nL 128.499485 224.64 \nL 126.806224 224.64 \nz\n\" style=\"fill:#1f77b4;\"/>\n   </g>\n   <g id=\"patch_44\">\n    <path clip-path=\"url(#pd4bf9f5fac)\" d=\"M 128.9228 224.64 \nL 130.616061 224.64 \nL 130.616061 224.64 \nL 128.9228 224.64 \nz\n\" style=\"fill:#1f77b4;\"/>\n   </g>\n   <g id=\"patch_45\">\n    <path clip-path=\"url(#pd4bf9f5fac)\" d=\"M 131.039376 224.64 \nL 132.732637 224.64 \nL 132.732637 224.64 \nL 131.039376 224.64 \nz\n\" style=\"fill:#1f77b4;\"/>\n   </g>\n   <g id=\"patch_46\">\n    <path clip-path=\"url(#pd4bf9f5fac)\" d=\"M 133.155952 224.64 \nL 134.849213 224.64 \nL 134.849213 224.64 \nL 133.155952 224.64 \nz\n\" style=\"fill:#1f77b4;\"/>\n   </g>\n   <g id=\"patch_47\">\n    <path clip-path=\"url(#pd4bf9f5fac)\" d=\"M 135.272528 224.64 \nL 136.965789 224.64 \nL 136.965789 224.64 \nL 135.272528 224.64 \nz\n\" style=\"fill:#1f77b4;\"/>\n   </g>\n   <g id=\"patch_48\">\n    <path clip-path=\"url(#pd4bf9f5fac)\" d=\"M 137.389104 224.64 \nL 139.082365 224.64 \nL 139.082365 224.64 \nL 137.389104 224.64 \nz\n\" style=\"fill:#1f77b4;\"/>\n   </g>\n   <g id=\"patch_49\">\n    <path clip-path=\"url(#pd4bf9f5fac)\" d=\"M 139.50568 224.64 \nL 141.198941 224.64 \nL 141.198941 224.64 \nL 139.50568 224.64 \nz\n\" style=\"fill:#1f77b4;\"/>\n   </g>\n   <g id=\"patch_50\">\n    <path clip-path=\"url(#pd4bf9f5fac)\" d=\"M 141.622256 224.64 \nL 143.315517 224.64 \nL 143.315517 224.64 \nL 141.622256 224.64 \nz\n\" style=\"fill:#1f77b4;\"/>\n   </g>\n   <g id=\"patch_51\">\n    <path clip-path=\"url(#pd4bf9f5fac)\" d=\"M 143.738832 224.64 \nL 145.432093 224.64 \nL 145.432093 224.64 \nL 143.738832 224.64 \nz\n\" style=\"fill:#1f77b4;\"/>\n   </g>\n   <g id=\"patch_52\">\n    <path clip-path=\"url(#pd4bf9f5fac)\" d=\"M 145.855408 224.64 \nL 147.548669 224.64 \nL 147.548669 224.64 \nL 145.855408 224.64 \nz\n\" style=\"fill:#1f77b4;\"/>\n   </g>\n   <g id=\"patch_53\">\n    <path clip-path=\"url(#pd4bf9f5fac)\" d=\"M 147.971984 224.64 \nL 149.665245 224.64 \nL 149.665245 222.484793 \nL 147.971984 222.484793 \nz\n\" style=\"fill:#1f77b4;\"/>\n   </g>\n   <g id=\"patch_54\">\n    <path clip-path=\"url(#pd4bf9f5fac)\" d=\"M 150.088561 224.64 \nL 151.781821 224.64 \nL 151.781821 211.239459 \nL 150.088561 211.239459 \nz\n\" style=\"fill:#1f77b4;\"/>\n   </g>\n   <g id=\"patch_55\">\n    <path clip-path=\"url(#pd4bf9f5fac)\" d=\"M 152.205137 224.64 \nL 153.898397 224.64 \nL 153.898397 189.301615 \nL 152.205137 189.301615 \nz\n\" style=\"fill:#1f77b4;\"/>\n   </g>\n   <g id=\"patch_56\">\n    <path clip-path=\"url(#pd4bf9f5fac)\" d=\"M 154.321713 224.64 \nL 156.014973 224.64 \nL 156.014973 161.212296 \nL 154.321713 161.212296 \nz\n\" style=\"fill:#1f77b4;\"/>\n   </g>\n   <g id=\"patch_57\">\n    <path clip-path=\"url(#pd4bf9f5fac)\" d=\"M 156.438289 224.64 \nL 158.13155 224.64 \nL 158.13155 130.620498 \nL 156.438289 130.620498 \nz\n\" style=\"fill:#1f77b4;\"/>\n   </g>\n   <g id=\"patch_58\">\n    <path clip-path=\"url(#pd4bf9f5fac)\" d=\"M 158.554865 224.64 \nL 160.248126 224.64 \nL 160.248126 96.634587 \nL 158.554865 96.634587 \nz\n\" style=\"fill:#1f77b4;\"/>\n   </g>\n   <g id=\"patch_59\">\n    <path clip-path=\"url(#pd4bf9f5fac)\" d=\"M 160.671441 224.64 \nL 162.364702 224.64 \nL 162.364702 69.388783 \nL 160.671441 69.388783 \nz\n\" style=\"fill:#1f77b4;\"/>\n   </g>\n   <g id=\"patch_60\">\n    <path clip-path=\"url(#pd4bf9f5fac)\" d=\"M 162.788017 224.64 \nL 164.481278 224.64 \nL 164.481278 43.852011 \nL 162.788017 43.852011 \nz\n\" style=\"fill:#1f77b4;\"/>\n   </g>\n   <g id=\"patch_61\">\n    <path clip-path=\"url(#pd4bf9f5fac)\" d=\"M 164.904593 224.64 \nL 166.597854 224.64 \nL 166.597854 27.009898 \nL 164.904593 27.009898 \nz\n\" style=\"fill:#1f77b4;\"/>\n   </g>\n   <g id=\"patch_62\">\n    <path clip-path=\"url(#pd4bf9f5fac)\" d=\"M 167.021169 224.64 \nL 168.71443 224.64 \nL 168.71443 17.604678 \nL 167.021169 17.604678 \nz\n\" style=\"fill:#1f77b4;\"/>\n   </g>\n   <g id=\"patch_63\">\n    <path clip-path=\"url(#pd4bf9f5fac)\" d=\"M 169.137745 224.64 \nL 170.831006 224.64 \nL 170.831006 17.554286 \nL 169.137745 17.554286 \nz\n\" style=\"fill:#1f77b4;\"/>\n   </g>\n   <g id=\"patch_64\">\n    <path clip-path=\"url(#pd4bf9f5fac)\" d=\"M 171.254321 224.64 \nL 172.947582 224.64 \nL 172.947582 19.489372 \nL 171.254321 19.489372 \nz\n\" style=\"fill:#1f77b4;\"/>\n   </g>\n   <g id=\"patch_65\">\n    <path clip-path=\"url(#pd4bf9f5fac)\" d=\"M 173.370897 224.64 \nL 175.064158 224.64 \nL 175.064158 20.639355 \nL 173.370897 20.639355 \nz\n\" style=\"fill:#1f77b4;\"/>\n   </g>\n   <g id=\"patch_66\">\n    <path clip-path=\"url(#pd4bf9f5fac)\" d=\"M 175.487473 224.64 \nL 177.180734 224.64 \nL 177.180734 25.289491 \nL 175.487473 25.289491 \nz\n\" style=\"fill:#1f77b4;\"/>\n   </g>\n   <g id=\"patch_67\">\n    <path clip-path=\"url(#pd4bf9f5fac)\" d=\"M 177.604049 224.64 \nL 179.29731 224.64 \nL 179.29731 28.7527 \nL 177.604049 28.7527 \nz\n\" style=\"fill:#1f77b4;\"/>\n   </g>\n   <g id=\"patch_68\">\n    <path clip-path=\"url(#pd4bf9f5fac)\" d=\"M 179.720625 224.64 \nL 181.413886 224.64 \nL 181.413886 31.978245 \nL 179.720625 31.978245 \nz\n\" style=\"fill:#1f77b4;\"/>\n   </g>\n   <g id=\"patch_69\">\n    <path clip-path=\"url(#pd4bf9f5fac)\" d=\"M 181.837201 224.64 \nL 183.530462 224.64 \nL 183.530462 36.218182 \nL 181.837201 36.218182 \nz\n\" style=\"fill:#1f77b4;\"/>\n   </g>\n   <g id=\"patch_70\">\n    <path clip-path=\"url(#pd4bf9f5fac)\" d=\"M 183.953777 224.64 \nL 185.647038 224.64 \nL 185.647038 41.566635 \nL 183.953777 41.566635 \nz\n\" style=\"fill:#1f77b4;\"/>\n   </g>\n   <g id=\"patch_71\">\n    <path clip-path=\"url(#pd4bf9f5fac)\" d=\"M 186.070353 224.64 \nL 187.763614 224.64 \nL 187.763614 46.667866 \nL 186.070353 46.667866 \nz\n\" style=\"fill:#1f77b4;\"/>\n   </g>\n   <g id=\"patch_72\">\n    <path clip-path=\"url(#pd4bf9f5fac)\" d=\"M 188.186929 224.64 \nL 189.88019 224.64 \nL 189.88019 51.42848 \nL 188.186929 51.42848 \nz\n\" style=\"fill:#1f77b4;\"/>\n   </g>\n   <g id=\"patch_73\">\n    <path clip-path=\"url(#pd4bf9f5fac)\" d=\"M 190.303506 224.64 \nL 191.996766 224.64 \nL 191.996766 55.756736 \nL 190.303506 55.756736 \nz\n\" style=\"fill:#1f77b4;\"/>\n   </g>\n   <g id=\"patch_74\">\n    <path clip-path=\"url(#pd4bf9f5fac)\" d=\"M 192.420082 224.64 \nL 194.113342 224.64 \nL 194.113342 59.625227 \nL 192.420082 59.625227 \nz\n\" style=\"fill:#1f77b4;\"/>\n   </g>\n   <g id=\"patch_75\">\n    <path clip-path=\"url(#pd4bf9f5fac)\" d=\"M 194.536658 224.64 \nL 196.229918 224.64 \nL 196.229918 63.202436 \nL 194.536658 63.202436 \nz\n\" style=\"fill:#1f77b4;\"/>\n   </g>\n   <g id=\"patch_76\">\n    <path clip-path=\"url(#pd4bf9f5fac)\" d=\"M 196.653234 224.64 \nL 198.346494 224.64 \nL 198.346494 66.537858 \nL 196.653234 66.537858 \nz\n\" style=\"fill:#1f77b4;\"/>\n   </g>\n   <g id=\"patch_77\">\n    <path clip-path=\"url(#pd4bf9f5fac)\" d=\"M 198.76981 224.64 \nL 200.463071 224.64 \nL 200.463071 69.589579 \nL 198.76981 69.589579 \nz\n\" style=\"fill:#1f77b4;\"/>\n   </g>\n   <g id=\"patch_78\">\n    <path clip-path=\"url(#pd4bf9f5fac)\" d=\"M 200.886386 224.64 \nL 202.579647 224.64 \nL 202.579647 72.243442 \nL 200.886386 72.243442 \nz\n\" style=\"fill:#1f77b4;\"/>\n   </g>\n   <g id=\"patch_79\">\n    <path clip-path=\"url(#pd4bf9f5fac)\" d=\"M 203.002962 224.64 \nL 204.696223 224.64 \nL 204.696223 74.498409 \nL 203.002962 74.498409 \nz\n\" style=\"fill:#1f77b4;\"/>\n   </g>\n   <g id=\"patch_80\">\n    <path clip-path=\"url(#pd4bf9f5fac)\" d=\"M 205.119538 224.64 \nL 206.812799 224.64 \nL 206.812799 76.506291 \nL 205.119538 76.506291 \nz\n\" style=\"fill:#1f77b4;\"/>\n   </g>\n   <g id=\"patch_81\">\n    <path clip-path=\"url(#pd4bf9f5fac)\" d=\"M 207.236114 224.64 \nL 208.929375 224.64 \nL 208.929375 78.319722 \nL 207.236114 78.319722 \nz\n\" style=\"fill:#1f77b4;\"/>\n   </g>\n   <g id=\"patch_82\">\n    <path clip-path=\"url(#pd4bf9f5fac)\" d=\"M 209.35269 224.64 \nL 211.045951 224.64 \nL 211.045951 79.844472 \nL 209.35269 79.844472 \nz\n\" style=\"fill:#1f77b4;\"/>\n   </g>\n   <g id=\"patch_83\">\n    <path clip-path=\"url(#pd4bf9f5fac)\" d=\"M 211.469266 224.64 \nL 213.162527 224.64 \nL 213.162527 81.031769 \nL 211.469266 81.031769 \nz\n\" style=\"fill:#1f77b4;\"/>\n   </g>\n   <g id=\"patch_84\">\n    <path clip-path=\"url(#pd4bf9f5fac)\" d=\"M 213.585842 224.64 \nL 215.279103 224.64 \nL 215.279103 82.01883 \nL 213.585842 82.01883 \nz\n\" style=\"fill:#1f77b4;\"/>\n   </g>\n   <g id=\"patch_85\">\n    <path clip-path=\"url(#pd4bf9f5fac)\" d=\"M 215.702418 224.64 \nL 217.395679 224.64 \nL 217.395679 82.893455 \nL 215.702418 82.893455 \nz\n\" style=\"fill:#1f77b4;\"/>\n   </g>\n   <g id=\"patch_86\">\n    <path clip-path=\"url(#pd4bf9f5fac)\" d=\"M 217.818994 224.64 \nL 219.512255 224.64 \nL 219.512255 83.642366 \nL 217.818994 83.642366 \nz\n\" style=\"fill:#1f77b4;\"/>\n   </g>\n   <g id=\"patch_87\">\n    <path clip-path=\"url(#pd4bf9f5fac)\" d=\"M 219.93557 224.64 \nL 221.628831 224.64 \nL 221.628831 84.28178 \nL 219.93557 84.28178 \nz\n\" style=\"fill:#1f77b4;\"/>\n   </g>\n   <g id=\"patch_88\">\n    <path clip-path=\"url(#pd4bf9f5fac)\" d=\"M 222.052146 224.64 \nL 223.745407 224.64 \nL 223.745407 84.837877 \nL 222.052146 84.837877 \nz\n\" style=\"fill:#1f77b4;\"/>\n   </g>\n   <g id=\"patch_89\">\n    <path clip-path=\"url(#pd4bf9f5fac)\" d=\"M 224.168722 224.64 \nL 225.861983 224.64 \nL 225.861983 85.081325 \nL 224.168722 85.081325 \nz\n\" style=\"fill:#1f77b4;\"/>\n   </g>\n   <g id=\"patch_90\">\n    <path clip-path=\"url(#pd4bf9f5fac)\" d=\"M 226.285298 224.64 \nL 227.978559 224.64 \nL 227.978559 84.791228 \nL 226.285298 84.791228 \nz\n\" style=\"fill:#1f77b4;\"/>\n   </g>\n   <g id=\"patch_91\">\n    <path clip-path=\"url(#pd4bf9f5fac)\" d=\"M 228.401874 224.64 \nL 230.095135 224.64 \nL 230.095135 83.816147 \nL 228.401874 83.816147 \nz\n\" style=\"fill:#1f77b4;\"/>\n   </g>\n   <g id=\"patch_92\">\n    <path clip-path=\"url(#pd4bf9f5fac)\" d=\"M 230.51845 224.64 \nL 232.211711 224.64 \nL 232.211711 81.809851 \nL 230.51845 81.809851 \nz\n\" style=\"fill:#1f77b4;\"/>\n   </g>\n   <g id=\"patch_93\">\n    <path clip-path=\"url(#pd4bf9f5fac)\" d=\"M 232.635027 224.64 \nL 234.328287 224.64 \nL 234.328287 78.875428 \nL 232.635027 78.875428 \nz\n\" style=\"fill:#1f77b4;\"/>\n   </g>\n   <g id=\"patch_94\">\n    <path clip-path=\"url(#pd4bf9f5fac)\" d=\"M 234.751603 224.64 \nL 236.444863 224.64 \nL 236.444863 75.8601 \nL 234.751603 75.8601 \nz\n\" style=\"fill:#1f77b4;\"/>\n   </g>\n   <g id=\"patch_95\">\n    <path clip-path=\"url(#pd4bf9f5fac)\" d=\"M 236.868179 224.64 \nL 238.561439 224.64 \nL 238.561439 74.18521 \nL 236.868179 74.18521 \nz\n\" style=\"fill:#1f77b4;\"/>\n   </g>\n   <g id=\"patch_96\">\n    <path clip-path=\"url(#pd4bf9f5fac)\" d=\"M 238.984755 224.64 \nL 240.678016 224.64 \nL 240.678016 74.459225 \nL 238.984755 74.459225 \nz\n\" style=\"fill:#1f77b4;\"/>\n   </g>\n   <g id=\"patch_97\">\n    <path clip-path=\"url(#pd4bf9f5fac)\" d=\"M 241.101331 224.64 \nL 242.794592 224.64 \nL 242.794592 75.75053 \nL 241.101331 75.75053 \nz\n\" style=\"fill:#1f77b4;\"/>\n   </g>\n   <g id=\"patch_98\">\n    <path clip-path=\"url(#pd4bf9f5fac)\" d=\"M 243.217907 224.64 \nL 244.911168 224.64 \nL 244.911168 76.684651 \nL 243.217907 76.684651 \nz\n\" style=\"fill:#1f77b4;\"/>\n   </g>\n   <g id=\"patch_99\">\n    <path clip-path=\"url(#pd4bf9f5fac)\" d=\"M 245.334483 224.64 \nL 247.027744 224.64 \nL 247.027744 76.715757 \nL 245.334483 76.715757 \nz\n\" style=\"fill:#1f77b4;\"/>\n   </g>\n   <g id=\"patch_100\">\n    <path clip-path=\"url(#pd4bf9f5fac)\" d=\"M 247.451059 224.64 \nL 249.14432 224.64 \nL 249.14432 76.114279 \nL 247.451059 76.114279 \nz\n\" style=\"fill:#1f77b4;\"/>\n   </g>\n   <g id=\"patch_101\">\n    <path clip-path=\"url(#pd4bf9f5fac)\" d=\"M 249.567635 224.64 \nL 251.260896 224.64 \nL 251.260896 75.212428 \nL 249.567635 75.212428 \nz\n\" style=\"fill:#1f77b4;\"/>\n   </g>\n   <g id=\"patch_102\">\n    <path clip-path=\"url(#pd4bf9f5fac)\" d=\"M 251.684211 224.64 \nL 253.377472 224.64 \nL 253.377472 74.300986 \nL 251.684211 74.300986 \nz\n\" style=\"fill:#1f77b4;\"/>\n   </g>\n   <g id=\"patch_103\">\n    <path clip-path=\"url(#pd4bf9f5fac)\" d=\"M 253.800787 224.64 \nL 255.494048 224.64 \nL 255.494048 73.498068 \nL 253.800787 73.498068 \nz\n\" style=\"fill:#1f77b4;\"/>\n   </g>\n   <g id=\"patch_104\">\n    <path clip-path=\"url(#pd4bf9f5fac)\" d=\"M 255.917363 224.64 \nL 257.610624 224.64 \nL 257.610624 72.691111 \nL 255.917363 72.691111 \nz\n\" style=\"fill:#1f77b4;\"/>\n   </g>\n   <g id=\"patch_105\">\n    <path clip-path=\"url(#pd4bf9f5fac)\" d=\"M 258.033939 224.64 \nL 259.7272 224.64 \nL 259.7272 72.003049 \nL 258.033939 72.003049 \nz\n\" style=\"fill:#1f77b4;\"/>\n   </g>\n   <g id=\"patch_106\">\n    <path clip-path=\"url(#pd4bf9f5fac)\" d=\"M 260.150515 224.64 \nL 261.843776 224.64 \nL 261.843776 71.281344 \nL 260.150515 71.281344 \nz\n\" style=\"fill:#1f77b4;\"/>\n   </g>\n   <g id=\"patch_107\">\n    <path clip-path=\"url(#pd4bf9f5fac)\" d=\"M 262.267091 224.64 \nL 263.960352 224.64 \nL 263.960352 70.512651 \nL 262.267091 70.512651 \nz\n\" style=\"fill:#1f77b4;\"/>\n   </g>\n   <g id=\"patch_108\">\n    <path clip-path=\"url(#pd4bf9f5fac)\" d=\"M 264.383667 224.64 \nL 266.076928 224.64 \nL 266.076928 69.751286 \nL 264.383667 69.751286 \nz\n\" style=\"fill:#1f77b4;\"/>\n   </g>\n   <g id=\"patch_109\">\n    <path clip-path=\"url(#pd4bf9f5fac)\" d=\"M 266.500243 224.64 \nL 268.193504 224.64 \nL 268.193504 68.765726 \nL 266.500243 68.765726 \nz\n\" style=\"fill:#1f77b4;\"/>\n   </g>\n   <g id=\"patch_110\">\n    <path clip-path=\"url(#pd4bf9f5fac)\" d=\"M 268.616819 224.64 \nL 270.31008 224.64 \nL 270.31008 67.799568 \nL 268.616819 67.799568 \nz\n\" style=\"fill:#1f77b4;\"/>\n   </g>\n   <g id=\"patch_111\">\n    <path clip-path=\"url(#pd4bf9f5fac)\" d=\"M 270.733395 224.64 \nL 272.426656 224.64 \nL 272.426656 66.672211 \nL 270.733395 66.672211 \nz\n\" style=\"fill:#1f77b4;\"/>\n   </g>\n   <g id=\"patch_112\">\n    <path clip-path=\"url(#pd4bf9f5fac)\" d=\"M 272.849972 224.64 \nL 274.543232 224.64 \nL 274.543232 65.558822 \nL 272.849972 65.558822 \nz\n\" style=\"fill:#1f77b4;\"/>\n   </g>\n   <g id=\"patch_113\">\n    <path clip-path=\"url(#pd4bf9f5fac)\" d=\"M 274.966548 224.64 \nL 276.659808 224.64 \nL 276.659808 64.173955 \nL 274.966548 64.173955 \nz\n\" style=\"fill:#1f77b4;\"/>\n   </g>\n   <g id=\"patch_114\">\n    <path clip-path=\"url(#pd4bf9f5fac)\" d=\"M 277.083124 224.64 \nL 278.776384 224.64 \nL 278.776384 62.749501 \nL 277.083124 62.749501 \nz\n\" style=\"fill:#1f77b4;\"/>\n   </g>\n   <g id=\"patch_115\">\n    <path clip-path=\"url(#pd4bf9f5fac)\" d=\"M 279.1997 224.64 \nL 280.892961 224.64 \nL 280.892961 61.298626 \nL 279.1997 61.298626 \nz\n\" style=\"fill:#1f77b4;\"/>\n   </g>\n   <g id=\"patch_116\">\n    <path clip-path=\"url(#pd4bf9f5fac)\" d=\"M 281.316276 224.64 \nL 283.009537 224.64 \nL 283.009537 60.137065 \nL 281.316276 60.137065 \nz\n\" style=\"fill:#1f77b4;\"/>\n   </g>\n   <g id=\"patch_117\">\n    <path clip-path=\"url(#pd4bf9f5fac)\" d=\"M 283.432852 224.64 \nL 285.126113 224.64 \nL 285.126113 60.366249 \nL 283.432852 60.366249 \nz\n\" style=\"fill:#1f77b4;\"/>\n   </g>\n   <g id=\"patch_118\">\n    <path clip-path=\"url(#pd4bf9f5fac)\" d=\"M 285.549428 224.64 \nL 287.242689 224.64 \nL 287.242689 62.355671 \nL 285.549428 62.355671 \nz\n\" style=\"fill:#1f77b4;\"/>\n   </g>\n   <g id=\"patch_119\">\n    <path clip-path=\"url(#pd4bf9f5fac)\" d=\"M 287.666004 224.64 \nL 289.359265 224.64 \nL 289.359265 65.193211 \nL 287.666004 65.193211 \nz\n\" style=\"fill:#1f77b4;\"/>\n   </g>\n   <g id=\"patch_120\">\n    <path clip-path=\"url(#pd4bf9f5fac)\" d=\"M 289.78258 224.64 \nL 291.475841 224.64 \nL 291.475841 67.718725 \nL 289.78258 67.718725 \nz\n\" style=\"fill:#1f77b4;\"/>\n   </g>\n   <g id=\"patch_121\">\n    <path clip-path=\"url(#pd4bf9f5fac)\" d=\"M 291.899156 224.64 \nL 293.592417 224.64 \nL 293.592417 69.35239 \nL 291.899156 69.35239 \nz\n\" style=\"fill:#1f77b4;\"/>\n   </g>\n   <g id=\"patch_122\">\n    <path clip-path=\"url(#pd4bf9f5fac)\" d=\"M 294.015732 224.64 \nL 295.708993 224.64 \nL 295.708993 70.460546 \nL 294.015732 70.460546 \nz\n\" style=\"fill:#1f77b4;\"/>\n   </g>\n   <g id=\"patch_123\">\n    <path clip-path=\"url(#pd4bf9f5fac)\" d=\"M 296.132308 224.64 \nL 297.825569 224.64 \nL 297.825569 71.208579 \nL 296.132308 71.208579 \nz\n\" style=\"fill:#1f77b4;\"/>\n   </g>\n   <g id=\"patch_124\">\n    <path clip-path=\"url(#pd4bf9f5fac)\" d=\"M 298.248884 224.64 \nL 299.942145 224.64 \nL 299.942145 71.853185 \nL 298.248884 71.853185 \nz\n\" style=\"fill:#1f77b4;\"/>\n   </g>\n   <g id=\"patch_125\">\n    <path clip-path=\"url(#pd4bf9f5fac)\" d=\"M 300.36546 224.64 \nL 302.058721 224.64 \nL 302.058721 72.492726 \nL 300.36546 72.492726 \nz\n\" style=\"fill:#1f77b4;\"/>\n   </g>\n   <g id=\"patch_126\">\n    <path clip-path=\"url(#pd4bf9f5fac)\" d=\"M 302.482036 224.64 \nL 304.175297 224.64 \nL 304.175297 73.268841 \nL 302.482036 73.268841 \nz\n\" style=\"fill:#1f77b4;\"/>\n   </g>\n   <g id=\"patch_127\">\n    <path clip-path=\"url(#pd4bf9f5fac)\" d=\"M 304.598612 224.64 \nL 306.291873 224.64 \nL 306.291873 74.448324 \nL 304.598612 74.448324 \nz\n\" style=\"fill:#1f77b4;\"/>\n   </g>\n   <g id=\"patch_128\">\n    <path clip-path=\"url(#pd4bf9f5fac)\" d=\"M 306.715188 224.64 \nL 308.408449 224.64 \nL 308.408449 76.363426 \nL 306.715188 76.363426 \nz\n\" style=\"fill:#1f77b4;\"/>\n   </g>\n   <g id=\"patch_129\">\n    <path clip-path=\"url(#pd4bf9f5fac)\" d=\"M 308.831764 224.64 \nL 310.525025 224.64 \nL 310.525025 79.454903 \nL 308.831764 79.454903 \nz\n\" style=\"fill:#1f77b4;\"/>\n   </g>\n   <g id=\"patch_130\">\n    <path clip-path=\"url(#pd4bf9f5fac)\" d=\"M 310.94834 224.64 \nL 312.641601 224.64 \nL 312.641601 84.057787 \nL 310.94834 84.057787 \nz\n\" style=\"fill:#1f77b4;\"/>\n   </g>\n   <g id=\"patch_131\">\n    <path clip-path=\"url(#pd4bf9f5fac)\" d=\"M 313.064917 224.64 \nL 314.758177 224.64 \nL 314.758177 91.818441 \nL 313.064917 91.818441 \nz\n\" style=\"fill:#1f77b4;\"/>\n   </g>\n   <g id=\"patch_132\">\n    <path clip-path=\"url(#pd4bf9f5fac)\" d=\"M 315.181493 224.64 \nL 316.874753 224.64 \nL 316.874753 102.326288 \nL 315.181493 102.326288 \nz\n\" style=\"fill:#1f77b4;\"/>\n   </g>\n   <g id=\"patch_133\">\n    <path clip-path=\"url(#pd4bf9f5fac)\" d=\"M 317.298069 224.64 \nL 318.991329 224.64 \nL 318.991329 113.557785 \nL 317.298069 113.557785 \nz\n\" style=\"fill:#1f77b4;\"/>\n   </g>\n   <g id=\"patch_134\">\n    <path clip-path=\"url(#pd4bf9f5fac)\" d=\"M 319.414645 224.64 \nL 321.107906 224.64 \nL 321.107906 123.789682 \nL 319.414645 123.789682 \nz\n\" style=\"fill:#1f77b4;\"/>\n   </g>\n   <g id=\"patch_135\">\n    <path clip-path=\"url(#pd4bf9f5fac)\" d=\"M 321.531221 224.64 \nL 323.224482 224.64 \nL 323.224482 133.101245 \nL 321.531221 133.101245 \nz\n\" style=\"fill:#1f77b4;\"/>\n   </g>\n   <g id=\"patch_136\">\n    <path clip-path=\"url(#pd4bf9f5fac)\" d=\"M 323.647797 224.64 \nL 325.341058 224.64 \nL 325.341058 142.55737 \nL 323.647797 142.55737 \nz\n\" style=\"fill:#1f77b4;\"/>\n   </g>\n   <g id=\"patch_137\">\n    <path clip-path=\"url(#pd4bf9f5fac)\" d=\"M 325.764373 224.64 \nL 327.457634 224.64 \nL 327.457634 152.821225 \nL 325.764373 152.821225 \nz\n\" style=\"fill:#1f77b4;\"/>\n   </g>\n   <g id=\"patch_138\">\n    <path clip-path=\"url(#pd4bf9f5fac)\" d=\"M 327.880949 224.64 \nL 329.57421 224.64 \nL 329.57421 164.575926 \nL 327.880949 164.575926 \nz\n\" style=\"fill:#1f77b4;\"/>\n   </g>\n   <g id=\"patch_139\">\n    <path clip-path=\"url(#pd4bf9f5fac)\" d=\"M 329.997525 224.64 \nL 331.690786 224.64 \nL 331.690786 180.236247 \nL 329.997525 180.236247 \nz\n\" style=\"fill:#1f77b4;\"/>\n   </g>\n   <g id=\"patch_140\">\n    <path clip-path=\"url(#pd4bf9f5fac)\" d=\"M 332.114101 224.64 \nL 333.807362 224.64 \nL 333.807362 193.525051 \nL 332.114101 193.525051 \nz\n\" style=\"fill:#1f77b4;\"/>\n   </g>\n   <g id=\"patch_141\">\n    <path clip-path=\"url(#pd4bf9f5fac)\" d=\"M 334.230677 224.64 \nL 335.923938 224.64 \nL 335.923938 204.67782 \nL 334.230677 204.67782 \nz\n\" style=\"fill:#1f77b4;\"/>\n   </g>\n   <g id=\"patch_142\">\n    <path clip-path=\"url(#pd4bf9f5fac)\" d=\"M 336.347253 224.64 \nL 338.040514 224.64 \nL 338.040514 213.219551 \nL 336.347253 213.219551 \nz\n\" style=\"fill:#1f77b4;\"/>\n   </g>\n   <g id=\"patch_143\">\n    <path clip-path=\"url(#pd4bf9f5fac)\" d=\"M 338.463829 224.64 \nL 340.15709 224.64 \nL 340.15709 221.192556 \nL 338.463829 221.192556 \nz\n\" style=\"fill:#1f77b4;\"/>\n   </g>\n   <g id=\"patch_144\">\n    <path clip-path=\"url(#pd4bf9f5fac)\" d=\"M 340.580405 224.64 \nL 342.273666 224.64 \nL 342.273666 224.452077 \nL 340.580405 224.452077 \nz\n\" style=\"fill:#1f77b4;\"/>\n   </g>\n   <g id=\"patch_145\">\n    <path clip-path=\"url(#pd4bf9f5fac)\" d=\"M 342.696981 224.64 \nL 344.390242 224.64 \nL 344.390242 224.64 \nL 342.696981 224.64 \nz\n\" style=\"fill:#1f77b4;\"/>\n   </g>\n   <g id=\"patch_146\">\n    <path clip-path=\"url(#pd4bf9f5fac)\" d=\"M 344.813557 224.64 \nL 346.506818 224.64 \nL 346.506818 224.64 \nL 344.813557 224.64 \nz\n\" style=\"fill:#1f77b4;\"/>\n   </g>\n   <g id=\"matplotlib.axis_1\">\n    <g id=\"xtick_1\">\n     <g id=\"line2d_1\">\n      <defs>\n       <path d=\"M 0 0 \nL 0 3.5 \n\" id=\"m1899e0e144\" style=\"stroke:#000000;stroke-width:0.8;\"/>\n      </defs>\n      <g>\n       <use style=\"stroke:#000000;stroke-width:0.8;\" x=\"42.989812\" xlink:href=\"#m1899e0e144\" y=\"224.64\"/>\n      </g>\n     </g>\n     <g id=\"text_1\">\n      <!-- 0 -->\n      <g transform=\"translate(39.808562 239.238437)scale(0.1 -0.1)\">\n       <defs>\n        <path d=\"M 31.78125 66.40625 \nQ 24.171875 66.40625 20.328125 58.90625 \nQ 16.5 51.421875 16.5 36.375 \nQ 16.5 21.390625 20.328125 13.890625 \nQ 24.171875 6.390625 31.78125 6.390625 \nQ 39.453125 6.390625 43.28125 13.890625 \nQ 47.125 21.390625 47.125 36.375 \nQ 47.125 51.421875 43.28125 58.90625 \nQ 39.453125 66.40625 31.78125 66.40625 \nz\nM 31.78125 74.21875 \nQ 44.046875 74.21875 50.515625 64.515625 \nQ 56.984375 54.828125 56.984375 36.375 \nQ 56.984375 17.96875 50.515625 8.265625 \nQ 44.046875 -1.421875 31.78125 -1.421875 \nQ 19.53125 -1.421875 13.0625 8.265625 \nQ 6.59375 17.96875 6.59375 36.375 \nQ 6.59375 54.828125 13.0625 64.515625 \nQ 19.53125 74.21875 31.78125 74.21875 \nz\n\" id=\"DejaVuSans-48\"/>\n       </defs>\n       <use xlink:href=\"#DejaVuSans-48\"/>\n      </g>\n     </g>\n    </g>\n    <g id=\"xtick_2\">\n     <g id=\"line2d_2\">\n      <g>\n       <use style=\"stroke:#000000;stroke-width:0.8;\" x=\"85.321333\" xlink:href=\"#m1899e0e144\" y=\"224.64\"/>\n      </g>\n     </g>\n     <g id=\"text_2\">\n      <!-- 20 -->\n      <g transform=\"translate(78.958833 239.238437)scale(0.1 -0.1)\">\n       <defs>\n        <path d=\"M 19.1875 8.296875 \nL 53.609375 8.296875 \nL 53.609375 0 \nL 7.328125 0 \nL 7.328125 8.296875 \nQ 12.9375 14.109375 22.625 23.890625 \nQ 32.328125 33.6875 34.8125 36.53125 \nQ 39.546875 41.84375 41.421875 45.53125 \nQ 43.3125 49.21875 43.3125 52.78125 \nQ 43.3125 58.59375 39.234375 62.25 \nQ 35.15625 65.921875 28.609375 65.921875 \nQ 23.96875 65.921875 18.8125 64.3125 \nQ 13.671875 62.703125 7.8125 59.421875 \nL 7.8125 69.390625 \nQ 13.765625 71.78125 18.9375 73 \nQ 24.125 74.21875 28.421875 74.21875 \nQ 39.75 74.21875 46.484375 68.546875 \nQ 53.21875 62.890625 53.21875 53.421875 \nQ 53.21875 48.921875 51.53125 44.890625 \nQ 49.859375 40.875 45.40625 35.40625 \nQ 44.1875 33.984375 37.640625 27.21875 \nQ 31.109375 20.453125 19.1875 8.296875 \nz\n\" id=\"DejaVuSans-50\"/>\n       </defs>\n       <use xlink:href=\"#DejaVuSans-50\"/>\n       <use x=\"63.623047\" xlink:href=\"#DejaVuSans-48\"/>\n      </g>\n     </g>\n    </g>\n    <g id=\"xtick_3\">\n     <g id=\"line2d_3\">\n      <g>\n       <use style=\"stroke:#000000;stroke-width:0.8;\" x=\"127.652854\" xlink:href=\"#m1899e0e144\" y=\"224.64\"/>\n      </g>\n     </g>\n     <g id=\"text_3\">\n      <!-- 40 -->\n      <g transform=\"translate(121.290354 239.238437)scale(0.1 -0.1)\">\n       <defs>\n        <path d=\"M 37.796875 64.3125 \nL 12.890625 25.390625 \nL 37.796875 25.390625 \nz\nM 35.203125 72.90625 \nL 47.609375 72.90625 \nL 47.609375 25.390625 \nL 58.015625 25.390625 \nL 58.015625 17.1875 \nL 47.609375 17.1875 \nL 47.609375 0 \nL 37.796875 0 \nL 37.796875 17.1875 \nL 4.890625 17.1875 \nL 4.890625 26.703125 \nz\n\" id=\"DejaVuSans-52\"/>\n       </defs>\n       <use xlink:href=\"#DejaVuSans-52\"/>\n       <use x=\"63.623047\" xlink:href=\"#DejaVuSans-48\"/>\n      </g>\n     </g>\n    </g>\n    <g id=\"xtick_4\">\n     <g id=\"line2d_4\">\n      <g>\n       <use style=\"stroke:#000000;stroke-width:0.8;\" x=\"169.984375\" xlink:href=\"#m1899e0e144\" y=\"224.64\"/>\n      </g>\n     </g>\n     <g id=\"text_4\">\n      <!-- 60 -->\n      <g transform=\"translate(163.621875 239.238437)scale(0.1 -0.1)\">\n       <defs>\n        <path d=\"M 33.015625 40.375 \nQ 26.375 40.375 22.484375 35.828125 \nQ 18.609375 31.296875 18.609375 23.390625 \nQ 18.609375 15.53125 22.484375 10.953125 \nQ 26.375 6.390625 33.015625 6.390625 \nQ 39.65625 6.390625 43.53125 10.953125 \nQ 47.40625 15.53125 47.40625 23.390625 \nQ 47.40625 31.296875 43.53125 35.828125 \nQ 39.65625 40.375 33.015625 40.375 \nz\nM 52.59375 71.296875 \nL 52.59375 62.3125 \nQ 48.875 64.0625 45.09375 64.984375 \nQ 41.3125 65.921875 37.59375 65.921875 \nQ 27.828125 65.921875 22.671875 59.328125 \nQ 17.53125 52.734375 16.796875 39.40625 \nQ 19.671875 43.65625 24.015625 45.921875 \nQ 28.375 48.1875 33.59375 48.1875 \nQ 44.578125 48.1875 50.953125 41.515625 \nQ 57.328125 34.859375 57.328125 23.390625 \nQ 57.328125 12.15625 50.6875 5.359375 \nQ 44.046875 -1.421875 33.015625 -1.421875 \nQ 20.359375 -1.421875 13.671875 8.265625 \nQ 6.984375 17.96875 6.984375 36.375 \nQ 6.984375 53.65625 15.1875 63.9375 \nQ 23.390625 74.21875 37.203125 74.21875 \nQ 40.921875 74.21875 44.703125 73.484375 \nQ 48.484375 72.75 52.59375 71.296875 \nz\n\" id=\"DejaVuSans-54\"/>\n       </defs>\n       <use xlink:href=\"#DejaVuSans-54\"/>\n       <use x=\"63.623047\" xlink:href=\"#DejaVuSans-48\"/>\n      </g>\n     </g>\n    </g>\n    <g id=\"xtick_5\">\n     <g id=\"line2d_5\">\n      <g>\n       <use style=\"stroke:#000000;stroke-width:0.8;\" x=\"212.315896\" xlink:href=\"#m1899e0e144\" y=\"224.64\"/>\n      </g>\n     </g>\n     <g id=\"text_5\">\n      <!-- 80 -->\n      <g transform=\"translate(205.953396 239.238437)scale(0.1 -0.1)\">\n       <defs>\n        <path d=\"M 31.78125 34.625 \nQ 24.75 34.625 20.71875 30.859375 \nQ 16.703125 27.09375 16.703125 20.515625 \nQ 16.703125 13.921875 20.71875 10.15625 \nQ 24.75 6.390625 31.78125 6.390625 \nQ 38.8125 6.390625 42.859375 10.171875 \nQ 46.921875 13.96875 46.921875 20.515625 \nQ 46.921875 27.09375 42.890625 30.859375 \nQ 38.875 34.625 31.78125 34.625 \nz\nM 21.921875 38.8125 \nQ 15.578125 40.375 12.03125 44.71875 \nQ 8.5 49.078125 8.5 55.328125 \nQ 8.5 64.0625 14.71875 69.140625 \nQ 20.953125 74.21875 31.78125 74.21875 \nQ 42.671875 74.21875 48.875 69.140625 \nQ 55.078125 64.0625 55.078125 55.328125 \nQ 55.078125 49.078125 51.53125 44.71875 \nQ 48 40.375 41.703125 38.8125 \nQ 48.828125 37.15625 52.796875 32.3125 \nQ 56.78125 27.484375 56.78125 20.515625 \nQ 56.78125 9.90625 50.3125 4.234375 \nQ 43.84375 -1.421875 31.78125 -1.421875 \nQ 19.734375 -1.421875 13.25 4.234375 \nQ 6.78125 9.90625 6.78125 20.515625 \nQ 6.78125 27.484375 10.78125 32.3125 \nQ 14.796875 37.15625 21.921875 38.8125 \nz\nM 18.3125 54.390625 \nQ 18.3125 48.734375 21.84375 45.5625 \nQ 25.390625 42.390625 31.78125 42.390625 \nQ 38.140625 42.390625 41.71875 45.5625 \nQ 45.3125 48.734375 45.3125 54.390625 \nQ 45.3125 60.0625 41.71875 63.234375 \nQ 38.140625 66.40625 31.78125 66.40625 \nQ 25.390625 66.40625 21.84375 63.234375 \nQ 18.3125 60.0625 18.3125 54.390625 \nz\n\" id=\"DejaVuSans-56\"/>\n       </defs>\n       <use xlink:href=\"#DejaVuSans-56\"/>\n       <use x=\"63.623047\" xlink:href=\"#DejaVuSans-48\"/>\n      </g>\n     </g>\n    </g>\n    <g id=\"xtick_6\">\n     <g id=\"line2d_6\">\n      <g>\n       <use style=\"stroke:#000000;stroke-width:0.8;\" x=\"254.647417\" xlink:href=\"#m1899e0e144\" y=\"224.64\"/>\n      </g>\n     </g>\n     <g id=\"text_6\">\n      <!-- 100 -->\n      <g transform=\"translate(245.103667 239.238437)scale(0.1 -0.1)\">\n       <defs>\n        <path d=\"M 12.40625 8.296875 \nL 28.515625 8.296875 \nL 28.515625 63.921875 \nL 10.984375 60.40625 \nL 10.984375 69.390625 \nL 28.421875 72.90625 \nL 38.28125 72.90625 \nL 38.28125 8.296875 \nL 54.390625 8.296875 \nL 54.390625 0 \nL 12.40625 0 \nz\n\" id=\"DejaVuSans-49\"/>\n       </defs>\n       <use xlink:href=\"#DejaVuSans-49\"/>\n       <use x=\"63.623047\" xlink:href=\"#DejaVuSans-48\"/>\n       <use x=\"127.246094\" xlink:href=\"#DejaVuSans-48\"/>\n      </g>\n     </g>\n    </g>\n    <g id=\"xtick_7\">\n     <g id=\"line2d_7\">\n      <g>\n       <use style=\"stroke:#000000;stroke-width:0.8;\" x=\"296.978939\" xlink:href=\"#m1899e0e144\" y=\"224.64\"/>\n      </g>\n     </g>\n     <g id=\"text_7\">\n      <!-- 120 -->\n      <g transform=\"translate(287.435189 239.238437)scale(0.1 -0.1)\">\n       <use xlink:href=\"#DejaVuSans-49\"/>\n       <use x=\"63.623047\" xlink:href=\"#DejaVuSans-50\"/>\n       <use x=\"127.246094\" xlink:href=\"#DejaVuSans-48\"/>\n      </g>\n     </g>\n    </g>\n    <g id=\"xtick_8\">\n     <g id=\"line2d_8\">\n      <g>\n       <use style=\"stroke:#000000;stroke-width:0.8;\" x=\"339.31046\" xlink:href=\"#m1899e0e144\" y=\"224.64\"/>\n      </g>\n     </g>\n     <g id=\"text_8\">\n      <!-- 140 -->\n      <g transform=\"translate(329.76671 239.238437)scale(0.1 -0.1)\">\n       <use xlink:href=\"#DejaVuSans-49\"/>\n       <use x=\"63.623047\" xlink:href=\"#DejaVuSans-52\"/>\n       <use x=\"127.246094\" xlink:href=\"#DejaVuSans-48\"/>\n      </g>\n     </g>\n    </g>\n   </g>\n   <g id=\"matplotlib.axis_2\">\n    <g id=\"ytick_1\">\n     <g id=\"line2d_9\">\n      <defs>\n       <path d=\"M 0 0 \nL -3.5 0 \n\" id=\"m6b18caeefd\" style=\"stroke:#000000;stroke-width:0.8;\"/>\n      </defs>\n      <g>\n       <use style=\"stroke:#000000;stroke-width:0.8;\" x=\"26.925\" xlink:href=\"#m6b18caeefd\" y=\"224.64\"/>\n      </g>\n     </g>\n     <g id=\"text_9\">\n      <!-- 0 -->\n      <g transform=\"translate(13.5625 228.439219)scale(0.1 -0.1)\">\n       <use xlink:href=\"#DejaVuSans-48\"/>\n      </g>\n     </g>\n    </g>\n    <g id=\"ytick_2\">\n     <g id=\"line2d_10\">\n      <g>\n       <use style=\"stroke:#000000;stroke-width:0.8;\" x=\"26.925\" xlink:href=\"#m6b18caeefd\" y=\"196.922992\"/>\n      </g>\n     </g>\n     <g id=\"text_10\">\n      <!-- 5 -->\n      <g transform=\"translate(13.5625 200.72221)scale(0.1 -0.1)\">\n       <defs>\n        <path d=\"M 10.796875 72.90625 \nL 49.515625 72.90625 \nL 49.515625 64.59375 \nL 19.828125 64.59375 \nL 19.828125 46.734375 \nQ 21.96875 47.46875 24.109375 47.828125 \nQ 26.265625 48.1875 28.421875 48.1875 \nQ 40.625 48.1875 47.75 41.5 \nQ 54.890625 34.8125 54.890625 23.390625 \nQ 54.890625 11.625 47.5625 5.09375 \nQ 40.234375 -1.421875 26.90625 -1.421875 \nQ 22.3125 -1.421875 17.546875 -0.640625 \nQ 12.796875 0.140625 7.71875 1.703125 \nL 7.71875 11.625 \nQ 12.109375 9.234375 16.796875 8.0625 \nQ 21.484375 6.890625 26.703125 6.890625 \nQ 35.15625 6.890625 40.078125 11.328125 \nQ 45.015625 15.765625 45.015625 23.390625 \nQ 45.015625 31 40.078125 35.4375 \nQ 35.15625 39.890625 26.703125 39.890625 \nQ 22.75 39.890625 18.8125 39.015625 \nQ 14.890625 38.140625 10.796875 36.28125 \nz\n\" id=\"DejaVuSans-53\"/>\n       </defs>\n       <use xlink:href=\"#DejaVuSans-53\"/>\n      </g>\n     </g>\n    </g>\n    <g id=\"ytick_3\">\n     <g id=\"line2d_11\">\n      <g>\n       <use style=\"stroke:#000000;stroke-width:0.8;\" x=\"26.925\" xlink:href=\"#m6b18caeefd\" y=\"169.205983\"/>\n      </g>\n     </g>\n     <g id=\"text_11\">\n      <!-- 10 -->\n      <g transform=\"translate(7.2 173.005202)scale(0.1 -0.1)\">\n       <use xlink:href=\"#DejaVuSans-49\"/>\n       <use x=\"63.623047\" xlink:href=\"#DejaVuSans-48\"/>\n      </g>\n     </g>\n    </g>\n    <g id=\"ytick_4\">\n     <g id=\"line2d_12\">\n      <g>\n       <use style=\"stroke:#000000;stroke-width:0.8;\" x=\"26.925\" xlink:href=\"#m6b18caeefd\" y=\"141.488975\"/>\n      </g>\n     </g>\n     <g id=\"text_12\">\n      <!-- 15 -->\n      <g transform=\"translate(7.2 145.288194)scale(0.1 -0.1)\">\n       <use xlink:href=\"#DejaVuSans-49\"/>\n       <use x=\"63.623047\" xlink:href=\"#DejaVuSans-53\"/>\n      </g>\n     </g>\n    </g>\n    <g id=\"ytick_5\">\n     <g id=\"line2d_13\">\n      <g>\n       <use style=\"stroke:#000000;stroke-width:0.8;\" x=\"26.925\" xlink:href=\"#m6b18caeefd\" y=\"113.771967\"/>\n      </g>\n     </g>\n     <g id=\"text_13\">\n      <!-- 20 -->\n      <g transform=\"translate(7.2 117.571185)scale(0.1 -0.1)\">\n       <use xlink:href=\"#DejaVuSans-50\"/>\n       <use x=\"63.623047\" xlink:href=\"#DejaVuSans-48\"/>\n      </g>\n     </g>\n    </g>\n    <g id=\"ytick_6\">\n     <g id=\"line2d_14\">\n      <g>\n       <use style=\"stroke:#000000;stroke-width:0.8;\" x=\"26.925\" xlink:href=\"#m6b18caeefd\" y=\"86.054958\"/>\n      </g>\n     </g>\n     <g id=\"text_14\">\n      <!-- 25 -->\n      <g transform=\"translate(7.2 89.854177)scale(0.1 -0.1)\">\n       <use xlink:href=\"#DejaVuSans-50\"/>\n       <use x=\"63.623047\" xlink:href=\"#DejaVuSans-53\"/>\n      </g>\n     </g>\n    </g>\n    <g id=\"ytick_7\">\n     <g id=\"line2d_15\">\n      <g>\n       <use style=\"stroke:#000000;stroke-width:0.8;\" x=\"26.925\" xlink:href=\"#m6b18caeefd\" y=\"58.33795\"/>\n      </g>\n     </g>\n     <g id=\"text_15\">\n      <!-- 30 -->\n      <g transform=\"translate(7.2 62.137169)scale(0.1 -0.1)\">\n       <defs>\n        <path d=\"M 40.578125 39.3125 \nQ 47.65625 37.796875 51.625 33 \nQ 55.609375 28.21875 55.609375 21.1875 \nQ 55.609375 10.40625 48.1875 4.484375 \nQ 40.765625 -1.421875 27.09375 -1.421875 \nQ 22.515625 -1.421875 17.65625 -0.515625 \nQ 12.796875 0.390625 7.625 2.203125 \nL 7.625 11.71875 \nQ 11.71875 9.328125 16.59375 8.109375 \nQ 21.484375 6.890625 26.8125 6.890625 \nQ 36.078125 6.890625 40.9375 10.546875 \nQ 45.796875 14.203125 45.796875 21.1875 \nQ 45.796875 27.640625 41.28125 31.265625 \nQ 36.765625 34.90625 28.71875 34.90625 \nL 20.21875 34.90625 \nL 20.21875 43.015625 \nL 29.109375 43.015625 \nQ 36.375 43.015625 40.234375 45.921875 \nQ 44.09375 48.828125 44.09375 54.296875 \nQ 44.09375 59.90625 40.109375 62.90625 \nQ 36.140625 65.921875 28.71875 65.921875 \nQ 24.65625 65.921875 20.015625 65.03125 \nQ 15.375 64.15625 9.8125 62.3125 \nL 9.8125 71.09375 \nQ 15.4375 72.65625 20.34375 73.4375 \nQ 25.25 74.21875 29.59375 74.21875 \nQ 40.828125 74.21875 47.359375 69.109375 \nQ 53.90625 64.015625 53.90625 55.328125 \nQ 53.90625 49.265625 50.4375 45.09375 \nQ 46.96875 40.921875 40.578125 39.3125 \nz\n\" id=\"DejaVuSans-51\"/>\n       </defs>\n       <use xlink:href=\"#DejaVuSans-51\"/>\n       <use x=\"63.623047\" xlink:href=\"#DejaVuSans-48\"/>\n      </g>\n     </g>\n    </g>\n    <g id=\"ytick_8\">\n     <g id=\"line2d_16\">\n      <g>\n       <use style=\"stroke:#000000;stroke-width:0.8;\" x=\"26.925\" xlink:href=\"#m6b18caeefd\" y=\"30.620942\"/>\n      </g>\n     </g>\n     <g id=\"text_16\">\n      <!-- 35 -->\n      <g transform=\"translate(7.2 34.420161)scale(0.1 -0.1)\">\n       <use xlink:href=\"#DejaVuSans-51\"/>\n       <use x=\"63.623047\" xlink:href=\"#DejaVuSans-53\"/>\n      </g>\n     </g>\n    </g>\n   </g>\n   <g id=\"patch_147\">\n    <path d=\"M 26.925 224.64 \nL 26.925 7.2 \n\" style=\"fill:none;stroke:#000000;stroke-linecap:square;stroke-linejoin:miter;stroke-width:0.8;\"/>\n   </g>\n   <g id=\"patch_148\">\n    <path d=\"M 361.725 224.64 \nL 361.725 7.2 \n\" style=\"fill:none;stroke:#000000;stroke-linecap:square;stroke-linejoin:miter;stroke-width:0.8;\"/>\n   </g>\n   <g id=\"patch_149\">\n    <path d=\"M 26.925 224.64 \nL 361.725 224.64 \n\" style=\"fill:none;stroke:#000000;stroke-linecap:square;stroke-linejoin:miter;stroke-width:0.8;\"/>\n   </g>\n   <g id=\"patch_150\">\n    <path d=\"M 26.925 7.2 \nL 361.725 7.2 \n\" style=\"fill:none;stroke:#000000;stroke-linecap:square;stroke-linejoin:miter;stroke-width:0.8;\"/>\n   </g>\n  </g>\n </g>\n <defs>\n  <clipPath id=\"pd4bf9f5fac\">\n   <rect height=\"217.44\" width=\"334.8\" x=\"26.925\" y=\"7.2\"/>\n  </clipPath>\n </defs>\n</svg>\n",
      "image/png": "[encoded data removed]"
     },
     "metadata": {
      "needs_background": "light"
     }
    }
   ],
   "source": [
    "# Plot the mean values of images from day 1 to see night images\n",
    "\n",
    "dataset = SatelliteImagesDataset(root_dir='data/images/dia_1')\n",
    "\n",
    "mean_vals = []\n",
    "for i, sample in enumerate(dataset):\n",
    "    mean_vals.append(np.mean(sample['image']))\n",
    "    \n",
    "#print(mean_vals)\n",
    "\n",
    "fig, ax = plt.subplots()\n",
    "\n",
    "plt.bar([i for i in range(len(mean_vals))], mean_vals)"
   ]
  },
  {
   "cell_type": "code",
   "execution_count": 38,
   "metadata": {
    "tags": []
   },
   "outputs": [
    {
     "output_type": "stream",
     "name": "stdout",
     "text": [
      "     Images per day                     Ordered list of images per dar  \\\n1               144  [ART_2020001_000021.FR, ART_2020001_001021.FR,...   \n2               144  [ART_2020002_000021.FR, ART_2020002_001021.FR,...   \n3               144  [ART_2020003_000021.FR, ART_2020003_001021.FR,...   \n4               144  [ART_2020004_000021.FR, ART_2020004_001021.FR,...   \n5               144  [ART_2020005_000021.FR, ART_2020005_001021.FR,...   \n..              ...                                                ...   \n362             144  [ART_2020362_000021.FR, ART_2020362_001021.FR,...   \n363             144  [ART_2020363_000021.FR, ART_2020363_001021.FR,...   \n364             144  [ART_2020364_000021.FR, ART_2020364_001021.FR,...   \n365             144  [ART_2020365_000021.FR, ART_2020365_001021.FR,...   \n366             144  [ART_2020366_000021.FR, ART_2020366_001021.FR,...   \n\n                                     Black images list  \n1    [ART_2020001_000021.FR, ART_2020001_001021.FR,...  \n2    [ART_2020002_000021.FR, ART_2020002_001021.FR,...  \n3    [ART_2020003_000021.FR, ART_2020003_001021.FR,...  \n4    [ART_2020004_000021.FR, ART_2020004_001021.FR,...  \n5    [ART_2020005_000021.FR, ART_2020005_001021.FR,...  \n..                                                 ...  \n362  [ART_2020362_000021.FR, ART_2020362_001021.FR,...  \n363  [ART_2020363_000021.FR, ART_2020363_001021.FR,...  \n364  [ART_2020364_000021.FR, ART_2020364_001021.FR,...  \n365  [ART_2020365_000021.FR, ART_2020365_001021.FR,...  \n366  [ART_2020366_000021.FR, ART_2020366_001021.FR,...  \n\n[366 rows x 3 columns]\n"
     ]
    }
   ],
   "source": [
    "# This cell counts the amout of images with mean value cero by day of the 2020 dataset\n",
    "\n",
    "## Do not uncomment these lines, took around 5 hours to complete\n",
    "# tot_black_imgs = 0\n",
    "# black_imgs_col_dt = []\n",
    "# nthday_black_imgs_list = []\n",
    "# for day in dataset_df.index: # starts at 1\n",
    "#     for img_name in dataset_df.iloc[day-1][1]:\n",
    "#         image = load_img(meta_path='/solar/sat/art-rrr/ART_G010x010RR_C010x010/meta',\n",
    "#                         img_name=img_name,\n",
    "#                         mk_folder_path='/solar/sat/art-rrr/ART_G010x010RR_C010x010/C02-MK/2020',\n",
    "#                         img_folder_path='/solar/sat/art-rrr/ART_G010x010RR_C010x010/C02-FR/2020')\n",
    "#         if np.mean(image) == 0:\n",
    "#             tot_black_imgs += 1\n",
    "#             nthday_black_imgs_list.append(img_name)\n",
    "#     black_imgs_col_dt.append(nthday_black_imgs_list)\n",
    "#     nthday_black_imgs_list = []\n",
    "\n",
    "# dataset_df['Black images list'] = black_imgs_col_dt\n",
    "print(dataset_df)\n",
    "\n"
   ]
  },
  {
   "cell_type": "code",
   "execution_count": 2,
   "metadata": {},
   "outputs": [
    {
     "output_type": "stream",
     "name": "stdout",
     "text": [
      "Amount of images with zero mean:  23126  ~ 45.15121341689608 %\nTotal 2020 images:  51219\nImages with non zero mean: 28093\n"
     ]
    }
   ],
   "source": [
    "tot_2020_imgs = len(os.listdir('/solar/sat/art-rrr/ART_G010x010RR_C010x010/C02-FR/2020'))\n",
    "print(\"Amount of images with zero mean: \", tot_black_imgs, ' ~ ', tot_black_imgs/tot_2020_imgs*100, '%')\n",
    "print(\"Total 2020 images: \", tot_2020_imgs)\n",
    "print('Images with non zero mean:', tot_2020_imgs - tot_black_imgs)"
   ]
  },
  {
   "cell_type": "code",
   "execution_count": 9,
   "metadata": {
    "tags": []
   },
   "outputs": [],
   "source": [
    "# I will take one picture of each day to grab one with no clouds to do the regions\n",
    "\n",
    "dataset_df = pd.read_csv('reports/dataset_2020.csv')\n",
    "\n",
    "img_90th_lst = []\n",
    "for nth_day in  dataset_df['Ordered list of images per dar']:\n",
    "    if len(nth_day.split(', ')) >= 91: # horrible, gotta fix this\n",
    "        img_90th_lst.append(nth_day.split(', ')[90].replace(\"'\", \"\"))\n",
    "\n",
    "for day_minus_1, img_name in enumerate(img_90th_lst):\n",
    "    image = load_img(meta_path='/solar/sat/art-rrr/ART_G010x010RR_C010x010/meta',\n",
    "                    img_name=img_name,\n",
    "                    mk_folder_path='/solar/sat/art-rrr/ART_G010x010RR_C010x010/C02-MK/2020',\n",
    "                    img_folder_path='/solar/sat/art-rrr/ART_G010x010RR_C010x010/C02-FR/2020')\n",
    "    \n",
    "    cv.imwrite('data/images/1_img4_each_day/' + str(img_name.replace(\".FR\", \".png\")), image)"
   ]
  }
 ]
}