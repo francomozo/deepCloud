{
 "cells": [
  {
   "cell_type": "code",
   "execution_count": 1,
   "id": "freelance-invitation",
   "metadata": {},
   "outputs": [],
   "source": [
    "import cv2 as cv\n",
    "import numpy as np\n",
    "import os\n",
    "import re\n",
    "import src.lib.preprocessing_functions as pf\n",
    "import src.data as data"
   ]
  },
  {
   "cell_type": "code",
   "execution_count": 3,
   "metadata": {},
   "outputs": [],
   "source": [
    "#data.save_imgs_2npy()\n"
   ]
  },
  {
   "cell_type": "code",
   "execution_count": 2,
   "metadata": {},
   "outputs": [],
   "source": [
    "#images, _ = data.load_images_from_folder('data/images/dia_20')\n",
    "\n"
   ]
  },
  {
   "cell_type": "code",
   "execution_count": 2,
   "metadata": {},
   "outputs": [
    {
     "output_type": "stream",
     "name": "stdout",
     "text": [
      "[datetime.datetime(2020, 10, 3, 0, 0, 19), datetime.datetime(2020, 10, 3, 0, 10, 19), datetime.datetime(2020, 10, 3, 0, 20, 19), datetime.datetime(2020, 10, 3, 0, 30, 19), datetime.datetime(2020, 10, 3, 0, 40, 19), datetime.datetime(2020, 10, 3, 0, 50, 19), datetime.datetime(2020, 10, 3, 1, 0, 19), datetime.datetime(2020, 10, 3, 1, 10, 19), datetime.datetime(2020, 10, 3, 1, 20, 19), datetime.datetime(2020, 10, 3, 1, 30, 19), datetime.datetime(2020, 10, 3, 1, 40, 19)]\nART_2020277_014019.npy\n"
     ]
    }
   ],
   "source": [
    "images, time_stamps = [], []\n",
    "\n",
    "images, time_stamps, last_img_filename = data.load_by_batches('data/images/dia_277', images, time_stamps, 10, \"\")\n",
    "print(time_stamps)\n",
    "print(last_img_filename)"
   ]
  },
  {
   "cell_type": "code",
   "execution_count": 15,
   "metadata": {},
   "outputs": [
    {
     "output_type": "stream",
     "name": "stdout",
     "text": [
      "[datetime.datetime(2020, 10, 3, 2, 10, 19), datetime.datetime(2020, 10, 3, 2, 20, 19), datetime.datetime(2020, 10, 3, 2, 30, 19), datetime.datetime(2020, 10, 3, 2, 40, 19), datetime.datetime(2020, 10, 3, 2, 50, 19), datetime.datetime(2020, 10, 3, 3, 0, 19), datetime.datetime(2020, 10, 3, 3, 10, 19), datetime.datetime(2020, 10, 3, 3, 20, 19), datetime.datetime(2020, 10, 3, 3, 30, 19), datetime.datetime(2020, 10, 3, 3, 40, 19), datetime.datetime(2020, 10, 3, 3, 50, 19)]\nART_2020277_035019.npy\n"
     ]
    }
   ],
   "source": [
    "images, time_stamps, last_img_filename = data.load_by_batches('data/images/dia_277', images, time_stamps, 10, last_img_filename)\n",
    "print(time_stamps)\n",
    "print(last_img_filename)\n",
    "\n"
   ]
  }
 ],
 "metadata": {
  "kernelspec": {
   "name": "python379jvsc74a57bd01692869be86ba92b40af78df7642a376ccb4e2a90936faa17e1baa3df23cdb05",
   "display_name": "Python 3.7.9 64-bit ('deepCloud': conda)"
  },
  "language_info": {
   "codemirror_mode": {
    "name": "ipython",
    "version": 3
   },
   "file_extension": ".py",
   "mimetype": "text/x-python",
   "name": "python",
   "nbconvert_exporter": "python",
   "pygments_lexer": "ipython3",
   "version": "3.7.9"
  }
 },
 "nbformat": 4,
 "nbformat_minor": 5
}